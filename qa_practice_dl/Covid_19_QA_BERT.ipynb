{
  "nbformat": 4,
  "nbformat_minor": 0,
  "metadata": {
    "colab": {
      "name": "Covid-19 QA-BERT.ipynb",
      "provenance": [],
      "collapsed_sections": [],
      "toc_visible": true
    },
    "kernelspec": {
      "name": "python3",
      "display_name": "Python 3"
    },
    "accelerator": "GPU"
  },
  "cells": [
    {
      "cell_type": "markdown",
      "metadata": {
        "id": "3xsQl0aprHwM"
      },
      "source": [
        "# Introduction\n",
        "\n",
        "In this notebook we are going to implement a Question Answering system leveraging **BERT-SQuAD**.\n",
        "\n",
        "**BERT-SQuAD** is a BERT model fine-tuned for the SQuAD (Stanford Question Answering Dataset) dataset. SQuAD is a reading comprehension dataset, consisting of questions posed by crowdworkers on a set of Wikipedia articles, where the answer to every question is a segment of text, or span, from the corresponding reading passage, or the question might be unanswerable.\n",
        "\n",
        "In layman terms, as we explained in the language modeling session, BERT is a language model that is able to understand English and BERT-SQuAD is the same model, but now fine tuned to know how to answer questions (i.e., learn the nuances related to answering questions, such as focus on the entities of the question to provide the answer). For a more detailed description of the model, please refer to the original Stanford paper: https://web.stanford.edu/class/cs224n/reports/default/15848021.pdf\n",
        "\n",
        "In particular, we are going to apply this model to a scenario that is, sadly, very topical nowadays. To answer questions about the COVID-19. In response to the COVID-19 pandemic, the White House and a coalition of leading research groups have prepared the COVID-19 Open Research Dataset (CORD-19).\n",
        "CORD-19 is a resource of over 200,000 scholarly articles, including over 100,000 with full text, about COVID-19, SARS-CoV-2, and related coronaviruses. For more information, please refer to: https://www.kaggle.com/allen-institute-for-ai/CORD-19-research-challenge\n",
        "\n",
        "Together with the CORD-19 dataset, a groups of tasks (or questions) have been released: https://www.kaggle.com/allen-institute-for-ai/CORD-19-research-challenge/tasks. What we are trying to do is to, leveraging the BERT-SQuAD model, \"read\" the 200K articles and answer the questions.\n",
        "\n"
      ]
    },
    {
      "cell_type": "markdown",
      "metadata": {
        "id": "aGcFZQBrWcJf"
      },
      "source": [
        "Install the required environment and path."
      ]
    },
    {
      "cell_type": "code",
      "metadata": {
        "id": "8t6JCqBh5dT7",
        "trusted": true,
        "_kg_hide-output": true,
        "_kg_hide-input": true
      },
      "source": [
        "!pip install tqdm\n",
        "!pip install transformers\n",
        "!pip install ktrain"
      ],
      "execution_count": null,
      "outputs": []
    },
    {
      "cell_type": "code",
      "metadata": {
        "id": "sbFAmvOIrqJq",
        "colab": {
          "base_uri": "https://localhost:8080/"
        },
        "outputId": "925b5c0b-3b3d-489e-ab78-5b5e07f077cc"
      },
      "source": [
        "from google.colab import drive\n",
        "drive.mount('/content/drive')"
      ],
      "execution_count": 1,
      "outputs": [
        {
          "output_type": "stream",
          "text": [
            "Mounted at /content/drive\n"
          ],
          "name": "stdout"
        }
      ]
    },
    {
      "cell_type": "code",
      "metadata": {
        "trusted": true,
        "_kg_hide-input": true,
        "_kg_hide-output": true,
        "id": "ewurI0J-s-rE"
      },
      "source": [
        "# ! mkdir '/content/drive/My Drive/covid-kaggle/input'"
      ],
      "execution_count": null,
      "outputs": []
    },
    {
      "cell_type": "markdown",
      "metadata": {
        "id": "60z24nrCrHw8"
      },
      "source": [
        "# Data Download\n",
        "\n",
        "Let's download the dataset from Kaggle, please be aware that the dataset is large and this step could take a while.\n",
        "\n",
        "Once downloaded the zip file, we are going to unzip it to create the folder structure with the different sources and the related articles\n"
      ]
    },
    {
      "cell_type": "code",
      "metadata": {
        "id": "RtmUCLBHva0-"
      },
      "source": [
        "# ! unzip -qq '/content/drive/My Drive/covid-kaggle/input/CORD-19-research-challenge.zip' -d '/content/drive/My Drive/covid-kaggle/input/'"
      ],
      "execution_count": null,
      "outputs": []
    },
    {
      "cell_type": "code",
      "metadata": {
        "id": "Ak8u_8K5YnAC",
        "trusted": true,
        "_kg_hide-input": true,
        "_kg_hide-output": true
      },
      "source": [
        "# Paths to json files\n",
        "path_1 = '/content/drive/My Drive/covid-kaggle/input/biorxiv_medrxiv/biorxiv_medrxiv/pdf_json/'\n",
        "path_2 = '/content/drive/My Drive/covid-kaggle/input/comm_use_subset/comm_use_subset/pdf_json/'\n",
        "path_3 = '/content/drive/My Drive/covid-kaggle/input/noncomm_use_subset/noncomm_use_subset/pdf_json/'\n",
        "path_4 = '/content/drive/My Drive/covid-kaggle/input/custom_license/custom_license/pdf_json/'\n",
        "\n",
        "# List of folder names\n",
        "folder_names = ['biorxiv_medrxiv','comm_use_subset']\n",
        "data_path = [path_1, path_2, path_3, path_4]\n",
        "# data_path = [path_1]"
      ],
      "execution_count": null,
      "outputs": []
    },
    {
      "cell_type": "markdown",
      "metadata": {
        "id": "DK4JHsafm8AT"
      },
      "source": [
        "Import the required library."
      ]
    },
    {
      "cell_type": "code",
      "metadata": {
        "id": "Y7F94y2wOi34",
        "trusted": true,
        "_kg_hide-input": true,
        "_kg_hide-output": true,
        "colab": {
          "base_uri": "https://localhost:8080/",
          "height": 51
        },
        "outputId": "ffdecf78-7af1-4e46-ac68-d52e843124e2"
      },
      "source": [
        "import numpy as np\n",
        "import pandas as pd\n",
        "import matplotlib.pyplot as plt\n",
        "import os\n",
        "import json\n",
        "import nltk\n",
        "nltk.download('punkt')\n",
        "from math import log, sqrt\n",
        "from collections import defaultdict\n",
        "from copy import deepcopy\n",
        "from tqdm import tqdm\n",
        "from IPython.core.display import display, HTML"
      ],
      "execution_count": null,
      "outputs": [
        {
          "output_type": "stream",
          "text": [
            "[nltk_data] Downloading package punkt to /root/nltk_data...\n",
            "[nltk_data]   Unzipping tokenizers/punkt.zip.\n"
          ],
          "name": "stdout"
        }
      ]
    },
    {
      "cell_type": "markdown",
      "metadata": {
        "id": "9MftGsXCGdN_"
      },
      "source": [
        "If you navigate the folder structure that has been created, you will see that the articles are provided as JSON files.\n",
        "\n",
        "The following functions allow the extraction of data from the JSONs to the dataframes"
      ]
    },
    {
      "cell_type": "code",
      "metadata": {
        "id": "JE23vnQZ9jCh",
        "trusted": true,
        "_kg_hide-input": true,
        "_kg_hide-output": true,
        "colab": {
          "base_uri": "https://localhost:8080/",
          "height": 221
        },
        "outputId": "8b742bfc-23d4-421e-f64e-ff79b72725d6"
      },
      "source": [
        "# Extraction of data from json format to dataframe \n",
        "def format_name(author):\n",
        "    middle_name = \" \".join(author['middle'])\n",
        "    if author['middle']:\n",
        "        return \" \".join([author['first'], middle_name, author['last']])\n",
        "    else:\n",
        "        return \" \".join([author['first'], author['last']])\n",
        "\n",
        "def format_affiliation(affiliation):\n",
        "    text = []\n",
        "    location = affiliation.get('location')\n",
        "    if location:\n",
        "        text.extend(list(affiliation['location'].values()))\n",
        "    institution = affiliation.get('institution')\n",
        "    if institution:\n",
        "        text = [institution] + text\n",
        "    return \", \".join(text)\n",
        "\n",
        "def format_authors(authors, with_affiliation=False):\n",
        "    name_ls = []\n",
        "    for author in authors:\n",
        "        name = format_name(author)\n",
        "        if with_affiliation:\n",
        "            affiliation = format_affiliation(author['affiliation'])\n",
        "            if affiliation:\n",
        "                name_ls.append(f\"{name} ({affiliation})\")\n",
        "            else:\n",
        "                name_ls.append(name)\n",
        "        else:\n",
        "            name_ls.append(name)\n",
        "    return \", \".join(name_ls)\n",
        "\n",
        "def format_body(body_text):\n",
        "    texts = [(di['section'], di['text']) for di in body_text]\n",
        "    texts_di = {di['section']: \"\" for di in body_text}\n",
        "    for section, text in texts:\n",
        "        texts_di[section] += text\n",
        "    body = \"\"\n",
        "    for section, text in texts_di.items():\n",
        "        body += section\n",
        "        body += \"\\n\\n\"\n",
        "        body += text\n",
        "        body += \"\\n\\n\"\n",
        "    return body\n",
        "\n",
        "def format_bib(bibs):\n",
        "    if type(bibs) == dict:\n",
        "        bibs = list(bibs.values())\n",
        "    bibs = deepcopy(bibs)\n",
        "    formatted = []\n",
        "    for bib in bibs:\n",
        "        bib['authors'] = format_authors(\n",
        "            bib['authors'], \n",
        "            with_affiliation=False\n",
        "        )\n",
        "        formatted_ls = [str(bib[k]) for k in ['title', 'authors', 'venue', 'year']]\n",
        "        formatted.append(\", \".join(formatted_ls))\n",
        "    return \"; \".join(formatted)\n",
        "\n",
        "def load_files(dirname, filename=None):\n",
        "    filenames = os.listdir(dirname)\n",
        "    raw_files = []\n",
        "    if filename:\n",
        "        filename = dirname + filename\n",
        "        raw_files = [json.load(open(filename, 'rb'))]\n",
        "    else:\n",
        "        for filename in tqdm(filenames):\n",
        "            filename = dirname + filename\n",
        "            file = json.load(open(filename, 'rb'))\n",
        "            raw_files.append(file)\n",
        "    return raw_files\n",
        "\n",
        "def generate_clean_df(all_files):\n",
        "    cleaned_files = []\n",
        "    \n",
        "    for file in tqdm(all_files):\n",
        "        features = [\n",
        "            file['paper_id'],\n",
        "            file['metadata']['title'],\n",
        "            format_authors(file['metadata']['authors']),\n",
        "            format_authors(file['metadata']['authors'], \n",
        "                           with_affiliation=True),\n",
        "            format_body(file['abstract']),\n",
        "            format_body(file['body_text']),\n",
        "            format_bib(file['bib_entries']),\n",
        "            file['metadata']['authors'],\n",
        "            file['bib_entries']\n",
        "        ]\n",
        "\n",
        "        cleaned_files.append(features)\n",
        "\n",
        "    col_names = ['paper_id', 'title', 'authors',\n",
        "                 'affiliations', 'abstract', 'text', \n",
        "                 'bibliography','raw_authors','raw_bibliography']\n",
        "\n",
        "    clean_df = pd.DataFrame(cleaned_files, columns=col_names)\n",
        "    clean_df = clean_df.drop(columns=['authors','affiliations','bibliography',\n",
        "                                      'raw_authors','raw_bibliography'])\n",
        "    return clean_df\n",
        "\n",
        "# Data conversion from dataframe to 2 lists\n",
        "def df2list(dir_path = data_path):\n",
        "  corpus = []\n",
        "  paper_id = []\n",
        "  for dp in dir_path:\n",
        "    filenames = os.listdir(dp)\n",
        "    print('Number of articles retrieved:', len(filenames))\n",
        "    files = load_files(dp)\n",
        "    df = generate_clean_df(files)\n",
        "    corpus.extend(list(df['title'] + ' ' + df['abstract'] + ' ' + df['text']))\n",
        "    paper_id.extend(list(df['paper_id']))\n",
        "  return corpus, paper_id\n",
        "\n",
        "corpus, paper_id = df2list()\n",
        "\n",
        "\n"
      ],
      "execution_count": null,
      "outputs": [
        {
          "output_type": "stream",
          "text": [
            "  3%|▎         | 42/1625 [00:00<00:03, 418.38it/s]"
          ],
          "name": "stderr"
        },
        {
          "output_type": "stream",
          "text": [
            "Number of articles retrieved: 1625\n"
          ],
          "name": "stdout"
        },
        {
          "output_type": "stream",
          "text": [
            "100%|██████████| 1625/1625 [00:05<00:00, 322.09it/s]\n",
            "100%|██████████| 1625/1625 [00:02<00:00, 682.98it/s]\n",
            "  0%|          | 22/9524 [00:00<00:49, 190.99it/s]"
          ],
          "name": "stderr"
        },
        {
          "output_type": "stream",
          "text": [
            "Number of articles retrieved: 9524\n"
          ],
          "name": "stdout"
        },
        {
          "output_type": "stream",
          "text": [
            "100%|██████████| 9524/9524 [00:47<00:00, 199.93it/s]\n",
            "100%|██████████| 9524/9524 [00:33<00:00, 282.90it/s]\n",
            "  1%|▏         | 33/2490 [00:00<00:08, 292.13it/s]"
          ],
          "name": "stderr"
        },
        {
          "output_type": "stream",
          "text": [
            "Number of articles retrieved: 2490\n"
          ],
          "name": "stdout"
        },
        {
          "output_type": "stream",
          "text": [
            "100%|██████████| 2490/2490 [00:07<00:00, 312.76it/s]\n",
            "100%|██████████| 2490/2490 [00:06<00:00, 375.14it/s]\n",
            "  0%|          | 0/26505 [00:00<?, ?it/s]"
          ],
          "name": "stderr"
        },
        {
          "output_type": "stream",
          "text": [
            "Number of articles retrieved: 26505\n"
          ],
          "name": "stdout"
        },
        {
          "output_type": "stream",
          "text": [
            "100%|██████████| 26505/26505 [3:12:13<00:00,  2.30it/s]\n",
            " 60%|█████▉    | 15846/26505 [00:53<00:31, 338.62it/s]"
          ],
          "name": "stderr"
        }
      ]
    },
    {
      "cell_type": "code",
      "metadata": {
        "id": "1450_743mO2p"
      },
      "source": [
        "len(corpus)"
      ],
      "execution_count": null,
      "outputs": []
    },
    {
      "cell_type": "markdown",
      "metadata": {
        "id": "ntcMabmFYl_y"
      },
      "source": [
        "# BERT Squad Modelling\n",
        "\n",
        "Nice, we already have the data loaded into the proper format. \n",
        "Now it's time for the funny part, the use of BERT for QA. There are different ways of using this models, however, I do recommend you to make use of the [ktrain](https://github.com/amaiya/ktrain) Python library that we know from the Text Classification Practice.\n",
        "\n",
        "The model involves different steps. The first one is to index the research articles that we will treat as a knowledge base to which we can ask questions and retrieve exact answers using BERT. Then we will instantiate a new BERT model and finally we will define the queries to be answered by the system\n",
        "\n",
        "\n"
      ]
    },
    {
      "cell_type": "code",
      "metadata": {
        "id": "hNUHSQoAYhuD"
      },
      "source": [
        "import ktrain\n",
        "from ktrain import text"
      ],
      "execution_count": null,
      "outputs": []
    },
    {
      "cell_type": "markdown",
      "metadata": {
        "id": "q343yYnxZAzP"
      },
      "source": [
        "## STEP 1: Index the Documents\n",
        "\n",
        "We will first index the documents into a search engine that will be used to quickly retrieve documents that are likely to contain answers to a question. To do so, we must choose an index location, which must be a folder that does not already exist.\n"
      ]
    },
    {
      "cell_type": "code",
      "metadata": {
        "id": "pN4dy-IYlYCe"
      },
      "source": [
        "INDEXDIR = '/content/drive/My Drive/covid-kaggle/index-bert'\n",
        "text.SimpleQA.initialize_index(INDEXDIR)\n",
        "text.SimpleQA.index_from_list(corpus, INDEXDIR, commit_every=len(corpus))"
      ],
      "execution_count": null,
      "outputs": []
    },
    {
      "cell_type": "markdown",
      "metadata": {
        "id": "z8FbsRvtZ1Fe"
      },
      "source": [
        "The above steps need to only be performed once. Once an index is already created, you can skip this step and proceed directly to STEP 2 to begin using your system."
      ]
    },
    {
      "cell_type": "markdown",
      "metadata": {
        "id": "vNbvKuugZ33_"
      },
      "source": [
        "## STEP 2: Create a QA instance\n",
        "\n",
        "Next, we create a QA instance. This step will automatically download the BERT SQUAD model if it does not already exist on your system."
      ]
    },
    {
      "cell_type": "code",
      "metadata": {
        "id": "Zl9Ggb3kY1jx"
      },
      "source": [
        "qa = text.SimpleQA(INDEXDIR)\n"
      ],
      "execution_count": null,
      "outputs": []
    },
    {
      "cell_type": "markdown",
      "metadata": {
        "id": "DisnKTcmZ-bE"
      },
      "source": [
        "\n",
        "## STEP 3: Ask Questions\n",
        "\n",
        "We will invoke the ask method to issue questions to the text corpus we indexed and retrieve answers. We will also use the qa.display method to nicely display the top 5 results in this Jupyter notebook. The answers are inferred using a BERT model trained on the SQUAD dataset. Since the model is combing through paragraphs and sentences to find an answer, it may take a minute or two to return results.\n"
      ]
    },
    {
      "cell_type": "code",
      "metadata": {
        "id": "JBGscFQDGozV",
        "trusted": true,
        "_kg_hide-input": true,
        "_kg_hide-output": true
      },
      "source": [
        "all_topics=[\n",
        "    'What is known about transmission, incubation, and environmental stability?',\n",
        "    'What do we know about COVID-19 risk factors?',\n",
        "    'What do we know about virus genetics, origin, and evolution?',\n",
        "    'What do we know about vaccines and therapeutics?',\n",
        "    'What do we know about non-pharmaceutical interventions?',\n",
        "    'What has been published about medical care?',\n",
        "    'What do we know about diagnostics and surveillance?'\n",
        "    'What has been published about information sharing and inter-sectoral collaboration?',\n",
        "    'What has been published about ethical and social science considerations?'\n",
        "]\n",
        "topic_area = {}\n",
        "\n",
        "#0\n",
        "#What is known about transmission, incubation, and environmental stability?\n",
        "question_list = []\n",
        "kw_list = []\n",
        "pm_kw_list = []\n",
        "question_list.append(\"Is the virus transmitted by aerisol, droplets, food, close contact, fecal matter, or water\")\n",
        "kw_list.append(\"2019-nCoV,SARS-CoV-2, COVID-19, coronavirus, novel coronavirus, person to person, human to human, interpersonal contact, air, water,fecal, surfaces, aerisol, transmission, shedding\")\n",
        "pm_kw_list.append(\"2019-nCoV, transmission, shedding\")\n",
        "\n",
        "question_list.append( \"How long is the incubation period for the virus\")\n",
        "kw_list.append(\"2019-nCoV, SARS-CoV-2, COVID-19, coronavirus, novel coronavirus, hours, days, period\")\n",
        "pm_kw_list.append(\"2019-nCoV, incubation period\")\n",
        "\n",
        "question_list.append(\"Can the virus be transmitted asymptomatically or during the incubation period\")\n",
        "kw_list.append(\"2019-nCoV, COVID-19, coronavirus, novel coronavirus, asymptomatic, person to person, human to human, transmission\")\n",
        "pm_kw_list.append(\"2019-nCoV, asymptomatic, transmission\")\n",
        "\n",
        "question_list.append(\"What is the quantity of asymptomatic shedding\")\n",
        "kw_list.append(\"2019-nCoV, SARS-CoV-2, COVID-19, asymptomatic, shedding, percentage, rate, quantity, pediatric\")\n",
        "pm_kw_list.append(\"2019-nCoV, asymptomatic, shedding\")\n",
        "\n",
        "question_list.append(\"How does temperature and humidity affect the tramsmission of 2019-nCoV\")\n",
        "kw_list.append(\"2019-nCoV, COVID-19, coronavirus, novel coronavirus, temperature, humidity\")\n",
        "pm_kw_list.append(\"2019-nCoV, temperature, humidity\")\n",
        "\n",
        "question_list.append(\"How long can 2019-nCoV remain viable on inanimate, environmental, or common surfaces\")\n",
        "kw_list.append(\"2019-nCoV, SARS-CoV-2, COVID-19, inanimate, environmental, touch, copper, plastic, steel, wood, fabric, glass, porous, nonporous\")\n",
        "pm_kw_list.append(\"2019-nCoV, surface\")\n",
        "\n",
        "question_list.append(\"What types of inanimate or environmental surfaces affect transmission, survival, or  inactivation of 2019-nCov\")\n",
        "kw_list.append(\"2019-nCoV, SARS-CoV-2, COVID-19, inanimate, environmental, touch, copper, plastic, steel, wood, fabric, glass, porous, nonporous\")\n",
        "pm_kw_list.append(\"2019-nCoV, surface\")\n",
        "\n",
        "question_list.append(\"Can the virus be found in nasal discharge, sputum, urine, fecal matter, or blood\")\n",
        "kw_list.append(\"2019-nCoV, SARS-CoV-2, COVID-19, shedding, body fluid\")\n",
        "pm_kw_list.append(\"2019-nCoV, body fluids\")\n",
        "\n",
        "topic_area['What is known about transmission, incubation, and environmental stability?'] = list(zip(question_list,kw_list, pm_kw_list))\n",
        "\n",
        "\n",
        "\n",
        "#1\n",
        "#What do we know about COVID-19 risk factors?\n",
        "question_list = []\n",
        "kw_list = []\n",
        "pm_kw_list = []\n",
        "question_list.append(\"What risk factors contribute to the severity of 2019-nCoV\")\n",
        "kw_list.append(\"2019-nCoV, SARS-CoV-2, COVID-19, coronavirus, novel coronavirus, susceptible, smoking, smoker, neonates, pregnant, socio-economic, behavioral, age, elderly, young, old, children\")\n",
        "pm_kw_list.append(\"2019-nCoV, risk factors\")\n",
        "\n",
        "question_list.append(\"How does hypertension affect patients\")\n",
        "kw_list.append(\"2019-nCoV, SARS-CoV-2, COVID-19, hypertension, blood pressure, comorbidity\")\n",
        "pm_kw_list.append(\"2019-nCoV, hypertension, comorbidity\")\n",
        "\n",
        "question_list.append(\"How does heart disease affect patients\")\n",
        "kw_list.append(\"2019-nCoV, SARS-CoV-2, COVID-19, heart disease, comorbidity\")\n",
        "pm_kw_list.append(\"2019-nCoV, heart disease, comorbidity\")\n",
        "\n",
        "question_list.append(\"How does copd affect patients\")\n",
        "kw_list.append(\"2019-nCoV, SARS-CoV-2, COVID-19, copd, chronic obstructive pulmonary disease\")\n",
        "pm_kw_list.append(\"2019-nCoV, copd, chronic obstructive pulmonary disease\")\n",
        "\n",
        "question_list.append(\"How does smoking affect 2019-nCoV patients\")\n",
        "kw_list.append(\"2019-nCoV, SARS-CoV-2, COVID-19, smoking, smoker\")\n",
        "pm_kw_list.append(\"2019-nCoV, smoking, smoker\")\n",
        "\n",
        "question_list.append(\"How does pregnancy affect patients\")\n",
        "kw_list.append(\"2019-nCoV, SARS-CoV-2, COVID-19, pregnant, pregnancy\")\n",
        "pm_kw_list.append(\"2019-nCoV, pregnant, pregnancy\")\n",
        "\n",
        "question_list.append(\"What are the case fatality rates for 2019-nCoV patients\")\n",
        "kw_list.append(\"2019-nCoV, SARS-CoV-2, COVID-19, coronavirus, novel coronavirus, fatality rate\")\n",
        "pm_kw_list.append(\"2019-nCoV, fatality, statistics, death\")\n",
        "\n",
        "question_list.append(\"What is the case fatality rate in Italy\")\n",
        "kw_list.append(\"2019-nCoV, SARS-CoV-2, COVID-19, coronavirus, novel coronavirus, fatality rate, Italy\")\n",
        "pm_kw_list.append(\"2019-nCoV, fatality, statistics, death\")\n",
        "\n",
        "question_list.append(\"What public health policies prevent or control the spread of 2019-nCoV\")\n",
        "kw_list.append(\"2019-nCoV, SARS-CoV-2, COVID-19, coronavirus, novel coronavirus, guidance, prevention measures, public health, community, prevention, administration, government, health department, policy, control measures, travel\")\n",
        "pm_kw_list.append(\"2019-nCoV, guidance, public health,  policy, control measures\")\n",
        "\n",
        "topic_area['What do we know about COVID-19 risk factors?'] = list(zip(question_list,kw_list, pm_kw_list))\n",
        "\n",
        "\n",
        "#2\n",
        "#What do we know about virus genetics, origin, and evolution?\n",
        "question_list = []\n",
        "kw_list = []\n",
        "pm_kw_list = []\n",
        "question_list.append(\"Can animals transmit 2019-nCoV\")\n",
        "kw_list.append(\"2019-nCoV, SARS-CoV-2, COVID-19, coronavirus, novel coronavirus, animals, zoonotic, farm, spillover, animal to human, human to animal, reservoir\")\n",
        "pm_kw_list.append(\"2019-nCoV, spillover, reservoir\")\n",
        "\n",
        "question_list.append(\"What animal did 2019-nCoV come from\")\n",
        "kw_list.append(\"2019-nCoV, SARS-CoV-2, COVID-19, coronavirus, novel coronavirus, animals, zoonotic, farm, spillover, animal to human, bats, snakes, exotic animals\")\n",
        "pm_kw_list.append(\"2019-nCoV, zoonotic\")\n",
        "\n",
        "question_list.append(\"What real-time genomic tracking tools exist\")\n",
        "kw_list.append(\"2019-nCoV, SARS-CoV-2, COVID-19, coronavirus, novel coronavirus, real-time, gene, typing, tracking, software, reporting\")\n",
        "pm_kw_list.append('\"2019-nCoV, real-time, genomic, tracking')\n",
        "\n",
        "question_list.append(\"What regional genetic variations (mutations) exist\")\n",
        "kw_list.append(\"2019-nCoV, SARS-CoV-2, COVID-19, coronavirus, novel coronavirus, geography, region, genome, mutations\")\n",
        "pm_kw_list.append(\"2019-nCoV, geneome, region\")\n",
        "\n",
        "question_list.append(\"What effors are being done in asia to prevent further outbreaks\")\n",
        "kw_list.append(\"2019-nCoV, SARS-CoV-2, COVID-19, surveylance, wildlife, livestock, monitoring, asia, prevent, prevention, outbreaks\")\n",
        "pm_kw_list.append(\"2019-nCoV, surveylance\")\n",
        "\n",
        "topic_area['What do we know about virus genetics, origin, and evolution?'] = list(zip(question_list,kw_list, pm_kw_list))\n",
        "\n",
        "#3\n",
        "#What do we know about vaccines and therapeutics?\n",
        "question_list = []\n",
        "kw_list = []\n",
        "pm_kw_list = []\n",
        "question_list.append(\"What drugs or therapies are being investigated\")\n",
        "kw_list.append(\"2019-nCoV,  COVID-19, coronavirus, novel coronavirus, drug, antiviral, testing, clinical trial, study\")\n",
        "pm_kw_list.append(\"2019-nCoV,  drug, therapy\")\n",
        "\n",
        "question_list.append(\"What clinical trials for hydroxychloroquine have been completed\")\n",
        "kw_list.append(\"2019-nCoV, SARS-CoV-2, COVID-19, hydroxychloroquine, clinical trial\")\n",
        "pm_kw_list.append(\"2019-nCoV, hydroxychloroquine\")\n",
        "\n",
        "question_list.append(\"What antiviral drug clinical trials have been completed\")\n",
        "kw_list.append(\"2019-nCoV, SARS-CoV-2, COVID-19, clinical trial\")\n",
        "pm_kw_list.append(\"2019-nCoV, antiviral\")\n",
        "\n",
        "question_list.append(\"Are anti-inflammatory drugs recommended\")\n",
        "kw_list.append(\"2019-nCoV, SARS-CoV-2, COVID-19, coronavirus, novel coronavirus, ibuprofen, advil, NSAID, anti-inflamatory, treatment\")\n",
        "pm_kw_list.append('2019-nCoV, ibuprofen, NSAID')\n",
        "\n",
        "topic_area['What do we know about vaccines and therapeutics?'] = list(zip(question_list,kw_list, pm_kw_list))\n",
        "\n",
        "\n",
        "#4\n",
        "#What do we know about non-pharmaceutical interventions?\n",
        "question_list = []\n",
        "kw_list = []\n",
        "pm_kw_list = []\n",
        "question_list.append(\"Which non-pharmaceutical interventions limit tramsission\")\n",
        "kw_list.append(\"2019-nCoV, SARS-CoV-2, COVID-19, non-pharmaceutical interventions, npi\")\n",
        "pm_kw_list.append(\"2019-nCoV, npi\")\n",
        "\n",
        "question_list.append(\"What are most important barriers to compliance\")\n",
        "kw_list.append(\"2019-nCoV, SARS-CoV-2, COVID-19, non-pharmaceutical interventions, npi\")\n",
        "pm_kw_list.append('2019-nCoV, npi, barrier to compliance')\n",
        "\n",
        "topic_area['What do we know about non-pharmaceutical interventions?'] = list(zip(question_list,kw_list, pm_kw_list))\n",
        "\n",
        "#5\n",
        "#What has been published about medical care?\n",
        "question_list = []\n",
        "kw_list = []\n",
        "pm_kw_list = []\n",
        "question_list.append(\"How does extracorporeal membrane oxygenation affect 2019-nCoV patients\")\n",
        "kw_list.append(\"2019-nCoV, SARS-CoV-2, COVID-19, extracorporeal membrane oxygenation, ecmo\")\n",
        "pm_kw_list.append('2019-nCoV, ecmo')\n",
        "\n",
        "question_list.append(\"What telemedicine and cybercare methods are most effective\")\n",
        "kw_list.append(\"2019-nCoV, SARS-CoV-2, COVID-19, coronavirus, novel coronavirus, telemedicine, 5G, cell phone, cyber, cybercare, information technolog, remote, over the phone, internet, web\")\n",
        "pm_kw_list.append('2019-nCoV, telemedicine, cybercare')\n",
        "\n",
        "question_list.append(\"How is artificial intelligence being used in real time health delivery\")\n",
        "kw_list.append(\"2019-nCoV, ai, real-time\")\n",
        "pm_kw_list.append('')\n",
        "\n",
        "question_list.append(\"What adjunctive or supportive methods can help patients\")\n",
        "kw_list.append(\"2019-nCoV, SARS-CoV-2, COVID-19, adjunctive, supportive\")\n",
        "pm_kw_list.append('')\n",
        "\n",
        "topic_area['What has been published about medical care?'] = list(zip(question_list,kw_list, pm_kw_list))\n",
        "\n",
        "#6\n",
        "#What do we know about diagnostics and surveillance?\n",
        "question_list = []\n",
        "kw_list = []\n",
        "pm_kw_list = []\n",
        "question_list.append(\"What diagnostic tests (tools) exist or are being developed to detect 2019-nCoV\")\n",
        "kw_list.append(\"2019-nCoV, SARS-CoV-2, COVID-19, coronavirus, novel coronavirus, diagnosis, tools, detetion\")\n",
        "pm_kw_list.append('2019-nCoV, diagnostic, tools, detetion')\n",
        "\n",
        "question_list.append(\"What is being done to increase testing capacity or throughput\")\n",
        "kw_list.append(\"2019-nCoV, sars-cov-2, covid-19, diagnostic, testing, throughput\")\n",
        "pm_kw_list.append(\"2019-nCoV, testing capacity OR throughput\")\n",
        "\n",
        "question_list.append(\"What point of care tests are exist or are being developed\")\n",
        "kw_list.append(\"2019-nCoV, sars-cov-2, covid-19\")\n",
        "pm_kw_list.append(\"2019-nCoV, point-of-care\")\n",
        "\n",
        "question_list.append(\"What is the minimum viral load for detection\")\n",
        "kw_list.append(\"2019-nCoV, sars-cov-2, covid-19\")\n",
        "pm_kw_list.append(\"2019-nCoV, viral load\")\n",
        "\n",
        "question_list.append(\"What markers are used to detect or track COVID-19\")\n",
        "kw_list.append(\"2019-nCoV, sars-cov-2, covid-19\")\n",
        "pm_kw_list.append(\"2019-nCoV, markers\")\n",
        "\n",
        "topic_area['What do we know about diagnostics and surveillance?'] = list(zip(question_list,kw_list, pm_kw_list))\n",
        "\n",
        "\n",
        "\n",
        "#7\n",
        "#What has been published about information sharing and inter-sectoral collaboration?\n",
        "question_list = []\n",
        "kw_list = []\n",
        "pm_kw_list = []\n",
        "question_list.append('What collaborations are happening within the research community')\n",
        "kw_list.append('inter-sectorial, international, collaboration, global, coronavirus, novel coronavirus, sharing')\n",
        "pm_kw_list.append('2019-nCoV, collaboration, sharing')\n",
        "\n",
        "topic_area['What has been published about information sharing and inter-sectoral collaboration?'] = list(zip(question_list,kw_list, pm_kw_list))\n",
        "\n",
        "\n",
        "#8\n",
        "#What has been published about ethical and social science considerations?\n",
        "question_list = []\n",
        "kw_list = []\n",
        "pm_kw_list = []\n",
        "\n",
        "question_list.append(\"What are the major ethical issues related pandemic outbreaks\")\n",
        "kw_list.append(\"ehtics, pandemic\")\n",
        "pm_kw_list.append(\"ethics, pandemic\")\n",
        "\n",
        "question_list.append(\"How do pandemics affect the physical and/or psychological health of doctors and nurses\")\n",
        "kw_list.append(\"2019-nCoV, sars-cov-2, covid-19, caregivers, health care workers\")\n",
        "pm_kw_list.append(\"2019-nCoV, physical OR psychological\")\n",
        "\n",
        "question_list.append(\"What strategies can help doctors and nurses cope with stress in a pandemic\")\n",
        "kw_list.append(\"2019-nCoV, sars-cov-2, covid-19, caregivers, health care workers\")\n",
        "pm_kw_list.append(\"2019-nCoV, physical OR psychological\")\n",
        "\n",
        "question_list.append(\"What factors contribute to rumors and misinformation\")\n",
        "kw_list.append(\"2019-nCoV, sars-cov-2, covid-19, social media\")\n",
        "pm_kw_list.append(\"2019-nCoV, misinformation OR social media\")\n",
        "\n",
        "topic_area['What has been published about ethical and social science considerations?'] = list(zip(question_list,kw_list, pm_kw_list))\n",
        "\n",
        "\n",
        "\n",
        "#-1\n",
        "# Other interesting Questions\n",
        "question_list = []\n",
        "kw_list = []\n",
        "pm_kw_list = []\n",
        "question_list.append(\"What is the immune system response to 2019-nCoV\")\n",
        "kw_list.append(\"2019-nCoV, SARS-CoV-2, COVID-19, coronavirus, novel coronavirus, immune, immune system, response, immunity, antibodies\")\n",
        "pm_kw_list.append('2019-nCoV, immune system, immunity, antibodie')\n",
        "\n",
        "question_list.append(\"Can personal protective equipment prevent the transmission of 2019-nCoV\")\n",
        "kw_list.append(\"2019-nCoV, SARS-CoV-2, COVID-19, coronavirus, novel coronavirus, ppe, masks, gloves, face shields, gown, eye protection\")\n",
        "pm_kw_list.append('2019-nCoV, ppe')\n",
        "\n",
        "question_list.append(\"Can 2019-nCoV infect patients a second time\")\n",
        "kw_list.append(\"2019-nCoV, SARS-CoV-2, COVID-19, coronavirus, novel coronavirus, reinfected, multiple infections, second time, permenant immunity\")\n",
        "pm_kw_list.append('2019-nCoV, reinfected')\n",
        "\n",
        "topic_area['Other interesting Questions'] = list(zip(question_list,kw_list, pm_kw_list))"
      ],
      "execution_count": null,
      "outputs": []
    },
    {
      "cell_type": "code",
      "metadata": {
        "id": "C8qbrzvJc6mU",
        "colab": {
          "base_uri": "https://localhost:8080/",
          "height": 1000
        },
        "outputId": "86a3194f-32cf-447a-9495-889e8afda07e"
      },
      "source": [
        "for topic, question_list in topic_area.items():\n",
        "  print(topic)\n",
        "  answers = qa.ask(topic)\n",
        "  qa.display_answers(answers[:5])  \n",
        "  for q, kw, pm_kw in question_list:\n",
        "    print(pm_kw + \" \" + q)\n",
        "    try:\n",
        "      answers = qa.ask(pm_kw + \" \" + q)\n",
        "      qa.display_answers(answers[:5])\n",
        "    except:\n",
        "      print(\"No answer for context query\")\n",
        "      answers = qa.ask(q)\n",
        "      qa.display_answers(answers[:5])"
      ],
      "execution_count": null,
      "outputs": [
        {
          "output_type": "stream",
          "text": [
            "What is known about transmission, incubation, and environmental stability?\n"
          ],
          "name": "stdout"
        },
        {
          "output_type": "display_data",
          "data": {
            "text/html": [
              ""
            ],
            "text/plain": [
              "<IPython.core.display.HTML object>"
            ]
          },
          "metadata": {
            "tags": []
          }
        },
        {
          "output_type": "display_data",
          "data": {
            "text/html": [
              "<table border=\"1\" class=\"dataframe\">\n",
              "  <thead>\n",
              "    <tr style=\"text-align: right;\">\n",
              "      <th></th>\n",
              "      <th>Candidate Answer</th>\n",
              "      <th>Context</th>\n",
              "      <th>Confidence</th>\n",
              "      <th>Document Reference</th>\n",
              "    </tr>\n",
              "  </thead>\n",
              "  <tbody>\n",
              "    <tr>\n",
              "      <th>0</th>\n",
              "      <td>has propensities and limitations</td>\n",
              "      <td><div> it has immediate implications for treating the sick and focuses the search for the source and route of transmission as each biological agent  <font color='red'>has propensities and limitations</font>  in the environments in which it can reside and the mechanisms by which it can be transmitted.</div></td>\n",
              "      <td>0.576933</td>\n",
              "      <td>22237</td>\n",
              "    </tr>\n",
              "    <tr>\n",
              "      <th>1</th>\n",
              "      <td>climate and weather factors are known to affect the transmission and distribution of infectious diseases</td>\n",
              "      <td><div>  <font color='red'>climate and weather factors are known to affect the transmission and distribution of infectious diseases</font>  and statistical and mathematical modelling are continuously developing to investigate the impact of weather and climate on water associated diseases.</div></td>\n",
              "      <td>0.295599</td>\n",
              "      <td>8919</td>\n",
              "    </tr>\n",
              "    <tr>\n",
              "      <th>2</th>\n",
              "      <td>the fingers are easily contaminated</td>\n",
              "      <td><div>  <font color='red'>the fingers are easily contaminated</font> .</div></td>\n",
              "      <td>0.104039</td>\n",
              "      <td>28014</td>\n",
              "    </tr>\n",
              "    <tr>\n",
              "      <th>3</th>\n",
              "      <td>the only demonstrated mechanism of infectious transmission is direct contact between people. perhaps they have a limited epidemic potential. the infectious capacity of this virus is not accurately known</td>\n",
              "      <td><div>  <font color='red'>the only demonstrated mechanism of infectious transmission is direct contact between people. perhaps they have a limited epidemic potential. the infectious capacity of this virus is not accurately known</font> .</div></td>\n",
              "      <td>0.005595</td>\n",
              "      <td>28014</td>\n",
              "    </tr>\n",
              "    <tr>\n",
              "      <th>4</th>\n",
              "      <td>a great capacity for environmental and person to person dissemination</td>\n",
              "      <td><div> coronavirus occasionally produces diarrhea, but it gained importance as a result of severe acute respiratory syndrome (sars) outbreaks, originated by coronavirus with  <font color='red'>a great capacity for environmental and person to person dissemination</font> .</div></td>\n",
              "      <td>0.003990</td>\n",
              "      <td>28014</td>\n",
              "    </tr>\n",
              "  </tbody>\n",
              "</table>"
            ],
            "text/plain": [
              "<IPython.core.display.HTML object>"
            ]
          },
          "metadata": {
            "tags": []
          }
        },
        {
          "output_type": "stream",
          "text": [
            "2019-nCoV, transmission, shedding Is the virus transmitted by aerisol, droplets, food, close contact, fecal matter, or water\n"
          ],
          "name": "stdout"
        },
        {
          "output_type": "display_data",
          "data": {
            "text/html": [
              ""
            ],
            "text/plain": [
              "<IPython.core.display.HTML object>"
            ]
          },
          "metadata": {
            "tags": []
          }
        },
        {
          "output_type": "display_data",
          "data": {
            "text/html": [
              "<table border=\"1\" class=\"dataframe\">\n",
              "  <thead>\n",
              "    <tr style=\"text-align: right;\">\n",
              "      <th></th>\n",
              "      <th>Candidate Answer</th>\n",
              "      <th>Context</th>\n",
              "      <th>Confidence</th>\n",
              "      <th>Document Reference</th>\n",
              "    </tr>\n",
              "  </thead>\n",
              "  <tbody>\n",
              "    <tr>\n",
              "      <th>0</th>\n",
              "      <td>2019 n co v is a newly identified coronavirus with high similarity to sars co v. we performed a structural analysis of the receptor binding domain (rbd) of spike glycoprotein responsible for entry of coronaviruses into host cells. the rbds from the two viruses share 72 % identity in amino acid sequences, and molecular simulation reveals highly similar ternary structures. however, 2019 n co v has a distinct loop with flexible glycyl residues replacing rigid prolyl residues in sars co v. molecular modeling revealed that 2019 n co v rbd has a stronger interaction with angiotensin converting enzyme 2 (ace2). a unique phenylalanine f486 in the flexible loop likely plays a major role because its penetration into a deep hydrophobic pocket in ace2. ace2 is widely expressed with conserved primary structures throughout the animal kingdom from fish, amphibians, reptiles, birds, to mammals. structural analysis suggests that ace2 from these animals can potentially bind rbd of 2019 n co v, making them all possible natural hosts for the virus. 2019 n co v is thought to be transmitted through respiratory droplets</td>\n",
              "      <td><div> <font color='red'>2019 n co v is a newly identified coronavirus with high similarity to sars co v. we performed a structural analysis of the receptor binding domain (rbd) of spike glycoprotein responsible for entry of coronaviruses into host cells. the rbds from the two viruses share 72 % identity in amino acid sequences, and molecular simulation reveals highly similar ternary structures. however, 2019 n co v has a distinct loop with flexible glycyl residues replacing rigid prolyl residues in sars co v. molecular modeling revealed that 2019 n co v rbd has a stronger interaction with angiotensin converting enzyme 2 (ace2). a unique phenylalanine f486 in the flexible loop likely plays a major role because its penetration into a deep hydrophobic pocket in ace2. ace2 is widely expressed with conserved primary structures throughout the animal kingdom from fish, amphibians, reptiles, birds, to mammals. structural analysis suggests that ace2 from these animals can potentially bind rbd of 2019 n co v, making them all possible natural hosts for the virus. 2019 n co v is thought to be transmitted through respiratory droplets</font> .</div></td>\n",
              "      <td>0.5</td>\n",
              "      <td>4587</td>\n",
              "    </tr>\n",
              "    <tr>\n",
              "      <th>1</th>\n",
              "      <td>2019 n co v is a newly identified coronavirus with high similarity to sars co v. we performed a structural analysis of the receptor binding domain (rbd) of spike glycoprotein responsible for entry of coronaviruses into host cells. the rbds from the two viruses share 72 % identity in amino acid sequences, and molecular simulation reveals highly similar ternary structures. however, 2019 n co v has a distinct loop with flexible glycyl residues replacing rigid prolyl residues in sars co v. molecular modeling revealed that 2019 n co v rbd has a stronger interaction with angiotensin converting enzyme 2 (ace2). a unique phenylalanine f486 in the flexible loop likely plays a major role because its penetration into a deep hydrophobic pocket in ace2. ace2 is widely expressed with conserved primary structures throughout the animal kingdom from fish, amphibians, reptiles, birds, to mammals. structural analysis suggests that ace2 from these animals can potentially bind rbd of 2019 n co v, making them all possible natural hosts for the virus. 2019 n co v is thought to be transmitted through respiratory droplets</td>\n",
              "      <td><div> <font color='red'>2019 n co v is a newly identified coronavirus with high similarity to sars co v. we performed a structural analysis of the receptor binding domain (rbd) of spike glycoprotein responsible for entry of coronaviruses into host cells. the rbds from the two viruses share 72 % identity in amino acid sequences, and molecular simulation reveals highly similar ternary structures. however, 2019 n co v has a distinct loop with flexible glycyl residues replacing rigid prolyl residues in sars co v. molecular modeling revealed that 2019 n co v rbd has a stronger interaction with angiotensin converting enzyme 2 (ace2). a unique phenylalanine f486 in the flexible loop likely plays a major role because its penetration into a deep hydrophobic pocket in ace2. ace2 is widely expressed with conserved primary structures throughout the animal kingdom from fish, amphibians, reptiles, birds, to mammals. structural analysis suggests that ace2 from these animals can potentially bind rbd of 2019 n co v, making them all possible natural hosts for the virus. 2019 n co v is thought to be transmitted through respiratory droplets</font> .</div></td>\n",
              "      <td>0.5</td>\n",
              "      <td>11090</td>\n",
              "    </tr>\n",
              "  </tbody>\n",
              "</table>"
            ],
            "text/plain": [
              "<IPython.core.display.HTML object>"
            ]
          },
          "metadata": {
            "tags": []
          }
        },
        {
          "output_type": "stream",
          "text": [
            "2019-nCoV, incubation period How long is the incubation period for the virus\n"
          ],
          "name": "stdout"
        },
        {
          "output_type": "display_data",
          "data": {
            "text/html": [
              ""
            ],
            "text/plain": [
              "<IPython.core.display.HTML object>"
            ]
          },
          "metadata": {
            "tags": []
          }
        },
        {
          "output_type": "display_data",
          "data": {
            "text/html": [
              "<table border=\"1\" class=\"dataframe\">\n",
              "  <thead>\n",
              "    <tr style=\"text-align: right;\">\n",
              "      <th></th>\n",
              "      <th>Candidate Answer</th>\n",
              "      <th>Context</th>\n",
              "      <th>Confidence</th>\n",
              "      <th>Document Reference</th>\n",
              "    </tr>\n",
              "  </thead>\n",
              "  <tbody>\n",
              "    <tr>\n",
              "      <th>0</th>\n",
              "      <td>from 1 to 14 days</td>\n",
              "      <td><div> in addition, the asymptomatic incubation period for individuals infected with 2019 n cov was estimated to range  <font color='red'>from 1 to 14 days</font>  (most likely 3e10 days), longer than that of sars co v.</div></td>\n",
              "      <td>0.504217</td>\n",
              "      <td>12661</td>\n",
              "    </tr>\n",
              "    <tr>\n",
              "      <th>1</th>\n",
              "      <td>is 7-14 days</td>\n",
              "      <td><div> according to the latest research, the incubation period of 2019 n cov  <font color='red'>is 7-14 days</font> .</div></td>\n",
              "      <td>0.270940</td>\n",
              "      <td>399</td>\n",
              "    </tr>\n",
              "    <tr>\n",
              "      <th>2</th>\n",
              "      <td>about 7 days</td>\n",
              "      <td><div> according to the who [ 24 ], the incubation period of 2019 n co v is  <font color='red'>about 7 days</font> , hence σ = 1 / 7.</div></td>\n",
              "      <td>0.184380</td>\n",
              "      <td>10394</td>\n",
              "    </tr>\n",
              "    <tr>\n",
              "      <th>3</th>\n",
              "      <td>around 14 days</td>\n",
              "      <td><div> due to the incubation period of the 2019 n co v at  <font color='red'>around 14 days</font> , there might be another outbreak peaking around 6 february 2020, a result of potentially infected people leaving wuhan before or on 23 january 2020 by private transportation means.</div></td>\n",
              "      <td>0.034836</td>\n",
              "      <td>7776</td>\n",
              "    </tr>\n",
              "    <tr>\n",
              "      <th>4</th>\n",
              "      <td>be 2-14 days</td>\n",
              "      <td><div> 9 the range of the incubation period for 2019 n co v is estimated to  <font color='red'>be 2-14 days</font> , or even as long as 24 days.</div></td>\n",
              "      <td>0.004021</td>\n",
              "      <td>210</td>\n",
              "    </tr>\n",
              "  </tbody>\n",
              "</table>"
            ],
            "text/plain": [
              "<IPython.core.display.HTML object>"
            ]
          },
          "metadata": {
            "tags": []
          }
        },
        {
          "output_type": "stream",
          "text": [
            "2019-nCoV, asymptomatic, transmission Can the virus be transmitted asymptomatically or during the incubation period\n"
          ],
          "name": "stdout"
        },
        {
          "output_type": "display_data",
          "data": {
            "text/html": [
              ""
            ],
            "text/plain": [
              "<IPython.core.display.HTML object>"
            ]
          },
          "metadata": {
            "tags": []
          }
        },
        {
          "output_type": "display_data",
          "data": {
            "text/html": [
              "<table border=\"1\" class=\"dataframe\">\n",
              "  <thead>\n",
              "    <tr style=\"text-align: right;\">\n",
              "      <th></th>\n",
              "      <th>Candidate Answer</th>\n",
              "      <th>Context</th>\n",
              "      <th>Confidence</th>\n",
              "      <th>Document Reference</th>\n",
              "    </tr>\n",
              "  </thead>\n",
              "  <tbody>\n",
              "    <tr>\n",
              "      <th>0</th>\n",
              "      <td>the asymptomatic</td>\n",
              "      <td><div> in addition,  <font color='red'>the asymptomatic</font>  incubation period for individuals infected with 2019 n cov has been reported to be ~ 1-14 days, and after 24 days individuals were reported, and it was confirmed that those without symptoms can spread the virus 4,5,49.</div></td>\n",
              "      <td>0.976534</td>\n",
              "      <td>7357</td>\n",
              "    </tr>\n",
              "    <tr>\n",
              "      <th>1</th>\n",
              "      <td>to the editor : the novel coronavirus (2019 n co v) from wuhan is currently causing concern in the medical community as the virus is spreading around the world. 1 since identification of the virus in late december 2019, the number of cases from china that have been imported into other countries is on the rise, and the epidemiologic picture is changing on a daily basis. we are reporting a case of 2019 n co v infection acquired outside asia in which transmission appears to have occurred during the incubation period</td>\n",
              "      <td><div> <font color='red'>to the editor : the novel coronavirus (2019 n co v) from wuhan is currently causing concern in the medical community as the virus is spreading around the world. 1 since identification of the virus in late december 2019, the number of cases from china that have been imported into other countries is on the rise, and the epidemiologic picture is changing on a daily basis. we are reporting a case of 2019 n co v infection acquired outside asia in which transmission appears to have occurred during the incubation period</font>  in the index patient.</div></td>\n",
              "      <td>0.012797</td>\n",
              "      <td>21254</td>\n",
              "    </tr>\n",
              "    <tr>\n",
              "      <th>2</th>\n",
              "      <td>by definition, the main features of a novel virus, for example, how it is transmitted, will not be immediately known. however, as with the development of any 3i tool, it is essential to understand specific characteristics of the disease. in the case of a novel virus such as 2019 co v, this is challenging since information is rapidly evolving and the science is not yet fully understood. it is possible that the virus will undergo mutations over time that could substantially change its the identify isolate inform (3i) tool applied to a novel emerging coronavirus koenig et al. features. nevertheless, an appreciation of the key concepts that drive evidence based management is beneficial (table 1). management guidance will likely change over time. with the initial discovery of a new potential public health threat, it will likely be unclear how patients become sick. for example, rather than a contagion, there could be a contaminant or a toxin responsible for signs and symptoms. in this case, the possibility of an environmental toxin in the wuhan market was a consideration early on when limited to no human tohuman transmission was reported. the mode of transmission has implications for the types of personal protective equipment (ppe) needed to protect healthcare providers in the prehospital, clinic, and hospital settings. 25 in addition, patients may need decontamination after exposure to certain toxins. 26 another important consideration for application of the 3i tool is whether the disease is contagious prior to symptom onset (like measles) or only after symptoms develop (like ebola). a january 30,2020 letter to the new england journal of medicine describes a purported confirmed instance of transmission from an asymptomatic individual. researchers state that, before symptom onset, the primary case infected two individuals, one of which infected two additional colleagues. 27 subsequent investigation suggested that the source patient did have mild symptoms and had taken an antipyretic, calling this reported asymptomatic</td>\n",
              "      <td><div> <font color='red'>by definition, the main features of a novel virus, for example, how it is transmitted, will not be immediately known. however, as with the development of any 3i tool, it is essential to understand specific characteristics of the disease. in the case of a novel virus such as 2019 co v, this is challenging since information is rapidly evolving and the science is not yet fully understood. it is possible that the virus will undergo mutations over time that could substantially change its the identify isolate inform (3i) tool applied to a novel emerging coronavirus koenig et al. features. nevertheless, an appreciation of the key concepts that drive evidence based management is beneficial (table 1). management guidance will likely change over time. with the initial discovery of a new potential public health threat, it will likely be unclear how patients become sick. for example, rather than a contagion, there could be a contaminant or a toxin responsible for signs and symptoms. in this case, the possibility of an environmental toxin in the wuhan market was a consideration early on when limited to no human tohuman transmission was reported. the mode of transmission has implications for the types of personal protective equipment (ppe) needed to protect healthcare providers in the prehospital, clinic, and hospital settings. 25 in addition, patients may need decontamination after exposure to certain toxins. 26 another important consideration for application of the 3i tool is whether the disease is contagious prior to symptom onset (like measles) or only after symptoms develop (like ebola). a january 30,2020 letter to the new england journal of medicine describes a purported confirmed instance of transmission from an asymptomatic individual. researchers state that, before symptom onset, the primary case infected two individuals, one of which infected two additional colleagues. 27 subsequent investigation suggested that the source patient did have mild symptoms and had taken an antipyretic, calling this reported asymptomatic</font>  transmission into question.</div></td>\n",
              "      <td>0.003767</td>\n",
              "      <td>10694</td>\n",
              "    </tr>\n",
              "    <tr>\n",
              "      <th>3</th>\n",
              "      <td>any plan for stopping the ongoing 2019 n cov epidemic must be based on a quantitative understanding of the proportion of the at risk population that needs to be protected by effective control measures in order for transmission to decline sufficiently and quickly enough for the epidemic to end. ending the epidemic requires reducing the basic reproduction number (r)-the average number of people infected by each 2019 n cov infected patient-to below 1, at which point transmission contracts and eventually burns out. however, if r is only brought marginally below 1, transmission could still linger for years. enough infections could occur during this time that, especially given high mobility of people and density of urban areas, new hotspots could get seeded and transmission could resurge above 1. ending the epidemic, therefore, may require not just getting r below 1, but driving it down more aggressively in order to reach zero cases quickly. in january, the mean r was estimated at 2. 2 (3. 9, upper bound of 95 % confidence interval), with each infection on average resulting in two or more infections [ 1 ]. although cases of asymptomatic transmission have been documented [ 2,3 ], the world health organization advises that transmission is still primarily driven by symptomatic patients [ 4 ]. in order to bring r below 1, we contrasted two alternate strategies by modeling the proportion of the population that needs to be protected from infection by one time vaccination (assuming 100 % effectiveness) or by testing with isolation and treatment of individuals within six, 24, or 48 hours of symptom onset. we employed an seir type transmission model [ 5 ] where the mean incubation period is 5 days, mean infectious period is 7 days, and the initial prevalence of the novel coronavirus (2019 n cov) infections is at 0. 1 % in a population of 10 million, roughly the population of wuhan. in light of the unknowns with asymptomatic transmission, a fixed percentage of the transmission is modeled prior to symptom onset. if the current r is 2. 2 or 3. 9,55 % or 74 % of the at risk population, respectively, would need to be vaccinated in order to bring r below 1. if r is 2. 2 and 10 % of transmission occurs asymptomatically</td>\n",
              "      <td><div> <font color='red'>any plan for stopping the ongoing 2019 n cov epidemic must be based on a quantitative understanding of the proportion of the at risk population that needs to be protected by effective control measures in order for transmission to decline sufficiently and quickly enough for the epidemic to end. ending the epidemic requires reducing the basic reproduction number (r)-the average number of people infected by each 2019 n cov infected patient-to below 1, at which point transmission contracts and eventually burns out. however, if r is only brought marginally below 1, transmission could still linger for years. enough infections could occur during this time that, especially given high mobility of people and density of urban areas, new hotspots could get seeded and transmission could resurge above 1. ending the epidemic, therefore, may require not just getting r below 1, but driving it down more aggressively in order to reach zero cases quickly. in january, the mean r was estimated at 2. 2 (3. 9, upper bound of 95 % confidence interval), with each infection on average resulting in two or more infections [ 1 ]. although cases of asymptomatic transmission have been documented [ 2,3 ], the world health organization advises that transmission is still primarily driven by symptomatic patients [ 4 ]. in order to bring r below 1, we contrasted two alternate strategies by modeling the proportion of the population that needs to be protected from infection by one time vaccination (assuming 100 % effectiveness) or by testing with isolation and treatment of individuals within six, 24, or 48 hours of symptom onset. we employed an seir type transmission model [ 5 ] where the mean incubation period is 5 days, mean infectious period is 7 days, and the initial prevalence of the novel coronavirus (2019 n cov) infections is at 0. 1 % in a population of 10 million, roughly the population of wuhan. in light of the unknowns with asymptomatic transmission, a fixed percentage of the transmission is modeled prior to symptom onset. if the current r is 2. 2 or 3. 9,55 % or 74 % of the at risk population, respectively, would need to be vaccinated in order to bring r below 1. if r is 2. 2 and 10 % of transmission occurs asymptomatically</font> , approximately 60 %, 68 %, or 82 % of symptomatic individuals would need to be tested and isolated for treatment within six, 24, or 48 hours, respectively, of symptom onset in order to bring r below 1.</div></td>\n",
              "      <td>0.003557</td>\n",
              "      <td>590</td>\n",
              "    </tr>\n",
              "    <tr>\n",
              "      <th>4</th>\n",
              "      <td>% asymptomatic</td>\n",
              "      <td><div> the epidemic could be ended in just under a year if testing with isolation and treatment reached 80 % of symptomatically infected patients within 24 hours of symptom onset (assuming 10  <font color='red'>% asymptomatic</font>  transmission).</div></td>\n",
              "      <td>0.002167</td>\n",
              "      <td>590</td>\n",
              "    </tr>\n",
              "  </tbody>\n",
              "</table>"
            ],
            "text/plain": [
              "<IPython.core.display.HTML object>"
            ]
          },
          "metadata": {
            "tags": []
          }
        },
        {
          "output_type": "stream",
          "text": [
            "2019-nCoV, asymptomatic, shedding What is the quantity of asymptomatic shedding\n"
          ],
          "name": "stdout"
        },
        {
          "output_type": "display_data",
          "data": {
            "text/html": [
              ""
            ],
            "text/plain": [
              "<IPython.core.display.HTML object>"
            ]
          },
          "metadata": {
            "tags": []
          }
        },
        {
          "output_type": "display_data",
          "data": {
            "text/html": [
              "<table border=\"1\" class=\"dataframe\">\n",
              "  <thead>\n",
              "    <tr style=\"text-align: right;\">\n",
              "      <th></th>\n",
              "      <th>Candidate Answer</th>\n",
              "      <th>Context</th>\n",
              "      <th>Confidence</th>\n",
              "      <th>Document Reference</th>\n",
              "    </tr>\n",
              "  </thead>\n",
              "  <tbody>\n",
              "    <tr>\n",
              "      <th>0</th>\n",
              "      <td>ding raises the possibility for transmission of sars co v 2 from asymptomatic carriers to others</td>\n",
              "      <td><div> this finding of asymptomatic virus shed <font color='red'>ding raises the possibility for transmission of sars co v 2 from asymptomatic carriers to others</font> , which is later confirmed by others [ 2 ].</div></td>\n",
              "      <td>0.291392</td>\n",
              "      <td>9135</td>\n",
              "    </tr>\n",
              "    <tr>\n",
              "      <th>1</th>\n",
              "      <td>of asymptomatic infection and clinical care seeking among individuals shedding seasonal co v</td>\n",
              "      <td><div> to contextualize the issue of unreported infection, we here present the findings from a recent proactive sampling project carried out in new york city (nyc) that documented rates  <font color='red'>of asymptomatic infection and clinical care seeking among individuals shedding seasonal co v</font>  (types : hku1,229e, nl63 and oc43).</div></td>\n",
              "      <td>0.291392</td>\n",
              "      <td>1037</td>\n",
              "    </tr>\n",
              "    <tr>\n",
              "      <th>2</th>\n",
              "      <td>transmissibility of 2019 n co v</td>\n",
              "      <td><div> <font color='red'>transmissibility of 2019 n co v</font> </div></td>\n",
              "      <td>0.288648</td>\n",
              "      <td>12661</td>\n",
              "    </tr>\n",
              "    <tr>\n",
              "      <th>3</th>\n",
              "      <td>transmissibility of 2019 n co v</td>\n",
              "      <td><div> <font color='red'>transmissibility of 2019 n co v</font> </div></td>\n",
              "      <td>0.042515</td>\n",
              "      <td>11218</td>\n",
              "    </tr>\n",
              "    <tr>\n",
              "      <th>4</th>\n",
              "      <td>the first human infections were identified through a surveillance system for pneumonia of unknown aetiology, and all of the earliest infections therefore had modelling studies incorporating healthcare capacity and processes pneumonia. it is well established that some infections can be severe, particularly in older adults with underlying medical conditions [ 15,16 ], but based on the generally mild clinical presentation of 2019 n co v cases detected outside china, it appears that there could be many more mild infections than severe infections. determining the spectrum of clinical manifestations of 2019 n co v infections is perhaps the most urgent research priority, because it determines the strength of public health response required. if the seriousness of infection is similar to the 1918 / 19 spanish influenza, and therefore at the upper end of severity scales in influenza pandemic plans, the same responses would be warranted for 2019 n co v as for the most severe influenza pandemics. if, however, the seriousness of infection is similar to seasonal influenza, especially during milder seasons, mitigation measures could be tuned accordingly. beyond a robust assessment of overall severity, it is also important to determine high risk groups. infections would likely be more severe in older adults, obese individuals or those with underlying medical conditions, but there have not yet been reports of severity of infections in pregnant women, and very few cases have been reported in children [ 2 ]. those under 18 years are a critical group to study in order to tease out the relative roles of susceptibility vs severity as possible underlying causes for the very rare recorded instances of infection in this age group. are children protected from infection or do they not fall ill after infection ? if they are naturally immune, which is unlikely, we should understand why ; otherwise, even if they do not show symptoms, it is important to know if they shed the virus. obviously, the question about virus shedding</td>\n",
              "      <td><div> <font color='red'>the first human infections were identified through a surveillance system for pneumonia of unknown aetiology, and all of the earliest infections therefore had modelling studies incorporating healthcare capacity and processes pneumonia. it is well established that some infections can be severe, particularly in older adults with underlying medical conditions [ 15,16 ], but based on the generally mild clinical presentation of 2019 n co v cases detected outside china, it appears that there could be many more mild infections than severe infections. determining the spectrum of clinical manifestations of 2019 n co v infections is perhaps the most urgent research priority, because it determines the strength of public health response required. if the seriousness of infection is similar to the 1918 / 19 spanish influenza, and therefore at the upper end of severity scales in influenza pandemic plans, the same responses would be warranted for 2019 n co v as for the most severe influenza pandemics. if, however, the seriousness of infection is similar to seasonal influenza, especially during milder seasons, mitigation measures could be tuned accordingly. beyond a robust assessment of overall severity, it is also important to determine high risk groups. infections would likely be more severe in older adults, obese individuals or those with underlying medical conditions, but there have not yet been reports of severity of infections in pregnant women, and very few cases have been reported in children [ 2 ]. those under 18 years are a critical group to study in order to tease out the relative roles of susceptibility vs severity as possible underlying causes for the very rare recorded instances of infection in this age group. are children protected from infection or do they not fall ill after infection ? if they are naturally immune, which is unlikely, we should understand why ; otherwise, even if they do not show symptoms, it is important to know if they shed the virus. obviously, the question about virus shedding</font>  of those being infected but asymptomatic leads to the crucial question of infectivity.</div></td>\n",
              "      <td>0.026369</td>\n",
              "      <td>7105</td>\n",
              "    </tr>\n",
              "  </tbody>\n",
              "</table>"
            ],
            "text/plain": [
              "<IPython.core.display.HTML object>"
            ]
          },
          "metadata": {
            "tags": []
          }
        },
        {
          "output_type": "stream",
          "text": [
            "2019-nCoV, temperature, humidity How does temperature and humidity affect the tramsmission of 2019-nCoV\n"
          ],
          "name": "stdout"
        },
        {
          "output_type": "display_data",
          "data": {
            "text/html": [
              ""
            ],
            "text/plain": [
              "<IPython.core.display.HTML object>"
            ]
          },
          "metadata": {
            "tags": []
          }
        },
        {
          "output_type": "display_data",
          "data": {
            "text/html": [
              "<table border=\"1\" class=\"dataframe\">\n",
              "  <thead>\n",
              "    <tr style=\"text-align: right;\">\n",
              "      <th></th>\n",
              "      <th>Candidate Answer</th>\n",
              "      <th>Context</th>\n",
              "      <th>Confidence</th>\n",
              "      <th>Document Reference</th>\n",
              "    </tr>\n",
              "  </thead>\n",
              "  <tbody>\n",
              "    <tr>\n",
              "      <th>0</th>\n",
              "      <td>were environmental predictors of influenza subtype / lineage specific epidemics in the southernmost provinces</td>\n",
              "      <td><div> our analysis indicated temperature, humidity and rainfall  <font color='red'>were environmental predictors of influenza subtype / lineage specific epidemics in the southernmost provinces</font>  when a 1 week lag of influenza epidemics behind climate was considered, which was similar to the findings from some ecological studies (table 1).</div></td>\n",
              "      <td>0.505655</td>\n",
              "      <td>23261</td>\n",
              "    </tr>\n",
              "    <tr>\n",
              "      <th>1</th>\n",
              "      <td>role of temperature and humidity in the modulation of the doubling time</td>\n",
              "      <td><div> <font color='red'>role of temperature and humidity in the modulation of the doubling time</font>  of covid 19 cases abstract</div></td>\n",
              "      <td>0.252434</td>\n",
              "      <td>1137</td>\n",
              "    </tr>\n",
              "    <tr>\n",
              "      <th>2</th>\n",
              "      <td>environmental factors such as temperature and relative humidity may influence the transmissions of coronavirus</td>\n",
              "      <td><div>  <font color='red'>environmental factors such as temperature and relative humidity may influence the transmissions of coronavirus</font>  [ 6 ]</div></td>\n",
              "      <td>0.082272</td>\n",
              "      <td>120</td>\n",
              "    </tr>\n",
              "    <tr>\n",
              "      <th>3</th>\n",
              "      <td>particular decline with higher temperatures and humidity</td>\n",
              "      <td><div> previous studies show that transmission of h3n2,2009 h1n1, and other strains of influenza are sensitive to environmental conditions, and in  <font color='red'>particular decline with higher temperatures and humidity</font> .</div></td>\n",
              "      <td>0.042013</td>\n",
              "      <td>954</td>\n",
              "    </tr>\n",
              "    <tr>\n",
              "      <th>4</th>\n",
              "      <td>the doubling time</td>\n",
              "      <td><div>in this work, the way temperature and humidity affect  <font color='red'>the doubling time</font>  of covid 19 spreading was determined.</div></td>\n",
              "      <td>0.032773</td>\n",
              "      <td>1137</td>\n",
              "    </tr>\n",
              "  </tbody>\n",
              "</table>"
            ],
            "text/plain": [
              "<IPython.core.display.HTML object>"
            ]
          },
          "metadata": {
            "tags": []
          }
        },
        {
          "output_type": "stream",
          "text": [
            "2019-nCoV, surface How long can 2019-nCoV remain viable on inanimate, environmental, or common surfaces\n"
          ],
          "name": "stdout"
        },
        {
          "output_type": "display_data",
          "data": {
            "text/html": [
              ""
            ],
            "text/plain": [
              "<IPython.core.display.HTML object>"
            ]
          },
          "metadata": {
            "tags": []
          }
        },
        {
          "output_type": "display_data",
          "data": {
            "text/html": [
              "<table border=\"1\" class=\"dataframe\">\n",
              "  <thead>\n",
              "    <tr style=\"text-align: right;\">\n",
              "      <th></th>\n",
              "      <th>Candidate Answer</th>\n",
              "      <th>Context</th>\n",
              "      <th>Confidence</th>\n",
              "      <th>Document Reference</th>\n",
              "    </tr>\n",
              "  </thead>\n",
              "  <tbody>\n",
              "    <tr>\n",
              "      <th>0</th>\n",
              "      <td>for weeks to months</td>\n",
              "      <td><div> surfaces with frequent hand contact and in close proximity to the patient are often colonized with nosocomial pathogens, and most of these pathogens can remain viable on these inanimate surfaces  <font color='red'>for weeks to months</font>  (chap.</div></td>\n",
              "      <td>0.500566</td>\n",
              "      <td>35320</td>\n",
              "    </tr>\n",
              "    <tr>\n",
              "      <th>1</th>\n",
              "      <td>the persistence on inanimate surfaces is prolonged</td>\n",
              "      <td><div>  <font color='red'>the persistence on inanimate surfaces is prolonged</font>  and depends of the environmental conditions, especially the humidity.</div></td>\n",
              "      <td>0.387661</td>\n",
              "      <td>28291</td>\n",
              "    </tr>\n",
              "    <tr>\n",
              "      <th>2</th>\n",
              "      <td>survive up to 4 months</td>\n",
              "      <td><div>candida albicans, the most important nosocomial yeast, can  <font color='red'>survive up to 4 months</font>  on surfaces.</div></td>\n",
              "      <td>0.101929</td>\n",
              "      <td>28291</td>\n",
              "    </tr>\n",
              "    <tr>\n",
              "      <th>3</th>\n",
              "      <td>survive up to 3 days</td>\n",
              "      <td><div> sars co v 2 can remain viable in aerosol and  <font color='red'>survive up to 3 days</font>  on inanimate surfaces at room temperature, with a greater preference for humid conditions 30.</div></td>\n",
              "      <td>0.008076</td>\n",
              "      <td>37447</td>\n",
              "    </tr>\n",
              "    <tr>\n",
              "      <th>4</th>\n",
              "      <td>persistence of microorganisms on inanimate surfaces</td>\n",
              "      <td><div> <font color='red'>persistence of microorganisms on inanimate surfaces</font> </div></td>\n",
              "      <td>0.000657</td>\n",
              "      <td>28291</td>\n",
              "    </tr>\n",
              "  </tbody>\n",
              "</table>"
            ],
            "text/plain": [
              "<IPython.core.display.HTML object>"
            ]
          },
          "metadata": {
            "tags": []
          }
        },
        {
          "output_type": "stream",
          "text": [
            "2019-nCoV, surface What types of inanimate or environmental surfaces affect transmission, survival, or  inactivation of 2019-nCov\n"
          ],
          "name": "stdout"
        },
        {
          "output_type": "display_data",
          "data": {
            "text/html": [
              ""
            ],
            "text/plain": [
              "<IPython.core.display.HTML object>"
            ]
          },
          "metadata": {
            "tags": []
          }
        },
        {
          "output_type": "display_data",
          "data": {
            "text/html": [
              "<table border=\"1\" class=\"dataframe\">\n",
              "  <thead>\n",
              "    <tr style=\"text-align: right;\">\n",
              "      <th></th>\n",
              "      <th>Candidate Answer</th>\n",
              "      <th>Context</th>\n",
              "      <th>Confidence</th>\n",
              "      <th>Document Reference</th>\n",
              "    </tr>\n",
              "  </thead>\n",
              "  <tbody>\n",
              "    <tr>\n",
              "      <th>0</th>\n",
              "      <td>on inanimate</td>\n",
              "      <td><div>persistence of coronavirus  <font color='red'>on inanimate</font>  surfaces</div></td>\n",
              "      <td>0.284429</td>\n",
              "      <td>39421</td>\n",
              "    </tr>\n",
              "    <tr>\n",
              "      <th>1</th>\n",
              "      <td>on inanimate</td>\n",
              "      <td><div>persistence of coronaviruses  <font color='red'>on inanimate</font>  surfaces and their inactivation with biocidal agents abstract</div></td>\n",
              "      <td>0.086688</td>\n",
              "      <td>39421</td>\n",
              "    </tr>\n",
              "    <tr>\n",
              "      <th>2</th>\n",
              "      <td>on inanimate</td>\n",
              "      <td><div>human coronaviruses can remain infectious  <font color='red'>on inanimate</font>  surfaces for up to 9 days.</div></td>\n",
              "      <td>0.071456</td>\n",
              "      <td>39421</td>\n",
              "    </tr>\n",
              "    <tr>\n",
              "      <th>3</th>\n",
              "      <td>of inanimate</td>\n",
              "      <td><div> the aim of the review was therefore to summarize all available data on the persistence of all coronaviruses including emerging sars co v and mers co v as well as veterinary coronaviruses such as transmissible gastroenteritis virus (tgev), mouse hepatitis virus (mhv) and canine coronavirus (ccv) on different types  <font color='red'>of inanimate</font>  surfaces and on the efficacy of commonly used biocidal agents used in surface disinfectants against coronaviruses.</div></td>\n",
              "      <td>0.064061</td>\n",
              "      <td>39421</td>\n",
              "    </tr>\n",
              "    <tr>\n",
              "      <th>4</th>\n",
              "      <td>from inanimate</td>\n",
              "      <td><div>mechanisms of transmission  <font color='red'>from inanimate</font>  surfaces to susceptible patients and consequences thereof</div></td>\n",
              "      <td>0.057183</td>\n",
              "      <td>28291</td>\n",
              "    </tr>\n",
              "  </tbody>\n",
              "</table>"
            ],
            "text/plain": [
              "<IPython.core.display.HTML object>"
            ]
          },
          "metadata": {
            "tags": []
          }
        },
        {
          "output_type": "stream",
          "text": [
            "2019-nCoV, body fluids Can the virus be found in nasal discharge, sputum, urine, fecal matter, or blood\n"
          ],
          "name": "stdout"
        },
        {
          "output_type": "display_data",
          "data": {
            "text/html": [
              ""
            ],
            "text/plain": [
              "<IPython.core.display.HTML object>"
            ]
          },
          "metadata": {
            "tags": []
          }
        },
        {
          "output_type": "stream",
          "text": [
            "No answer for context query\n"
          ],
          "name": "stdout"
        },
        {
          "output_type": "display_data",
          "data": {
            "text/html": [
              ""
            ],
            "text/plain": [
              "<IPython.core.display.HTML object>"
            ]
          },
          "metadata": {
            "tags": []
          }
        },
        {
          "output_type": "display_data",
          "data": {
            "text/html": [
              "<table border=\"1\" class=\"dataframe\">\n",
              "  <thead>\n",
              "    <tr style=\"text-align: right;\">\n",
              "      <th></th>\n",
              "      <th>Candidate Answer</th>\n",
              "      <th>Context</th>\n",
              "      <th>Confidence</th>\n",
              "      <th>Document Reference</th>\n",
              "    </tr>\n",
              "  </thead>\n",
              "  <tbody>\n",
              "    <tr>\n",
              "      <th>0</th>\n",
              "      <td>but not in blood, serum, feces, or urine</td>\n",
              "      <td><div> in experimentally infected camels, infectious virus and rna was detected in nasal swab and oral samples  <font color='red'>but not in blood, serum, feces, or urine</font>  (23).</div></td>\n",
              "      <td>0.976712</td>\n",
              "      <td>26208</td>\n",
              "    </tr>\n",
              "    <tr>\n",
              "      <th>1</th>\n",
              "      <td>and no virus was detected in blood</td>\n",
              "      <td><div> stool samples and oro nasal swabs contained very low mers co v copy number on days 12 and 16, respectively,  <font color='red'>and no virus was detected in blood</font> .</div></td>\n",
              "      <td>0.017374</td>\n",
              "      <td>4296</td>\n",
              "    </tr>\n",
              "    <tr>\n",
              "      <th>2</th>\n",
              "      <td>the nasal pcrs for s. pneumoniae and s. aureus in approximately 30 and 18 hours. sputum and blood</td>\n",
              "      <td><div> the urine antigen results were reported in roughly 7-8 hours and  <font color='red'>the nasal pcrs for s. pneumoniae and s. aureus in approximately 30 and 18 hours. sputum and blood</font>  culture results required several days to complete.</div></td>\n",
              "      <td>0.002105</td>\n",
              "      <td>34075</td>\n",
              "    </tr>\n",
              "    <tr>\n",
              "      <th>3</th>\n",
              "      <td>the zika virus was detected in blood, serum, saliva, and urine</td>\n",
              "      <td><div> <font color='red'>the zika virus was detected in blood, serum, saliva, and urine</font> , as well as in semen, vaginal discharge, sweat, tears, ammonitic fluids, placenta and breast milk (table 1 and additional file 1 : table s5).</div></td>\n",
              "      <td>0.002065</td>\n",
              "      <td>4296</td>\n",
              "    </tr>\n",
              "    <tr>\n",
              "      <th>4</th>\n",
              "      <td>from urine and fecal matter</td>\n",
              "      <td><div> these materials are cleaned and sanitized easily and are resistant to gnawing or corrosion  <font color='red'>from urine and fecal matter</font> .</div></td>\n",
              "      <td>0.000643</td>\n",
              "      <td>18460</td>\n",
              "    </tr>\n",
              "  </tbody>\n",
              "</table>"
            ],
            "text/plain": [
              "<IPython.core.display.HTML object>"
            ]
          },
          "metadata": {
            "tags": []
          }
        },
        {
          "output_type": "stream",
          "text": [
            "What do we know about COVID-19 risk factors?\n"
          ],
          "name": "stdout"
        },
        {
          "output_type": "display_data",
          "data": {
            "text/html": [
              ""
            ],
            "text/plain": [
              "<IPython.core.display.HTML object>"
            ]
          },
          "metadata": {
            "tags": []
          }
        },
        {
          "output_type": "display_data",
          "data": {
            "text/html": [
              "<table border=\"1\" class=\"dataframe\">\n",
              "  <thead>\n",
              "    <tr style=\"text-align: right;\">\n",
              "      <th></th>\n",
              "      <th>Candidate Answer</th>\n",
              "      <th>Context</th>\n",
              "      <th>Confidence</th>\n",
              "      <th>Document Reference</th>\n",
              "    </tr>\n",
              "  </thead>\n",
              "  <tbody>\n",
              "    <tr>\n",
              "      <th>0</th>\n",
              "      <td>have no evidence based data</td>\n",
              "      <td><div>recommendations on the management of italian ms patients during the covid 19 epidemics these are recommendations made by neurologists and infectious diseases specialists whilst we  <font color='red'>have no evidence based data</font>  at present.</div></td>\n",
              "      <td>0.569124</td>\n",
              "      <td>30045</td>\n",
              "    </tr>\n",
              "    <tr>\n",
              "      <th>1</th>\n",
              "      <td>present we do not know if people with ms are at increased risk acquring sars co v 2, covid 19 or developing severe covid 19</td>\n",
              "      <td><div> at  <font color='red'>present we do not know if people with ms are at increased risk acquring sars co v 2, covid 19 or developing severe covid 19</font> .</div></td>\n",
              "      <td>0.226447</td>\n",
              "      <td>30045</td>\n",
              "    </tr>\n",
              "    <tr>\n",
              "      <th>2</th>\n",
              "      <td>community pharmacists may struggle to identify perceived benefits without knowing the individual in question</td>\n",
              "      <td><div> in the case of the behaviors suggested in response to covid 19,  <font color='red'>community pharmacists may struggle to identify perceived benefits without knowing the individual in question</font> .</div></td>\n",
              "      <td>0.055960</td>\n",
              "      <td>17669</td>\n",
              "    </tr>\n",
              "    <tr>\n",
              "      <th>3</th>\n",
              "      <td>perceived barriers are likely to be profound in many cases</td>\n",
              "      <td><div> in the case of covid 19 prevention behaviors,  <font color='red'>perceived barriers are likely to be profound in many cases</font> .</div></td>\n",
              "      <td>0.051170</td>\n",
              "      <td>17669</td>\n",
              "    </tr>\n",
              "    <tr>\n",
              "      <th>4</th>\n",
              "      <td>as a 15 % case reduction from school closings and 2 % baseline mortality rate</td>\n",
              "      <td><div> a 15 % decline in the healthcare labor force, combined with reasonable parameters for covid 19 such  <font color='red'>as a 15 % case reduction from school closings and 2 % baseline mortality rate</font>  implies that a 15 % loss in the healthcare labor force must decrease the survival probability per percent healthcare worker lost by 17.</div></td>\n",
              "      <td>0.032081</td>\n",
              "      <td>118</td>\n",
              "    </tr>\n",
              "  </tbody>\n",
              "</table>"
            ],
            "text/plain": [
              "<IPython.core.display.HTML object>"
            ]
          },
          "metadata": {
            "tags": []
          }
        },
        {
          "output_type": "stream",
          "text": [
            "2019-nCoV, risk factors What risk factors contribute to the severity of 2019-nCoV\n"
          ],
          "name": "stdout"
        },
        {
          "output_type": "display_data",
          "data": {
            "text/html": [
              ""
            ],
            "text/plain": [
              "<IPython.core.display.HTML object>"
            ]
          },
          "metadata": {
            "tags": []
          }
        },
        {
          "output_type": "display_data",
          "data": {
            "text/html": [
              "<table border=\"1\" class=\"dataframe\">\n",
              "  <thead>\n",
              "    <tr style=\"text-align: right;\">\n",
              "      <th></th>\n",
              "      <th>Candidate Answer</th>\n",
              "      <th>Context</th>\n",
              "      <th>Confidence</th>\n",
              "      <th>Document Reference</th>\n",
              "    </tr>\n",
              "  </thead>\n",
              "  <tbody>\n",
              "    <tr>\n",
              "      <th>0</th>\n",
              "      <td>other coronaviruses and pregnancy</td>\n",
              "      <td><div> <font color='red'>other coronaviruses and pregnancy</font> </div></td>\n",
              "      <td>0.301219</td>\n",
              "      <td>6124</td>\n",
              "    </tr>\n",
              "    <tr>\n",
              "      <th>1</th>\n",
              "      <td>risk of fatality among hospitalised cases</td>\n",
              "      <td><div> <font color='red'>risk of fatality among hospitalised cases</font> </div></td>\n",
              "      <td>0.191089</td>\n",
              "      <td>3089</td>\n",
              "    </tr>\n",
              "    <tr>\n",
              "      <th>2</th>\n",
              "      <td>in early december 2019, the first pneumonia cases of unknown origins were identified in wuhan city, hubei province, china [ 1 ]. high throughput sequencing has revealed a novel betacoronavirus that is currently named 2019 novel coronavirus (2019 n co v) [ 2 ], which resembled severe acute respiratory syndrome coronavirus (sars co v) [ 3 ]. the 2019 n co v is the seventh member of enveloped rna coronavirus (subgenus sarbecovirus, orthocoronavirinae subfamily) [ 3 ]. evidence pointing to the person to person transmission in hospital and family settings has been accumulating [ 4 ] [ 5 ] [ 6 ] [ 7 ] [ 8 ]. the world health organization has recently declared the 2019 n co v a public health emergency of international concern [ 9 ]. as of february 5 th, 2020,24,554 laboratory confirmed cases have been documented globally (i. e., the usa, vietnam, germany) [ 5,6,9,10 ]. 28,018 laboratory confirmed cases and 563 death cases in china as of february 6 th, 2020 [ 11 ]. despite the rapid spread worldwide, the clinical characteristics of 2019 n co v acute respiratory disease (ard) remain largely unclear. in two recent studies documenting the clinical manifestations of 41 and 99 patients respectively with laboratory confirmed 2019 n co v ard who were admitted to wuhan, the severity of some cases with 2019 n co v ard mimicked that of sars co v [ 1,12 ]. given the rapid spread of 2019 n co v, an updated analysis with significantly larger sample sizes by incorporating cases throughout china is urgently warranted. this will not only identify the defining epidemiological and clinical characteristics with greater precision, but also unravel the risk factors associated with mortality</td>\n",
              "      <td><div> <font color='red'>in early december 2019, the first pneumonia cases of unknown origins were identified in wuhan city, hubei province, china [ 1 ]. high throughput sequencing has revealed a novel betacoronavirus that is currently named 2019 novel coronavirus (2019 n co v) [ 2 ], which resembled severe acute respiratory syndrome coronavirus (sars co v) [ 3 ]. the 2019 n co v is the seventh member of enveloped rna coronavirus (subgenus sarbecovirus, orthocoronavirinae subfamily) [ 3 ]. evidence pointing to the person to person transmission in hospital and family settings has been accumulating [ 4 ] [ 5 ] [ 6 ] [ 7 ] [ 8 ]. the world health organization has recently declared the 2019 n co v a public health emergency of international concern [ 9 ]. as of february 5 th, 2020,24,554 laboratory confirmed cases have been documented globally (i. e., the usa, vietnam, germany) [ 5,6,9,10 ]. 28,018 laboratory confirmed cases and 563 death cases in china as of february 6 th, 2020 [ 11 ]. despite the rapid spread worldwide, the clinical characteristics of 2019 n co v acute respiratory disease (ard) remain largely unclear. in two recent studies documenting the clinical manifestations of 41 and 99 patients respectively with laboratory confirmed 2019 n co v ard who were admitted to wuhan, the severity of some cases with 2019 n co v ard mimicked that of sars co v [ 1,12 ]. given the rapid spread of 2019 n co v, an updated analysis with significantly larger sample sizes by incorporating cases throughout china is urgently warranted. this will not only identify the defining epidemiological and clinical characteristics with greater precision, but also unravel the risk factors associated with mortality</font> .</div></td>\n",
              "      <td>0.090092</td>\n",
              "      <td>1406</td>\n",
              "    </tr>\n",
              "    <tr>\n",
              "      <th>3</th>\n",
              "      <td>imaging, complications, and outcomes</td>\n",
              "      <td><div> <font color='red'>imaging, complications, and outcomes</font> </div></td>\n",
              "      <td>0.086207</td>\n",
              "      <td>36224</td>\n",
              "    </tr>\n",
              "    <tr>\n",
              "      <th>4</th>\n",
              "      <td>diabetes related traits</td>\n",
              "      <td><div> <font color='red'>diabetes related traits</font> </div></td>\n",
              "      <td>0.085867</td>\n",
              "      <td>1149</td>\n",
              "    </tr>\n",
              "  </tbody>\n",
              "</table>"
            ],
            "text/plain": [
              "<IPython.core.display.HTML object>"
            ]
          },
          "metadata": {
            "tags": []
          }
        },
        {
          "output_type": "stream",
          "text": [
            "2019-nCoV, hypertension, comorbidity How does hypertension affect patients\n"
          ],
          "name": "stdout"
        },
        {
          "output_type": "display_data",
          "data": {
            "text/html": [
              ""
            ],
            "text/plain": [
              "<IPython.core.display.HTML object>"
            ]
          },
          "metadata": {
            "tags": []
          }
        },
        {
          "output_type": "display_data",
          "data": {
            "text/html": [
              "<table border=\"1\" class=\"dataframe\">\n",
              "  <thead>\n",
              "    <tr style=\"text-align: right;\">\n",
              "      <th></th>\n",
              "      <th>Candidate Answer</th>\n",
              "      <th>Context</th>\n",
              "      <th>Confidence</th>\n",
              "      <th>Document Reference</th>\n",
              "    </tr>\n",
              "  </thead>\n",
              "  <tbody>\n",
              "    <tr>\n",
              "      <th>0</th>\n",
              "      <td>the twenty six patients that have succumbed to the novel co v had significant health conditions including hypertension, diabetes, heart and / or kidney function issues that may have made them more susceptible</td>\n",
              "      <td><div> for the 2019 n co v, limited comorbidity data is available ; however,  <font color='red'>the twenty six patients that have succumbed to the novel co v had significant health conditions including hypertension, diabetes, heart and / or kidney function issues that may have made them more susceptible</font> .</div></td>\n",
              "      <td>0.237221</td>\n",
              "      <td>2971</td>\n",
              "    </tr>\n",
              "    <tr>\n",
              "      <th>1</th>\n",
              "      <td>especially comorbid</td>\n",
              "      <td><div> 018),  <font color='red'>especially comorbid</font>  hypertension, diabetes, and cardiac disease.</div></td>\n",
              "      <td>0.211744</td>\n",
              "      <td>1665</td>\n",
              "    </tr>\n",
              "    <tr>\n",
              "      <th>2</th>\n",
              "      <td>comorbidities</td>\n",
              "      <td><div>  <font color='red'>comorbidities</font>  with pooled or larger than 2 included ckd (6.</div></td>\n",
              "      <td>0.205149</td>\n",
              "      <td>1073</td>\n",
              "    </tr>\n",
              "    <tr>\n",
              "      <th>3</th>\n",
              "      <td>a wide range of clinical manifestations can be seen and are associated with substantial outcomes</td>\n",
              "      <td><div> in all patients admitted with medical comorbidities of 2019 n co v,  <font color='red'>a wide range of clinical manifestations can be seen and are associated with substantial outcomes</font> .</div></td>\n",
              "      <td>0.117252</td>\n",
              "      <td>15090</td>\n",
              "    </tr>\n",
              "    <tr>\n",
              "      <th>4</th>\n",
              "      <td>were recorded in detail</td>\n",
              "      <td><div> epidemiological history, comorbidity, vital signs, symptoms and signs  <font color='red'>were recorded in detail</font> , and laboratory tests including biochemical indicators, blood routine, c reactive protein, chest radiograph or ct scan.</div></td>\n",
              "      <td>0.051078</td>\n",
              "      <td>440</td>\n",
              "    </tr>\n",
              "  </tbody>\n",
              "</table>"
            ],
            "text/plain": [
              "<IPython.core.display.HTML object>"
            ]
          },
          "metadata": {
            "tags": []
          }
        },
        {
          "output_type": "stream",
          "text": [
            "2019-nCoV, heart disease, comorbidity How does heart disease affect patients\n"
          ],
          "name": "stdout"
        },
        {
          "output_type": "display_data",
          "data": {
            "text/html": [
              ""
            ],
            "text/plain": [
              "<IPython.core.display.HTML object>"
            ]
          },
          "metadata": {
            "tags": []
          }
        },
        {
          "output_type": "display_data",
          "data": {
            "text/html": [
              "<table border=\"1\" class=\"dataframe\">\n",
              "  <thead>\n",
              "    <tr style=\"text-align: right;\">\n",
              "      <th></th>\n",
              "      <th>Candidate Answer</th>\n",
              "      <th>Context</th>\n",
              "      <th>Confidence</th>\n",
              "      <th>Document Reference</th>\n",
              "    </tr>\n",
              "  </thead>\n",
              "  <tbody>\n",
              "    <tr>\n",
              "      <th>0</th>\n",
              "      <td>mortality within long term care environments related to covid 19 will be significantly higher than among the general population</td>\n",
              "      <td><div> quite clearly,  <font color='red'>mortality within long term care environments related to covid 19 will be significantly higher than among the general population</font>  as a function of resident advanced age and comorbidity rather than substandard care.</div></td>\n",
              "      <td>0.384985</td>\n",
              "      <td>21285</td>\n",
              "    </tr>\n",
              "    <tr>\n",
              "      <th>1</th>\n",
              "      <td>limited comorbidity data is available ; however, the twenty six patients that have succumbed to the novel co v had significant health conditions including hypertension, diabetes, heart and / or kidney function issues that may have made them more susceptible</td>\n",
              "      <td><div> for the 2019 n co v,  <font color='red'>limited comorbidity data is available ; however, the twenty six patients that have succumbed to the novel co v had significant health conditions including hypertension, diabetes, heart and / or kidney function issues that may have made them more susceptible</font> .</div></td>\n",
              "      <td>0.258735</td>\n",
              "      <td>2971</td>\n",
              "    </tr>\n",
              "    <tr>\n",
              "      <th>2</th>\n",
              "      <td>a wide range of clinical manifestations can be seen and are associated with substantial outcomes</td>\n",
              "      <td><div> in all patients admitted with medical comorbidities of 2019 n co v,  <font color='red'>a wide range of clinical manifestations can be seen and are associated with substantial outcomes</font> .</div></td>\n",
              "      <td>0.085000</td>\n",
              "      <td>15090</td>\n",
              "    </tr>\n",
              "    <tr>\n",
              "      <th>3</th>\n",
              "      <td>were recorded in detail</td>\n",
              "      <td><div> epidemiological history, comorbidity, vital signs, symptoms and signs  <font color='red'>were recorded in detail</font> , and laboratory tests including biochemical indicators, blood routine, c reactive protein, chest radiograph or ct scan.</div></td>\n",
              "      <td>0.067187</td>\n",
              "      <td>440</td>\n",
              "    </tr>\n",
              "    <tr>\n",
              "      <th>4</th>\n",
              "      <td>the 2019 n co v infection was of clustering onset, is more likely to affect older men with comorbidities</td>\n",
              "      <td><div> <font color='red'>the 2019 n co v infection was of clustering onset, is more likely to affect older men with comorbidities</font> , and could result in severe and even fatal respiratory diseases such as acute respiratory distress syndrome.</div></td>\n",
              "      <td>0.044967</td>\n",
              "      <td>15090</td>\n",
              "    </tr>\n",
              "  </tbody>\n",
              "</table>"
            ],
            "text/plain": [
              "<IPython.core.display.HTML object>"
            ]
          },
          "metadata": {
            "tags": []
          }
        },
        {
          "output_type": "stream",
          "text": [
            "2019-nCoV, copd, chronic obstructive pulmonary disease How does copd affect patients\n"
          ],
          "name": "stdout"
        },
        {
          "output_type": "display_data",
          "data": {
            "text/html": [
              ""
            ],
            "text/plain": [
              "<IPython.core.display.HTML object>"
            ]
          },
          "metadata": {
            "tags": []
          }
        },
        {
          "output_type": "display_data",
          "data": {
            "text/html": [
              "<table border=\"1\" class=\"dataframe\">\n",
              "  <thead>\n",
              "    <tr style=\"text-align: right;\">\n",
              "      <th></th>\n",
              "      <th>Candidate Answer</th>\n",
              "      <th>Context</th>\n",
              "      <th>Confidence</th>\n",
              "      <th>Document Reference</th>\n",
              "    </tr>\n",
              "  </thead>\n",
              "  <tbody>\n",
              "    <tr>\n",
              "      <th>0</th>\n",
              "      <td>with increased risk of morbidity and mortality</td>\n",
              "      <td><div> chronic obstructive pulmonary disease (copd) is associated  <font color='red'>with increased risk of morbidity and mortality</font>  in community acquired pneumonia (cap) [ 2 ].</div></td>\n",
              "      <td>0.638714</td>\n",
              "      <td>38374</td>\n",
              "    </tr>\n",
              "    <tr>\n",
              "      <th>1</th>\n",
              "      <td>is extensively influenced by viral infections</td>\n",
              "      <td><div>chronic obstructive pulmonary disease (copd)  <font color='red'>is extensively influenced by viral infections</font> .</div></td>\n",
              "      <td>0.172333</td>\n",
              "      <td>34118</td>\n",
              "    </tr>\n",
              "    <tr>\n",
              "      <th>2</th>\n",
              "      <td>the expression level of ace2 was not significantly altered between healthy populations</td>\n",
              "      <td><div>  <font color='red'>the expression level of ace2 was not significantly altered between healthy populations</font>  and patients with chronic respiratory diseases including chronic obstructive pulmonary diseases (copd) and asthma (figure 1a, 1b, and 1c, p value > 0.</div></td>\n",
              "      <td>0.035685</td>\n",
              "      <td>596</td>\n",
              "    </tr>\n",
              "    <tr>\n",
              "      <th>3</th>\n",
              "      <td>affect many individuals worldwide</td>\n",
              "      <td><div>chronic lung diseases, such as chronic obstructive pulmonary disease (copd), asthma, cystic fibrosis (cf), and interstitial lung diseases (ild),  <font color='red'>affect many individuals worldwide</font> .</div></td>\n",
              "      <td>0.035685</td>\n",
              "      <td>36471</td>\n",
              "    </tr>\n",
              "    <tr>\n",
              "      <th>4</th>\n",
              "      <td>affect many individuals worldwide</td>\n",
              "      <td><div>chronic lung diseases, such as chronic obstructive pulmonary disease (copd), asthma, cystic fibrosis (cf), and interstitial lung diseases (ild),  <font color='red'>affect many individuals worldwide</font> .</div></td>\n",
              "      <td>0.023327</td>\n",
              "      <td>16055</td>\n",
              "    </tr>\n",
              "  </tbody>\n",
              "</table>"
            ],
            "text/plain": [
              "<IPython.core.display.HTML object>"
            ]
          },
          "metadata": {
            "tags": []
          }
        },
        {
          "output_type": "stream",
          "text": [
            "2019-nCoV, smoking, smoker How does smoking affect 2019-nCoV patients\n"
          ],
          "name": "stdout"
        },
        {
          "output_type": "display_data",
          "data": {
            "text/html": [
              ""
            ],
            "text/plain": [
              "<IPython.core.display.HTML object>"
            ]
          },
          "metadata": {
            "tags": []
          }
        },
        {
          "output_type": "display_data",
          "data": {
            "text/html": [
              "<table border=\"1\" class=\"dataframe\">\n",
              "  <thead>\n",
              "    <tr style=\"text-align: right;\">\n",
              "      <th></th>\n",
              "      <th>Candidate Answer</th>\n",
              "      <th>Context</th>\n",
              "      <th>Confidence</th>\n",
              "      <th>Document Reference</th>\n",
              "    </tr>\n",
              "  </thead>\n",
              "  <tbody>\n",
              "    <tr>\n",
              "      <th>0</th>\n",
              "      <td>perceived self efficacy</td>\n",
              "      <td><div> <font color='red'>perceived self efficacy</font> </div></td>\n",
              "      <td>0.892797</td>\n",
              "      <td>17669</td>\n",
              "    </tr>\n",
              "    <tr>\n",
              "      <th>1</th>\n",
              "      <td>perceived benefits</td>\n",
              "      <td><div> <font color='red'>perceived benefits</font> </div></td>\n",
              "      <td>0.025962</td>\n",
              "      <td>17669</td>\n",
              "    </tr>\n",
              "    <tr>\n",
              "      <th>2</th>\n",
              "      <td>outcomes</td>\n",
              "      <td><div> <font color='red'>outcomes</font> </div></td>\n",
              "      <td>0.018988</td>\n",
              "      <td>15090</td>\n",
              "    </tr>\n",
              "    <tr>\n",
              "      <th>3</th>\n",
              "      <td>none</td>\n",
              "      <td><div> <font color='red'>none</font> </div></td>\n",
              "      <td>0.015263</td>\n",
              "      <td>15995</td>\n",
              "    </tr>\n",
              "    <tr>\n",
              "      <th>4</th>\n",
              "      <td>funding</td>\n",
              "      <td><div> <font color='red'>funding</font> </div></td>\n",
              "      <td>0.012914</td>\n",
              "      <td>17669</td>\n",
              "    </tr>\n",
              "  </tbody>\n",
              "</table>"
            ],
            "text/plain": [
              "<IPython.core.display.HTML object>"
            ]
          },
          "metadata": {
            "tags": []
          }
        },
        {
          "output_type": "stream",
          "text": [
            "2019-nCoV, pregnant, pregnancy How does pregnancy affect patients\n"
          ],
          "name": "stdout"
        },
        {
          "output_type": "display_data",
          "data": {
            "text/html": [
              ""
            ],
            "text/plain": [
              "<IPython.core.display.HTML object>"
            ]
          },
          "metadata": {
            "tags": []
          }
        },
        {
          "output_type": "display_data",
          "data": {
            "text/html": [
              "<table border=\"1\" class=\"dataframe\">\n",
              "  <thead>\n",
              "    <tr style=\"text-align: right;\">\n",
              "      <th></th>\n",
              "      <th>Candidate Answer</th>\n",
              "      <th>Context</th>\n",
              "      <th>Confidence</th>\n",
              "      <th>Document Reference</th>\n",
              "    </tr>\n",
              "  </thead>\n",
              "  <tbody>\n",
              "    <tr>\n",
              "      <th>0</th>\n",
              "      <td>that 2019 n co v will infect women who are pregnant</td>\n",
              "      <td><div> it is certain  <font color='red'>that 2019 n co v will infect women who are pregnant</font> , leaving the question open as to whether the novel coronavirus will have a similar or different effect on them compared with sars co v and mers co v.</div></td>\n",
              "      <td>0.307522</td>\n",
              "      <td>6124</td>\n",
              "    </tr>\n",
              "    <tr>\n",
              "      <th>1</th>\n",
              "      <td>that pregnant women have become infected during the present 2019 n co v epidemic. in order to assess the potential of the wuhan 2019 n co v to cause maternal, fetal and neonatal morbidity and other poor obstetrical outcomes, this communication reviews the published data addressing the epidemiological and clinical effects of sars, mers, and other coronavirus infections on pregnant women and their infants. recommendations are also made for the consideration of pregnant women in the design, clinical trials, and implementation of future 2019 n co v vaccines. viruses 2020,12,194 2 of 16 tract infections. both the sars co v and mers co v have several features in common that are factors in producing nosocomial transmission, replication in the lower respiratory tract, and viral immunopathology. both coronaviruses are zoonotic infections and constitute significant public health threats that have resulted in epidemics with significant loss of life [ 1,5,6 ]. when the sars co v and mers co v infect women who are pregnant, they can result in poor obstetric outcomes including maternal morbidity and death</td>\n",
              "      <td><div> unfortunately, there is limited experience with coronavirus infections during pregnancy, and it now appears certain  <font color='red'>that pregnant women have become infected during the present 2019 n co v epidemic. in order to assess the potential of the wuhan 2019 n co v to cause maternal, fetal and neonatal morbidity and other poor obstetrical outcomes, this communication reviews the published data addressing the epidemiological and clinical effects of sars, mers, and other coronavirus infections on pregnant women and their infants. recommendations are also made for the consideration of pregnant women in the design, clinical trials, and implementation of future 2019 n co v vaccines. viruses 2020,12,194 2 of 16 tract infections. both the sars co v and mers co v have several features in common that are factors in producing nosocomial transmission, replication in the lower respiratory tract, and viral immunopathology. both coronaviruses are zoonotic infections and constitute significant public health threats that have resulted in epidemics with significant loss of life [ 1,5,6 ]. when the sars co v and mers co v infect women who are pregnant, they can result in poor obstetric outcomes including maternal morbidity and death</font> .</div></td>\n",
              "      <td>0.206623</td>\n",
              "      <td>6124</td>\n",
              "    </tr>\n",
              "    <tr>\n",
              "      <th>2</th>\n",
              "      <td>\" maternal infection \" or \" neonatal outcomes \"</td>\n",
              "      <td><div>evidence before this study we searched pub med and google scholar on feb 8,2020, for articles describing the features of patients in pregnancy infected with severe acute respiratory syndrome coronavirus 2 (sars co v 2 ; previously known as 2019 novel coronavirus [ 2019 n co v ]), using the search terms \" novel coronavirus \" or \" 2019 novel coronavirus \" or \" 2019 n co v \" and \" pregnancy \" or  <font color='red'>\" maternal infection \" or \" neonatal outcomes \"</font> .</div></td>\n",
              "      <td>0.098857</td>\n",
              "      <td>39014</td>\n",
              "    </tr>\n",
              "    <tr>\n",
              "      <th>3</th>\n",
              "      <td>all pregnant patients being assessed or admitted to the hospital should be screened for symptoms of and risk factors for sars</td>\n",
              "      <td><div>at times of sars outbreaks,  <font color='red'>all pregnant patients being assessed or admitted to the hospital should be screened for symptoms of and risk factors for sars</font> .</div></td>\n",
              "      <td>0.069105</td>\n",
              "      <td>6124</td>\n",
              "    </tr>\n",
              "    <tr>\n",
              "      <th>4</th>\n",
              "      <td>pregnant patients with suspected and probable sars should be placed in a negative pressure isolation room with at least 6 air exchanges per hour</td>\n",
              "      <td><div>upon arrival in the labour triage unit,  <font color='red'>pregnant patients with suspected and probable sars should be placed in a negative pressure isolation room with at least 6 air exchanges per hour</font> .</div></td>\n",
              "      <td>0.063946</td>\n",
              "      <td>6124</td>\n",
              "    </tr>\n",
              "  </tbody>\n",
              "</table>"
            ],
            "text/plain": [
              "<IPython.core.display.HTML object>"
            ]
          },
          "metadata": {
            "tags": []
          }
        },
        {
          "output_type": "stream",
          "text": [
            "2019-nCoV, fatality, statistics, death What are the case fatality rates for 2019-nCoV patients\n"
          ],
          "name": "stdout"
        },
        {
          "output_type": "display_data",
          "data": {
            "text/html": [
              ""
            ],
            "text/plain": [
              "<IPython.core.display.HTML object>"
            ]
          },
          "metadata": {
            "tags": []
          }
        },
        {
          "output_type": "display_data",
          "data": {
            "text/html": [
              "<table border=\"1\" class=\"dataframe\">\n",
              "  <thead>\n",
              "    <tr style=\"text-align: right;\">\n",
              "      <th></th>\n",
              "      <th>Candidate Answer</th>\n",
              "      <th>Context</th>\n",
              "      <th>Confidence</th>\n",
              "      <th>Document Reference</th>\n",
              "    </tr>\n",
              "  </thead>\n",
              "  <tbody>\n",
              "    <tr>\n",
              "      <th>0</th>\n",
              "      <td>in early december 2019 a cluster of cases of pneumonia of unknown cause was identified in wuhan, a city of 11 million persons in the people ' s republic of china. further investigation revealed these cases to result from infection with a newly identified coronavirus, initially termed 2019 n co v and subsequently sars co v 2. the infection moved rapidly through china, spread to thailand and japan, extended into adjacent countries through infected persons travelling by air, eventually reaching multiple countries and continents. similar to such other coronaviruses as those causing the middle east respiratory syndrome (mers) and severe acute respiratory syndrome (sars), the new coronavirus was reported to spread via natural aerosols from human to human. in the early stages of this epidemic the case fatality rate is estimated to be approximately 2 %</td>\n",
              "      <td><div> <font color='red'>in early december 2019 a cluster of cases of pneumonia of unknown cause was identified in wuhan, a city of 11 million persons in the people ' s republic of china. further investigation revealed these cases to result from infection with a newly identified coronavirus, initially termed 2019 n co v and subsequently sars co v 2. the infection moved rapidly through china, spread to thailand and japan, extended into adjacent countries through infected persons travelling by air, eventually reaching multiple countries and continents. similar to such other coronaviruses as those causing the middle east respiratory syndrome (mers) and severe acute respiratory syndrome (sars), the new coronavirus was reported to spread via natural aerosols from human to human. in the early stages of this epidemic the case fatality rate is estimated to be approximately 2 %</font> , with the majority of deaths occurring in special populations.</div></td>\n",
              "      <td>0.778626</td>\n",
              "      <td>6124</td>\n",
              "    </tr>\n",
              "    <tr>\n",
              "      <th>1</th>\n",
              "      <td>of 1. 6 %</td>\n",
              "      <td><div>the piba model accurately predicted a case fatality  <font color='red'>of 1. 6 %</font>  for symptomatic patients in</div></td>\n",
              "      <td>0.162663</td>\n",
              "      <td>31107</td>\n",
              "    </tr>\n",
              "    <tr>\n",
              "      <th>2</th>\n",
              "      <td>of 15. 9 %</td>\n",
              "      <td><div> 6 %), with a fatality rate  <font color='red'>of 15. 9 %</font>  (table 7).</div></td>\n",
              "      <td>0.015937</td>\n",
              "      <td>36224</td>\n",
              "    </tr>\n",
              "    <tr>\n",
              "      <th>3</th>\n",
              "      <td>the 2019 n co v or sars co v 2 is an enveloped rna virus that belongs to the coronaviridae, a family of viruses that can infect humans and several animal species. to date, seven human coronaviruses have been identified (hco v 229e, hco v nl63, hco v oc43, hco v hku1, sars co v, mers co v, and sars co v 2). 7 the sars co v 2 belongs to the subgenus sarbecovirus and most closely resembles a bat coronavirus, with which it shares 96. 2 % genetic sequence homology. 2 8 9 the current belief is that covid 19 was introduced into humans through an as yet unidentified intermediary animal, and it has since propagated through human to human spread. human to human transmission occurs primarily through respiratory droplets that travel up to 2 m and may enter the respiratory tract of individuals within range or contaminated surfaces, leading to infection through contact transmission. 10 the average incubation period is 5 days, but it ranges from 1 to 14 days. 10 11 the basic reproductive number (the number of cases one infected individual generates), r 0, is estimated to be 2. 68 (95 % confidence interval : 2. 47e2. 86). 12 whilst asymptomatic transmission (during the incubation period, before onset of symptoms in infected individuals) has been suggested, it remains controversial and currently does not appear to be a major factor for infection transmission. 10 infections in humans result in a spectrum of clinical disease, from mild upper respiratory tract infection, mostly commonly characterised by fever (82 %) and cough (81 %), to severe acute respiratory distress syndrome (ards) and sepsis. the median age of infected individuals is between 49 and 56 yr. 1 13 children are rarely diagnosed with 2019 n co v, a phenomenon that has not yet been explained. characterisation of the first 99 cases of 2019 n co v within wuhan demonstrated that 33 % had severe illness, with 17 % developing ards, 4 % requiring mechanical ventilation, and 4 % having sepsis. 13 the case fatality rate is currently estimated at 2 %</td>\n",
              "      <td><div> <font color='red'>the 2019 n co v or sars co v 2 is an enveloped rna virus that belongs to the coronaviridae, a family of viruses that can infect humans and several animal species. to date, seven human coronaviruses have been identified (hco v 229e, hco v nl63, hco v oc43, hco v hku1, sars co v, mers co v, and sars co v 2). 7 the sars co v 2 belongs to the subgenus sarbecovirus and most closely resembles a bat coronavirus, with which it shares 96. 2 % genetic sequence homology. 2 8 9 the current belief is that covid 19 was introduced into humans through an as yet unidentified intermediary animal, and it has since propagated through human to human spread. human to human transmission occurs primarily through respiratory droplets that travel up to 2 m and may enter the respiratory tract of individuals within range or contaminated surfaces, leading to infection through contact transmission. 10 the average incubation period is 5 days, but it ranges from 1 to 14 days. 10 11 the basic reproductive number (the number of cases one infected individual generates), r 0, is estimated to be 2. 68 (95 % confidence interval : 2. 47e2. 86). 12 whilst asymptomatic transmission (during the incubation period, before onset of symptoms in infected individuals) has been suggested, it remains controversial and currently does not appear to be a major factor for infection transmission. 10 infections in humans result in a spectrum of clinical disease, from mild upper respiratory tract infection, mostly commonly characterised by fever (82 %) and cough (81 %), to severe acute respiratory distress syndrome (ards) and sepsis. the median age of infected individuals is between 49 and 56 yr. 1 13 children are rarely diagnosed with 2019 n co v, a phenomenon that has not yet been explained. characterisation of the first 99 cases of 2019 n co v within wuhan demonstrated that 33 % had severe illness, with 17 % developing ards, 4 % requiring mechanical ventilation, and 4 % having sepsis. 13 the case fatality rate is currently estimated at 2 %</font>  based on the confirmed cases reported for the ongoing outbreak.</div></td>\n",
              "      <td>0.010731</td>\n",
              "      <td>35801</td>\n",
              "    </tr>\n",
              "    <tr>\n",
              "      <th>4</th>\n",
              "      <td>(< 3. 5 %</td>\n",
              "      <td><div> as we discussed earlier, the differences between the crude fatality rate  <font color='red'>(< 3. 5 %</font> ) and that found among hospitalized patients in the selected studies included here may be explained by the fact that cases requiring medical attention in hospitals consulted with a more advanced stage of disease ,.</div></td>\n",
              "      <td>0.010256</td>\n",
              "      <td>36224</td>\n",
              "    </tr>\n",
              "  </tbody>\n",
              "</table>"
            ],
            "text/plain": [
              "<IPython.core.display.HTML object>"
            ]
          },
          "metadata": {
            "tags": []
          }
        },
        {
          "output_type": "stream",
          "text": [
            "2019-nCoV, fatality, statistics, death What is the case fatality rate in Italy\n"
          ],
          "name": "stdout"
        },
        {
          "output_type": "display_data",
          "data": {
            "text/html": [
              ""
            ],
            "text/plain": [
              "<IPython.core.display.HTML object>"
            ]
          },
          "metadata": {
            "tags": []
          }
        },
        {
          "output_type": "display_data",
          "data": {
            "text/html": [
              "<table border=\"1\" class=\"dataframe\">\n",
              "  <thead>\n",
              "    <tr style=\"text-align: right;\">\n",
              "      <th></th>\n",
              "      <th>Candidate Answer</th>\n",
              "      <th>Context</th>\n",
              "      <th>Confidence</th>\n",
              "      <th>Document Reference</th>\n",
              "    </tr>\n",
              "  </thead>\n",
              "  <tbody>\n",
              "    <tr>\n",
              "      <th>0</th>\n",
              "      <td>about 7. 9 % of confirmed cases passed away</td>\n",
              "      <td><div> calculating the total case fatality rate (cfr) of italy (2020-03-04),  <font color='red'>about 7. 9 % of confirmed cases passed away</font> .</div></td>\n",
              "      <td>0.866807</td>\n",
              "      <td>1329</td>\n",
              "    </tr>\n",
              "    <tr>\n",
              "      <th>1</th>\n",
              "      <td>(7. 9 %</td>\n",
              "      <td><div> the highest and the lowest case fatality rate are belongs to italy  <font color='red'>(7. 9 %</font> ) (and south korea (0.</div></td>\n",
              "      <td>0.111701</td>\n",
              "      <td>1329</td>\n",
              "    </tr>\n",
              "    <tr>\n",
              "      <th>2</th>\n",
              "      <td>approximately 7 %</td>\n",
              "      <td><div> preliminary statistics from italy ' s outbreak of covid 19, currently the second most affected country outside of china with the highest case fatality ratio to date of  <font color='red'>approximately 7 %</font> , similarly suggest children are not likely to be at high risk of severe disease (epi centro, 2020).</div></td>\n",
              "      <td>0.007304</td>\n",
              "      <td>23726</td>\n",
              "    </tr>\n",
              "    <tr>\n",
              "      <th>3</th>\n",
              "      <td>rate 1. 5 %</td>\n",
              "      <td><div> in the formulation, 1 / is the incubation period (7 days), 1 / the infectious period (9 days), and = / (1 −) is the death rate, which is estimated by the fatality  <font color='red'>rate 1. 5 %</font> .</div></td>\n",
              "      <td>0.005791</td>\n",
              "      <td>1079</td>\n",
              "    </tr>\n",
              "    <tr>\n",
              "      <th>4</th>\n",
              "      <td>4 / 20</td>\n",
              "      <td><div> <font color='red'>4 / 20</font> </div></td>\n",
              "      <td>0.003232</td>\n",
              "      <td>1329</td>\n",
              "    </tr>\n",
              "  </tbody>\n",
              "</table>"
            ],
            "text/plain": [
              "<IPython.core.display.HTML object>"
            ]
          },
          "metadata": {
            "tags": []
          }
        },
        {
          "output_type": "stream",
          "text": [
            "2019-nCoV, guidance, public health,  policy, control measures What public health policies prevent or control the spread of 2019-nCoV\n"
          ],
          "name": "stdout"
        },
        {
          "output_type": "display_data",
          "data": {
            "text/html": [
              ""
            ],
            "text/plain": [
              "<IPython.core.display.HTML object>"
            ]
          },
          "metadata": {
            "tags": []
          }
        },
        {
          "output_type": "display_data",
          "data": {
            "text/html": [
              "<table border=\"1\" class=\"dataframe\">\n",
              "  <thead>\n",
              "    <tr style=\"text-align: right;\">\n",
              "      <th></th>\n",
              "      <th>Candidate Answer</th>\n",
              "      <th>Context</th>\n",
              "      <th>Confidence</th>\n",
              "      <th>Document Reference</th>\n",
              "    </tr>\n",
              "  </thead>\n",
              "  <tbody>\n",
              "    <tr>\n",
              "      <th>0</th>\n",
              "      <td>promoting infection prevention and control in hospitals during the 2019 n co v epidemic</td>\n",
              "      <td><div> they are aimed at  <font color='red'>promoting infection prevention and control in hospitals during the 2019 n co v epidemic</font> .</div></td>\n",
              "      <td>0.217967</td>\n",
              "      <td>13372</td>\n",
              "    </tr>\n",
              "    <tr>\n",
              "      <th>1</th>\n",
              "      <td>the coronavirus epidemic</td>\n",
              "      <td><div>long term care facilities and  <font color='red'>the coronavirus epidemic</font>  : practical guidelines for a population at highest risk why long term care preparedness for covid 19 is important</div></td>\n",
              "      <td>0.215136</td>\n",
              "      <td>21285</td>\n",
              "    </tr>\n",
              "    <tr>\n",
              "      <th>2</th>\n",
              "      <td>proper regulation of inhospital policy may help control virus spreading</td>\n",
              "      <td><div>  <font color='red'>proper regulation of inhospital policy may help control virus spreading</font> .</div></td>\n",
              "      <td>0.129271</td>\n",
              "      <td>13372</td>\n",
              "    </tr>\n",
              "    <tr>\n",
              "      <th>3</th>\n",
              "      <td>and prevent the spread of the epidemic</td>\n",
              "      <td><div>to timely find and report the covid 19 cases, understand the disease characteristics and possible sources of infection, standardize the management of close contacts,  <font color='red'>and prevent the spread of the epidemic</font> .</div></td>\n",
              "      <td>0.086065</td>\n",
              "      <td>10134</td>\n",
              "    </tr>\n",
              "    <tr>\n",
              "      <th>4</th>\n",
              "      <td>on prevention of future infectious diseases</td>\n",
              "      <td><div>lessons learned from the 2019 n co v epidemic  <font color='red'>on prevention of future infectious diseases</font>  abstract</div></td>\n",
              "      <td>0.068338</td>\n",
              "      <td>26111</td>\n",
              "    </tr>\n",
              "  </tbody>\n",
              "</table>"
            ],
            "text/plain": [
              "<IPython.core.display.HTML object>"
            ]
          },
          "metadata": {
            "tags": []
          }
        },
        {
          "output_type": "stream",
          "text": [
            "What do we know about virus genetics, origin, and evolution?\n"
          ],
          "name": "stdout"
        },
        {
          "output_type": "display_data",
          "data": {
            "text/html": [
              ""
            ],
            "text/plain": [
              "<IPython.core.display.HTML object>"
            ]
          },
          "metadata": {
            "tags": []
          }
        },
        {
          "output_type": "display_data",
          "data": {
            "text/html": [
              "<table border=\"1\" class=\"dataframe\">\n",
              "  <thead>\n",
              "    <tr style=\"text-align: right;\">\n",
              "      <th></th>\n",
              "      <th>Candidate Answer</th>\n",
              "      <th>Context</th>\n",
              "      <th>Confidence</th>\n",
              "      <th>Document Reference</th>\n",
              "    </tr>\n",
              "  </thead>\n",
              "  <tbody>\n",
              "    <tr>\n",
              "      <th>0</th>\n",
              "      <td>we know much about virus replication and disease</td>\n",
              "      <td><div>  <font color='red'>we know much about virus replication and disease</font> .</div></td>\n",
              "      <td>0.249355</td>\n",
              "      <td>24620</td>\n",
              "    </tr>\n",
              "    <tr>\n",
              "      <th>1</th>\n",
              "      <td>and we have begun to understand some of the molecular changes that enable some viruses to adapt to a new host</td>\n",
              "      <td><div> although the factors that influence each stage of the replication and transmission of most agents have not been resolved, the genomics of both hosts and pathogens are now at hand  <font color='red'>and we have begun to understand some of the molecular changes that enable some viruses to adapt to a new host</font> .</div></td>\n",
              "      <td>0.169429</td>\n",
              "      <td>23284</td>\n",
              "    </tr>\n",
              "    <tr>\n",
              "      <th>2</th>\n",
              "      <td>we now know that viruses numerically dominate all habitats of life</td>\n",
              "      <td><div>  <font color='red'>we now know that viruses numerically dominate all habitats of life</font> , especially the oceans.</div></td>\n",
              "      <td>0.167745</td>\n",
              "      <td>24620</td>\n",
              "    </tr>\n",
              "    <tr>\n",
              "      <th>3</th>\n",
              "      <td>the somewhat subtle differences</td>\n",
              "      <td><div>while we have seen the stark similarities in the shell disorder of hcv, hsv and hiv, we also need to keep in mind  <font color='red'>the somewhat subtle differences</font>  among them in terms of transmission evolution and genetics.</div></td>\n",
              "      <td>0.096499</td>\n",
              "      <td>6838</td>\n",
              "    </tr>\n",
              "    <tr>\n",
              "      <th>4</th>\n",
              "      <td>since we know now that many bacterial proteins are well ordered</td>\n",
              "      <td><div> these important observations are in line with our hypothesis,  <font color='red'>since we know now that many bacterial proteins are well ordered</font> , especially proteins found in bacterial shells, as bacteria often have to dwell in harsh places [ 63,64 ].</div></td>\n",
              "      <td>0.059682</td>\n",
              "      <td>6838</td>\n",
              "    </tr>\n",
              "  </tbody>\n",
              "</table>"
            ],
            "text/plain": [
              "<IPython.core.display.HTML object>"
            ]
          },
          "metadata": {
            "tags": []
          }
        },
        {
          "output_type": "stream",
          "text": [
            "2019-nCoV, spillover, reservoir Can animals transmit 2019-nCoV\n"
          ],
          "name": "stdout"
        },
        {
          "output_type": "display_data",
          "data": {
            "text/html": [
              ""
            ],
            "text/plain": [
              "<IPython.core.display.HTML object>"
            ]
          },
          "metadata": {
            "tags": []
          }
        },
        {
          "output_type": "display_data",
          "data": {
            "text/html": [
              "<table border=\"1\" class=\"dataframe\">\n",
              "  <thead>\n",
              "    <tr style=\"text-align: right;\">\n",
              "      <th></th>\n",
              "      <th>Candidate Answer</th>\n",
              "      <th>Context</th>\n",
              "      <th>Confidence</th>\n",
              "      <th>Document Reference</th>\n",
              "    </tr>\n",
              "  </thead>\n",
              "  <tbody>\n",
              "    <tr>\n",
              "      <th>0</th>\n",
              "      <td>with interspecies transmission from animals</td>\n",
              "      <td><div> however, given the emergence of 2019 n co v pneumonia as a new infectious disease  <font color='red'>with interspecies transmission from animals</font> , we should reflect on the origin of the human pathogen and learn from our experience.</div></td>\n",
              "      <td>0.361315</td>\n",
              "      <td>27559</td>\n",
              "    </tr>\n",
              "    <tr>\n",
              "      <th>1</th>\n",
              "      <td>with interspecies transmission from animals</td>\n",
              "      <td><div> however, given the emergence of 2019 n co v pneumonia as a new infectious disease  <font color='red'>with interspecies transmission from animals</font> , we should reflect on the origin of the human pathogen and learn from our experience.</div></td>\n",
              "      <td>0.361315</td>\n",
              "      <td>29392</td>\n",
              "    </tr>\n",
              "    <tr>\n",
              "      <th>2</th>\n",
              "      <td>a reservoir for new viruses capable of infecting humans</td>\n",
              "      <td><div> in agreement, the emergence of the 2019 n co v highlights the importance of bats as  <font color='red'>a reservoir for new viruses capable of infecting humans</font> , but also serves as an excellent model to design studies and strategies to prevent future emergence of new zoonotic agents.</div></td>\n",
              "      <td>0.199675</td>\n",
              "      <td>36006</td>\n",
              "    </tr>\n",
              "    <tr>\n",
              "      <th>3</th>\n",
              "      <td>in this article, we describe a preliminary assessment of the outbreak of infections with the newly identified 2019 n co v. this assessment is based on the cases of infection reported over time by health authorities in wuhan and then at the national level, as well as the media in china and other countries. one of the most urgent priorities is to determine the degree of humanto human transmissibility of the novel pathogen, and accordingly, this is where information is most urgently needed. we outline two possible scenarios in the table and find that the early evidence was most consistent with limited human to human transmissibility, however more recent data seem to be increasingly more compatible with scenario 2 in which sustained human to human transmission has been occurring. determining the exposure profile among the recently confirmed cases would directly contribute to this assessment. additional information on approaches to case identification and laboratory testing protocols in wuhan and in other cities in china would also be informative. a separate priority is to identify the animal reservoir</td>\n",
              "      <td><div> <font color='red'>in this article, we describe a preliminary assessment of the outbreak of infections with the newly identified 2019 n co v. this assessment is based on the cases of infection reported over time by health authorities in wuhan and then at the national level, as well as the media in china and other countries. one of the most urgent priorities is to determine the degree of humanto human transmissibility of the novel pathogen, and accordingly, this is where information is most urgently needed. we outline two possible scenarios in the table and find that the early evidence was most consistent with limited human to human transmissibility, however more recent data seem to be increasingly more compatible with scenario 2 in which sustained human to human transmission has been occurring. determining the exposure profile among the recently confirmed cases would directly contribute to this assessment. additional information on approaches to case identification and laboratory testing protocols in wuhan and in other cities in china would also be informative. a separate priority is to identify the animal reservoir</font>  of this novel pathogen and any intermediary hosts, including potential supply chains of wild or game meat.</div></td>\n",
              "      <td>0.050642</td>\n",
              "      <td>3089</td>\n",
              "    </tr>\n",
              "    <tr>\n",
              "      <th>4</th>\n",
              "      <td>blocking transmission</td>\n",
              "      <td><div> <font color='red'>blocking transmission</font> </div></td>\n",
              "      <td>0.027054</td>\n",
              "      <td>5293</td>\n",
              "    </tr>\n",
              "  </tbody>\n",
              "</table>"
            ],
            "text/plain": [
              "<IPython.core.display.HTML object>"
            ]
          },
          "metadata": {
            "tags": []
          }
        },
        {
          "output_type": "stream",
          "text": [
            "2019-nCoV, zoonotic What animal did 2019-nCoV come from\n"
          ],
          "name": "stdout"
        },
        {
          "output_type": "display_data",
          "data": {
            "text/html": [
              ""
            ],
            "text/plain": [
              "<IPython.core.display.HTML object>"
            ]
          },
          "metadata": {
            "tags": []
          }
        },
        {
          "output_type": "display_data",
          "data": {
            "text/html": [
              "<table border=\"1\" class=\"dataframe\">\n",
              "  <thead>\n",
              "    <tr style=\"text-align: right;\">\n",
              "      <th></th>\n",
              "      <th>Candidate Answer</th>\n",
              "      <th>Context</th>\n",
              "      <th>Confidence</th>\n",
              "      <th>Document Reference</th>\n",
              "    </tr>\n",
              "  </thead>\n",
              "  <tbody>\n",
              "    <tr>\n",
              "      <th>0</th>\n",
              "      <td>ic human</td>\n",
              "      <td><div>the third zoonot <font color='red'>ic human</font>  coronavirus (co v) of the century emerged in december 2019, with a cluster of patients with connections to huanan south china seafood market in wuhan, hubei province, china.</div></td>\n",
              "      <td>0.471483</td>\n",
              "      <td>2971</td>\n",
              "    </tr>\n",
              "    <tr>\n",
              "      <th>1</th>\n",
              "      <td>of covid</td>\n",
              "      <td><div>the outbreak  <font color='red'>of covid</font>  19 : an overview introduction</div></td>\n",
              "      <td>0.471483</td>\n",
              "      <td>12716</td>\n",
              "    </tr>\n",
              "    <tr>\n",
              "      <th>2</th>\n",
              "      <td>of covid</td>\n",
              "      <td><div>the outbreak  <font color='red'>of covid</font>  19 : an overview introduction</div></td>\n",
              "      <td>0.016294</td>\n",
              "      <td>13523</td>\n",
              "    </tr>\n",
              "    <tr>\n",
              "      <th>3</th>\n",
              "      <td>coronavirus</td>\n",
              "      <td><div> <font color='red'>coronavirus</font>  animal reservoirs and incidental hosts</div></td>\n",
              "      <td>0.011550</td>\n",
              "      <td>6404</td>\n",
              "    </tr>\n",
              "    <tr>\n",
              "      <th>4</th>\n",
              "      <td>ic beta coronavirus</td>\n",
              "      <td><div> abstract : background : the rapid spread of the coronavirus disease 2019 (covid 19), caused by a zoonot <font color='red'>ic beta coronavirus</font>  entitled 2019 novel coronavirus (2019 n co v), has become a global threat.</div></td>\n",
              "      <td>0.010197</td>\n",
              "      <td>21546</td>\n",
              "    </tr>\n",
              "  </tbody>\n",
              "</table>"
            ],
            "text/plain": [
              "<IPython.core.display.HTML object>"
            ]
          },
          "metadata": {
            "tags": []
          }
        },
        {
          "output_type": "stream",
          "text": [
            "\"2019-nCoV, real-time, genomic, tracking What real-time genomic tracking tools exist\n"
          ],
          "name": "stdout"
        },
        {
          "output_type": "display_data",
          "data": {
            "text/html": [
              ""
            ],
            "text/plain": [
              "<IPython.core.display.HTML object>"
            ]
          },
          "metadata": {
            "tags": []
          }
        },
        {
          "output_type": "display_data",
          "data": {
            "text/html": [
              "<table border=\"1\" class=\"dataframe\">\n",
              "  <thead>\n",
              "    <tr style=\"text-align: right;\">\n",
              "      <th></th>\n",
              "      <th>Candidate Answer</th>\n",
              "      <th>Context</th>\n",
              "      <th>Confidence</th>\n",
              "      <th>Document Reference</th>\n",
              "    </tr>\n",
              "  </thead>\n",
              "  <tbody>\n",
              "    <tr>\n",
              "      <th>0</th>\n",
              "      <td>the coronavirus genome</td>\n",
              "      <td><div> <font color='red'>the coronavirus genome</font>  of interest, variations, and design issues</div></td>\n",
              "      <td>0.296752</td>\n",
              "      <td>39999</td>\n",
              "    </tr>\n",
              "    <tr>\n",
              "      <th>1</th>\n",
              "      <td>general purpose genome databases with pathogen information</td>\n",
              "      <td><div> <font color='red'>general purpose genome databases with pathogen information</font> </div></td>\n",
              "      <td>0.116010</td>\n",
              "      <td>3021</td>\n",
              "    </tr>\n",
              "    <tr>\n",
              "      <th>2</th>\n",
              "      <td>of genes and receptors</td>\n",
              "      <td><div>characterization  <font color='red'>of genes and receptors</font>  of 2019 n cov</div></td>\n",
              "      <td>0.104805</td>\n",
              "      <td>8644</td>\n",
              "    </tr>\n",
              "    <tr>\n",
              "      <th>3</th>\n",
              "      <td>simple epitope prediction combined with deduction of s1 / s2 and s2 ' sites</td>\n",
              "      <td><div> <font color='red'>simple epitope prediction combined with deduction of s1 / s2 and s2 ' sites</font>  in 2019 n co v</div></td>\n",
              "      <td>0.099817</td>\n",
              "      <td>39999</td>\n",
              "    </tr>\n",
              "    <tr>\n",
              "      <th>4</th>\n",
              "      <td>online databases for pathogen genome research</td>\n",
              "      <td><div> <font color='red'>online databases for pathogen genome research</font> </div></td>\n",
              "      <td>0.092075</td>\n",
              "      <td>3021</td>\n",
              "    </tr>\n",
              "  </tbody>\n",
              "</table>"
            ],
            "text/plain": [
              "<IPython.core.display.HTML object>"
            ]
          },
          "metadata": {
            "tags": []
          }
        },
        {
          "output_type": "stream",
          "text": [
            "2019-nCoV, geneome, region What regional genetic variations (mutations) exist\n"
          ],
          "name": "stdout"
        },
        {
          "output_type": "display_data",
          "data": {
            "text/html": [
              ""
            ],
            "text/plain": [
              "<IPython.core.display.HTML object>"
            ]
          },
          "metadata": {
            "tags": []
          }
        },
        {
          "output_type": "display_data",
          "data": {
            "text/html": [
              "<table border=\"1\" class=\"dataframe\">\n",
              "  <thead>\n",
              "    <tr style=\"text-align: right;\">\n",
              "      <th></th>\n",
              "      <th>Candidate Answer</th>\n",
              "      <th>Context</th>\n",
              "      <th>Confidence</th>\n",
              "      <th>Document Reference</th>\n",
              "    </tr>\n",
              "  </thead>\n",
              "  <tbody>\n",
              "    <tr>\n",
              "      <th>0</th>\n",
              "      <td>genetic variations annotation and drug gene network construction</td>\n",
              "      <td><div> <font color='red'>genetic variations annotation and drug gene network construction</font> </div></td>\n",
              "      <td>0.402491</td>\n",
              "      <td>150</td>\n",
              "    </tr>\n",
              "    <tr>\n",
              "      <th>1</th>\n",
              "      <td>tracking individual shared mutations</td>\n",
              "      <td><div> <font color='red'>tracking individual shared mutations</font> </div></td>\n",
              "      <td>0.273482</td>\n",
              "      <td>281</td>\n",
              "    </tr>\n",
              "    <tr>\n",
              "      <th>2</th>\n",
              "      <td>mutation profiles of pharmacogenes</td>\n",
              "      <td><div> <font color='red'>mutation profiles of pharmacogenes</font> </div></td>\n",
              "      <td>0.147555</td>\n",
              "      <td>150</td>\n",
              "    </tr>\n",
              "    <tr>\n",
              "      <th>3</th>\n",
              "      <td>2019 n co v antagonism</td>\n",
              "      <td><div>preliminary studies on the proposed peptides and smaller ligands using a model pharmacophore for  <font color='red'>2019 n co v antagonism</font> </div></td>\n",
              "      <td>0.074246</td>\n",
              "      <td>35072</td>\n",
              "    </tr>\n",
              "    <tr>\n",
              "      <th>4</th>\n",
              "      <td>2019 n co v antagonism</td>\n",
              "      <td><div>preliminary studies on the proposed peptides and smaller ligands using a model pharmacophore for  <font color='red'>2019 n co v antagonism</font> </div></td>\n",
              "      <td>0.051113</td>\n",
              "      <td>39999</td>\n",
              "    </tr>\n",
              "  </tbody>\n",
              "</table>"
            ],
            "text/plain": [
              "<IPython.core.display.HTML object>"
            ]
          },
          "metadata": {
            "tags": []
          }
        },
        {
          "output_type": "stream",
          "text": [
            "2019-nCoV, surveylance What effors are being done in asia to prevent further outbreaks\n"
          ],
          "name": "stdout"
        },
        {
          "output_type": "display_data",
          "data": {
            "text/html": [
              ""
            ],
            "text/plain": [
              "<IPython.core.display.HTML object>"
            ]
          },
          "metadata": {
            "tags": []
          }
        },
        {
          "output_type": "display_data",
          "data": {
            "text/html": [
              "<table border=\"1\" class=\"dataframe\">\n",
              "  <thead>\n",
              "    <tr style=\"text-align: right;\">\n",
              "      <th></th>\n",
              "      <th>Candidate Answer</th>\n",
              "      <th>Context</th>\n",
              "      <th>Confidence</th>\n",
              "      <th>Document Reference</th>\n",
              "    </tr>\n",
              "  </thead>\n",
              "  <tbody>\n",
              "    <tr>\n",
              "      <th>0</th>\n",
              "      <td>researchers and authorities (who, cdc atlanta and others) across the globe are working to combat the current ongoing 2019 n co v outbreaks</td>\n",
              "      <td><div>  <font color='red'>researchers and authorities (who, cdc atlanta and others) across the globe are working to combat the current ongoing 2019 n co v outbreaks</font> , identifying the possible origin of this novel virus, and to design and develop effective vaccines and therapeutics (cohen 2020, cyranoski 2020, lu 2020, mahase 2020).</div></td>\n",
              "      <td>0.128407</td>\n",
              "      <td>6298</td>\n",
              "    </tr>\n",
              "    <tr>\n",
              "      <th>1</th>\n",
              "      <td>) surveillance among wildlife to identify the high risk pathogens they carry ; 2) surveillance among people who have contact with wildlife to identify early spillover events ; and 3) improvement of market biosecurity regarding the wildlife trade</td>\n",
              "      <td><div> to prevent the next epidemic and pandemic related to these interfaces, we call for research and investment in three areas : 1 <font color='red'>) surveillance among wildlife to identify the high risk pathogens they carry ; 2) surveillance among people who have contact with wildlife to identify early spillover events ; and 3) improvement of market biosecurity regarding the wildlife trade</font> .</div></td>\n",
              "      <td>0.125192</td>\n",
              "      <td>11288</td>\n",
              "    </tr>\n",
              "    <tr>\n",
              "      <th>2</th>\n",
              "      <td>closure of certain routes, targeted airport screening, risk communication, public awareness and targeted training and vigilance of health workers</td>\n",
              "      <td><div>  <font color='red'>closure of certain routes, targeted airport screening, risk communication, public awareness and targeted training and vigilance of health workers</font>  associated with the portals of entry of visitors to their countries will help mitigate the force of further spread of 2019 n co v.</div></td>\n",
              "      <td>0.125192</td>\n",
              "      <td>8872</td>\n",
              "    </tr>\n",
              "    <tr>\n",
              "      <th>3</th>\n",
              "      <td>closure of certain routes, targeted airport screening, risk communication, public awareness and targeted training and vigilance of health workers</td>\n",
              "      <td><div>  <font color='red'>closure of certain routes, targeted airport screening, risk communication, public awareness and targeted training and vigilance of health workers</font>  associated with the portals of entry of visitors to their countries will help mitigate the force of further spread of 2019 n co v.</div></td>\n",
              "      <td>0.099956</td>\n",
              "      <td>9212</td>\n",
              "    </tr>\n",
              "    <tr>\n",
              "      <th>4</th>\n",
              "      <td>the who ' s daily situation update website</td>\n",
              "      <td><div> we collected the reported 2019 n co v case data from  <font color='red'>the who ' s daily situation update website</font>  [ 14 ].</div></td>\n",
              "      <td>0.099956</td>\n",
              "      <td>8872</td>\n",
              "    </tr>\n",
              "  </tbody>\n",
              "</table>"
            ],
            "text/plain": [
              "<IPython.core.display.HTML object>"
            ]
          },
          "metadata": {
            "tags": []
          }
        },
        {
          "output_type": "stream",
          "text": [
            "What do we know about vaccines and therapeutics?\n"
          ],
          "name": "stdout"
        },
        {
          "output_type": "display_data",
          "data": {
            "text/html": [
              ""
            ],
            "text/plain": [
              "<IPython.core.display.HTML object>"
            ]
          },
          "metadata": {
            "tags": []
          }
        },
        {
          "output_type": "display_data",
          "data": {
            "text/html": [
              "<table border=\"1\" class=\"dataframe\">\n",
              "  <thead>\n",
              "    <tr style=\"text-align: right;\">\n",
              "      <th></th>\n",
              "      <th>Candidate Answer</th>\n",
              "      <th>Context</th>\n",
              "      <th>Confidence</th>\n",
              "      <th>Document Reference</th>\n",
              "    </tr>\n",
              "  </thead>\n",
              "  <tbody>\n",
              "    <tr>\n",
              "      <th>0</th>\n",
              "      <td>know from past experience that these viruses are not transmitted via an airborne route</td>\n",
              "      <td><div> and we  <font color='red'>know from past experience that these viruses are not transmitted via an airborne route</font> .</div></td>\n",
              "      <td>0.478491</td>\n",
              "      <td>18139</td>\n",
              "    </tr>\n",
              "    <tr>\n",
              "      <th>1</th>\n",
              "      <td>and give us the ability to investigate unknown threats and emerging diseases</td>\n",
              "      <td><div> although these facilities are very costly to staff and maintain, they are vital  <font color='red'>and give us the ability to investigate unknown threats and emerging diseases</font> .</div></td>\n",
              "      <td>0.100988</td>\n",
              "      <td>15558</td>\n",
              "    </tr>\n",
              "    <tr>\n",
              "      <th>2</th>\n",
              "      <td>they should be safe and effective against multiple pathogens in people of any age and health status</td>\n",
              "      <td><div>  <font color='red'>they should be safe and effective against multiple pathogens in people of any age and health status</font> .</div></td>\n",
              "      <td>0.091451</td>\n",
              "      <td>15558</td>\n",
              "    </tr>\n",
              "    <tr>\n",
              "      <th>3</th>\n",
              "      <td>knowledge and views</td>\n",
              "      <td><div> <font color='red'>knowledge and views</font>  about influenza and vaccination</div></td>\n",
              "      <td>0.067779</td>\n",
              "      <td>25567</td>\n",
              "    </tr>\n",
              "    <tr>\n",
              "      <th>4</th>\n",
              "      <td>public understanding of medical countermeasures</td>\n",
              "      <td><div> <font color='red'>public understanding of medical countermeasures</font>  abstract</div></td>\n",
              "      <td>0.043444</td>\n",
              "      <td>13829</td>\n",
              "    </tr>\n",
              "  </tbody>\n",
              "</table>"
            ],
            "text/plain": [
              "<IPython.core.display.HTML object>"
            ]
          },
          "metadata": {
            "tags": []
          }
        },
        {
          "output_type": "stream",
          "text": [
            "2019-nCoV,  drug, therapy What drugs or therapies are being investigated\n"
          ],
          "name": "stdout"
        },
        {
          "output_type": "display_data",
          "data": {
            "text/html": [
              ""
            ],
            "text/plain": [
              "<IPython.core.display.HTML object>"
            ]
          },
          "metadata": {
            "tags": []
          }
        },
        {
          "output_type": "display_data",
          "data": {
            "text/html": [
              "<table border=\"1\" class=\"dataframe\">\n",
              "  <thead>\n",
              "    <tr style=\"text-align: right;\">\n",
              "      <th></th>\n",
              "      <th>Candidate Answer</th>\n",
              "      <th>Context</th>\n",
              "      <th>Confidence</th>\n",
              "      <th>Document Reference</th>\n",
              "    </tr>\n",
              "  </thead>\n",
              "  <tbody>\n",
              "    <tr>\n",
              "      <th>0</th>\n",
              "      <td>candidate drugs</td>\n",
              "      <td><div> <font color='red'>candidate drugs</font>  and their clinical trials for covid 19 treatment</div></td>\n",
              "      <td>0.193762</td>\n",
              "      <td>150</td>\n",
              "    </tr>\n",
              "    <tr>\n",
              "      <th>1</th>\n",
              "      <td>2019 n co v therapies</td>\n",
              "      <td><div>proposal for new  <font color='red'>2019 n co v therapies</font> </div></td>\n",
              "      <td>0.114434</td>\n",
              "      <td>4322</td>\n",
              "    </tr>\n",
              "    <tr>\n",
              "      <th>2</th>\n",
              "      <td>2019 n co v therapies</td>\n",
              "      <td><div>proposal for new  <font color='red'>2019 n co v therapies</font> </div></td>\n",
              "      <td>0.114434</td>\n",
              "      <td>4988</td>\n",
              "    </tr>\n",
              "    <tr>\n",
              "      <th>3</th>\n",
              "      <td>v therapies</td>\n",
              "      <td><div> the latter is used as a major criterion for searching anti 2019 n co  <font color='red'>v therapies</font>  from the existing fda approved drugs.</div></td>\n",
              "      <td>0.109907</td>\n",
              "      <td>55</td>\n",
              "    </tr>\n",
              "    <tr>\n",
              "      <th>4</th>\n",
              "      <td>of antiviral drugs</td>\n",
              "      <td><div>a brief review  <font color='red'>of antiviral drugs</font>  evaluated in registered clinical trials for covid 19 abstract</div></td>\n",
              "      <td>0.102297</td>\n",
              "      <td>1485</td>\n",
              "    </tr>\n",
              "  </tbody>\n",
              "</table>"
            ],
            "text/plain": [
              "<IPython.core.display.HTML object>"
            ]
          },
          "metadata": {
            "tags": []
          }
        },
        {
          "output_type": "stream",
          "text": [
            "2019-nCoV, hydroxychloroquine What clinical trials for hydroxychloroquine have been completed\n"
          ],
          "name": "stdout"
        },
        {
          "output_type": "display_data",
          "data": {
            "text/html": [
              ""
            ],
            "text/plain": [
              "<IPython.core.display.HTML object>"
            ]
          },
          "metadata": {
            "tags": []
          }
        },
        {
          "output_type": "display_data",
          "data": {
            "text/html": [
              "<table border=\"1\" class=\"dataframe\">\n",
              "  <thead>\n",
              "    <tr style=\"text-align: right;\">\n",
              "      <th></th>\n",
              "      <th>Candidate Answer</th>\n",
              "      <th>Context</th>\n",
              "      <th>Confidence</th>\n",
              "      <th>Document Reference</th>\n",
              "    </tr>\n",
              "  </thead>\n",
              "  <tbody>\n",
              "    <tr>\n",
              "      <th>0</th>\n",
              "      <td>which five studies</td>\n",
              "      <td><div> of  <font color='red'>which five studies</font>  on hydroxychloroquine, lopinavir plus ritonavir and arbidol, mesenchymal stem cells, traditional chinese medicine and glucocorticoid therapy usage have commenced recruitment.</div></td>\n",
              "      <td>0.559108</td>\n",
              "      <td>7490</td>\n",
              "    </tr>\n",
              "    <tr>\n",
              "      <th>1</th>\n",
              "      <td>two of the nine clinical trials have ended on february 29,2020</td>\n",
              "      <td><div> as for hydroxychloroquine,  <font color='red'>two of the nine clinical trials have ended on february 29,2020</font>  (chi ctr2000029559, chi ctr2000029740), and the results have not yet been available.</div></td>\n",
              "      <td>0.323115</td>\n",
              "      <td>150</td>\n",
              "    </tr>\n",
              "    <tr>\n",
              "      <th>2</th>\n",
              "      <td>(uncontrolled clinical trials</td>\n",
              "      <td><div> these guidelines are based on currently available information  <font color='red'>(uncontrolled clinical trials</font> ) and will be reviewed as new evidence emerges.</div></td>\n",
              "      <td>0.078435</td>\n",
              "      <td>15379</td>\n",
              "    </tr>\n",
              "    <tr>\n",
              "      <th>3</th>\n",
              "      <td>contains clinical studies conducted by 209 countries</td>\n",
              "      <td><div> gov is a resource from the us national library of medicine, and it  <font color='red'>contains clinical studies conducted by 209 countries</font> .</div></td>\n",
              "      <td>0.028757</td>\n",
              "      <td>2532</td>\n",
              "    </tr>\n",
              "    <tr>\n",
              "      <th>4</th>\n",
              "      <td>clinical trials on drug repositioning for covid 19 treatment</td>\n",
              "      <td><div> <font color='red'>clinical trials on drug repositioning for covid 19 treatment</font>  abstract</div></td>\n",
              "      <td>0.004078</td>\n",
              "      <td>2532</td>\n",
              "    </tr>\n",
              "  </tbody>\n",
              "</table>"
            ],
            "text/plain": [
              "<IPython.core.display.HTML object>"
            ]
          },
          "metadata": {
            "tags": []
          }
        },
        {
          "output_type": "stream",
          "text": [
            "2019-nCoV, antiviral What antiviral drug clinical trials have been completed\n"
          ],
          "name": "stdout"
        },
        {
          "output_type": "display_data",
          "data": {
            "text/html": [
              ""
            ],
            "text/plain": [
              "<IPython.core.display.HTML object>"
            ]
          },
          "metadata": {
            "tags": []
          }
        },
        {
          "output_type": "display_data",
          "data": {
            "text/html": [
              "<table border=\"1\" class=\"dataframe\">\n",
              "  <thead>\n",
              "    <tr style=\"text-align: right;\">\n",
              "      <th></th>\n",
              "      <th>Candidate Answer</th>\n",
              "      <th>Context</th>\n",
              "      <th>Confidence</th>\n",
              "      <th>Document Reference</th>\n",
              "    </tr>\n",
              "  </thead>\n",
              "  <tbody>\n",
              "    <tr>\n",
              "      <th>0</th>\n",
              "      <td>(chi ctr2000029308) are currently in progess</td>\n",
              "      <td><div> controlled studies of lopinavir / ritonavir combined with interferonbeta in hospitlized mers patients (nct02845843) and of lopinavir / ritonavir and interferon alpha 2b in hospitalized 2019 n co v patients  <font color='red'>(chi ctr2000029308) are currently in progess</font> .</div></td>\n",
              "      <td>0.293788</td>\n",
              "      <td>28685</td>\n",
              "    </tr>\n",
              "    <tr>\n",
              "      <th>1</th>\n",
              "      <td>antiviral therapy</td>\n",
              "      <td><div> <font color='red'>antiviral therapy</font> </div></td>\n",
              "      <td>0.179798</td>\n",
              "      <td>28685</td>\n",
              "    </tr>\n",
              "    <tr>\n",
              "      <th>2</th>\n",
              "      <td>2019 n co v therapies</td>\n",
              "      <td><div>proposal for new  <font color='red'>2019 n co v therapies</font> </div></td>\n",
              "      <td>0.174481</td>\n",
              "      <td>4322</td>\n",
              "    </tr>\n",
              "    <tr>\n",
              "      <th>3</th>\n",
              "      <td>2019 n co v therapies</td>\n",
              "      <td><div>proposal for new  <font color='red'>2019 n co v therapies</font> </div></td>\n",
              "      <td>0.078397</td>\n",
              "      <td>4988</td>\n",
              "    </tr>\n",
              "    <tr>\n",
              "      <th>4</th>\n",
              "      <td>h abidol in patients with covid 19</td>\n",
              "      <td><div> a randomized multi center controlled clinical trial wti <font color='red'>h abidol in patients with covid 19</font>  has started in xiangya hospital in china, which has been registered in the us clinical trial database 10.</div></td>\n",
              "      <td>0.078397</td>\n",
              "      <td>8481</td>\n",
              "    </tr>\n",
              "  </tbody>\n",
              "</table>"
            ],
            "text/plain": [
              "<IPython.core.display.HTML object>"
            ]
          },
          "metadata": {
            "tags": []
          }
        },
        {
          "output_type": "stream",
          "text": [
            "2019-nCoV, ibuprofen, NSAID Are anti-inflammatory drugs recommended\n"
          ],
          "name": "stdout"
        },
        {
          "output_type": "display_data",
          "data": {
            "text/html": [
              ""
            ],
            "text/plain": [
              "<IPython.core.display.HTML object>"
            ]
          },
          "metadata": {
            "tags": []
          }
        },
        {
          "output_type": "stream",
          "text": [
            "No answer for context query\n"
          ],
          "name": "stdout"
        },
        {
          "output_type": "display_data",
          "data": {
            "text/html": [
              ""
            ],
            "text/plain": [
              "<IPython.core.display.HTML object>"
            ]
          },
          "metadata": {
            "tags": []
          }
        },
        {
          "output_type": "display_data",
          "data": {
            "text/html": [
              "<table border=\"1\" class=\"dataframe\">\n",
              "  <thead>\n",
              "    <tr style=\"text-align: right;\">\n",
              "      <th></th>\n",
              "      <th>Candidate Answer</th>\n",
              "      <th>Context</th>\n",
              "      <th>Confidence</th>\n",
              "      <th>Document Reference</th>\n",
              "    </tr>\n",
              "  </thead>\n",
              "  <tbody>\n",
              "    <tr>\n",
              "      <th>0</th>\n",
              "      <td>the anti inflammatory activities of tetracyclines regulate inflammasome signaling</td>\n",
              "      <td><div> in addition, we examine the hypothesis that  <font color='red'>the anti inflammatory activities of tetracyclines regulate inflammasome signaling</font> .</div></td>\n",
              "      <td>0.207298</td>\n",
              "      <td>35186</td>\n",
              "    </tr>\n",
              "    <tr>\n",
              "      <th>1</th>\n",
              "      <td>these antimicrobial drugs should be administered in accordance with administration periods recommended for individual drugs</td>\n",
              "      <td><div>  <font color='red'>these antimicrobial drugs should be administered in accordance with administration periods recommended for individual drugs</font> .</div></td>\n",
              "      <td>0.071658</td>\n",
              "      <td>23603</td>\n",
              "    </tr>\n",
              "    <tr>\n",
              "      <th>2</th>\n",
              "      <td>antimicrobial drugs should be used even when a definitive diagnosis is not made</td>\n",
              "      <td><div> if symptoms are progressive,  <font color='red'>antimicrobial drugs should be used even when a definitive diagnosis is not made</font>  (aiii).---explanation-- -</div></td>\n",
              "      <td>0.061269</td>\n",
              "      <td>23603</td>\n",
              "    </tr>\n",
              "    <tr>\n",
              "      <th>3</th>\n",
              "      <td>the drug is not recommended for prophylaxis in children under 15 years of age</td>\n",
              "      <td><div>  <font color='red'>the drug is not recommended for prophylaxis in children under 15 years of age</font> .</div></td>\n",
              "      <td>0.059031</td>\n",
              "      <td>15379</td>\n",
              "    </tr>\n",
              "    <tr>\n",
              "      <th>4</th>\n",
              "      <td>itis are not recommended</td>\n",
              "      <td><div>when there are no complications such as chronic respiratory diseases, the administration of antimicrobial drugs for acute bronch <font color='red'>itis are not recommended</font>  as a rule (with respect to the selection of antimicrobial drugs for acute bronchitis complicated by chronic respiratory diseases with secondary bacterial infection, refer to the section \" 6.</div></td>\n",
              "      <td>0.052679</td>\n",
              "      <td>23603</td>\n",
              "    </tr>\n",
              "  </tbody>\n",
              "</table>"
            ],
            "text/plain": [
              "<IPython.core.display.HTML object>"
            ]
          },
          "metadata": {
            "tags": []
          }
        },
        {
          "output_type": "stream",
          "text": [
            "What do we know about non-pharmaceutical interventions?\n"
          ],
          "name": "stdout"
        },
        {
          "output_type": "display_data",
          "data": {
            "text/html": [
              ""
            ],
            "text/plain": [
              "<IPython.core.display.HTML object>"
            ]
          },
          "metadata": {
            "tags": []
          }
        },
        {
          "output_type": "display_data",
          "data": {
            "text/html": [
              "<table border=\"1\" class=\"dataframe\">\n",
              "  <thead>\n",
              "    <tr style=\"text-align: right;\">\n",
              "      <th></th>\n",
              "      <th>Candidate Answer</th>\n",
              "      <th>Context</th>\n",
              "      <th>Confidence</th>\n",
              "      <th>Document Reference</th>\n",
              "    </tr>\n",
              "  </thead>\n",
              "  <tbody>\n",
              "    <tr>\n",
              "      <th>0</th>\n",
              "      <td>understanding public perceptions</td>\n",
              "      <td><div> this paper focuses on the first two parts as they were relevant to the original aim of the review of  <font color='red'>understanding public perceptions</font>  of non pharmaceutical interventions rather than views about how advice about adopting these behaviours is presented.</div></td>\n",
              "      <td>0.399199</td>\n",
              "      <td>9628</td>\n",
              "    </tr>\n",
              "    <tr>\n",
              "      <th>1</th>\n",
              "      <td>perceived benefits</td>\n",
              "      <td><div> <font color='red'>perceived benefits</font>  of non pharmaceutical interventions</div></td>\n",
              "      <td>0.222957</td>\n",
              "      <td>9628</td>\n",
              "    </tr>\n",
              "    <tr>\n",
              "      <th>2</th>\n",
              "      <td>public perceptions</td>\n",
              "      <td><div> <font color='red'>public perceptions</font>  of non pharmaceutical interventions for reducing transmission of respiratory infection : systematic review and synthesis of qualitative studies abstract</div></td>\n",
              "      <td>0.122267</td>\n",
              "      <td>9628</td>\n",
              "    </tr>\n",
              "    <tr>\n",
              "      <th>3</th>\n",
              "      <td>perceived disadvantages</td>\n",
              "      <td><div> <font color='red'>perceived disadvantages</font>  of non pharmaceutical interventions</div></td>\n",
              "      <td>0.084326</td>\n",
              "      <td>9628</td>\n",
              "    </tr>\n",
              "    <tr>\n",
              "      <th>4</th>\n",
              "      <td>there has been no previous attempt to synthesise qualitative studies on non pharmaceutical respiratory infection control</td>\n",
              "      <td><div> to our knowledge,  <font color='red'>there has been no previous attempt to synthesise qualitative studies on non pharmaceutical respiratory infection control</font> .</div></td>\n",
              "      <td>0.063581</td>\n",
              "      <td>9628</td>\n",
              "    </tr>\n",
              "  </tbody>\n",
              "</table>"
            ],
            "text/plain": [
              "<IPython.core.display.HTML object>"
            ]
          },
          "metadata": {
            "tags": []
          }
        },
        {
          "output_type": "stream",
          "text": [
            "2019-nCoV, npi Which non-pharmaceutical interventions limit tramsission\n"
          ],
          "name": "stdout"
        },
        {
          "output_type": "display_data",
          "data": {
            "text/html": [
              ""
            ],
            "text/plain": [
              "<IPython.core.display.HTML object>"
            ]
          },
          "metadata": {
            "tags": []
          }
        },
        {
          "output_type": "display_data",
          "data": {
            "text/html": [
              "<table border=\"1\" class=\"dataframe\">\n",
              "  <thead>\n",
              "    <tr style=\"text-align: right;\">\n",
              "      <th></th>\n",
              "      <th>Candidate Answer</th>\n",
              "      <th>Context</th>\n",
              "      <th>Confidence</th>\n",
              "      <th>Document Reference</th>\n",
              "    </tr>\n",
              "  </thead>\n",
              "  <tbody>\n",
              "    <tr>\n",
              "      <th>0</th>\n",
              "      <td>cases population immunization</td>\n",
              "      <td><div> in the majority of  <font color='red'>cases population immunization</font>  after the first outbreak remains insufficient for the infections to decline without npi.</div></td>\n",
              "      <td>0.740905</td>\n",
              "      <td>1314</td>\n",
              "    </tr>\n",
              "    <tr>\n",
              "      <th>1</th>\n",
              "      <td>around hospitalizations</td>\n",
              "      <td><div> we demonstrate how information about the impact of non pharmaceutical interventions could narrow prediction intervals  <font color='red'>around hospitalizations</font>  over the next few weeks, while information about the prevalence of undetected cases could narrow prediction intervals around the timing and height of the peak of the epidemic.</div></td>\n",
              "      <td>0.065009</td>\n",
              "      <td>782</td>\n",
              "    </tr>\n",
              "    <tr>\n",
              "      <th>2</th>\n",
              "      <td>could decrease their risk of 2009 h1n1 infection while traveling</td>\n",
              "      <td><div> we theorized that in a pandemic, potential tourists would consider voluntary personal non pharmaceutical interventions (npi) which  <font color='red'>could decrease their risk of 2009 h1n1 infection while traveling</font> .</div></td>\n",
              "      <td>0.045910</td>\n",
              "      <td>37604</td>\n",
              "    </tr>\n",
              "    <tr>\n",
              "      <th>3</th>\n",
              "      <td>for influenza a (h1n1)</td>\n",
              "      <td><div> frequency of past behavior (fop) how many times have you traveled internationally in the past 12 months ? non pharmaceutical interventions  <font color='red'>for influenza a (h1n1)</font>  (npi) strongly disagree (1) / strongly agree (7) i will check the information of on influenza a (h1n1) by visiting the website of the korean ministry of foreign affairs or wto before traveling internationally.</div></td>\n",
              "      <td>0.044076</td>\n",
              "      <td>37604</td>\n",
              "    </tr>\n",
              "    <tr>\n",
              "      <th>4</th>\n",
              "      <td>that increases social distancing</td>\n",
              "      <td><div>in order to model a non pharmaceutical intervention (npi)  <font color='red'>that increases social distancing</font> , the number of contacts across all strata are reduced by a constant fraction-under social distancing, the effective contact rates become β sd ij = ev ij p and β sd ij a = ev ij pκ, where e ∈ [ 0,1 ] (with the remainder of the model identical to the baseline specification).</div></td>\n",
              "      <td>0.027930</td>\n",
              "      <td>782</td>\n",
              "    </tr>\n",
              "  </tbody>\n",
              "</table>"
            ],
            "text/plain": [
              "<IPython.core.display.HTML object>"
            ]
          },
          "metadata": {
            "tags": []
          }
        },
        {
          "output_type": "stream",
          "text": [
            "2019-nCoV, npi, barrier to compliance What are most important barriers to compliance\n"
          ],
          "name": "stdout"
        },
        {
          "output_type": "display_data",
          "data": {
            "text/html": [
              ""
            ],
            "text/plain": [
              "<IPython.core.display.HTML object>"
            ]
          },
          "metadata": {
            "tags": []
          }
        },
        {
          "output_type": "display_data",
          "data": {
            "text/html": [
              "<table border=\"1\" class=\"dataframe\">\n",
              "  <thead>\n",
              "    <tr style=\"text-align: right;\">\n",
              "      <th></th>\n",
              "      <th>Candidate Answer</th>\n",
              "      <th>Context</th>\n",
              "      <th>Confidence</th>\n",
              "      <th>Document Reference</th>\n",
              "    </tr>\n",
              "  </thead>\n",
              "  <tbody>\n",
              "    <tr>\n",
              "      <th>0</th>\n",
              "      <td>the possible transmission routes</td>\n",
              "      <td><div> <font color='red'>the possible transmission routes</font>  of 2019 ncov</div></td>\n",
              "      <td>0.603645</td>\n",
              "      <td>7357</td>\n",
              "    </tr>\n",
              "    <tr>\n",
              "      <th>1</th>\n",
              "      <td>surgical masks and gloves</td>\n",
              "      <td><div>  <font color='red'>surgical masks and gloves</font> , often used as a barrier to viral transmission, are selling out, even though health authorities such as the world health organization (who) and the centers for disease control and prevention (cdc) advise people that masks and gloves are not useful or necessary for avoiding infection in healthy people.</div></td>\n",
              "      <td>0.133992</td>\n",
              "      <td>21317</td>\n",
              "    </tr>\n",
              "    <tr>\n",
              "      <th>2</th>\n",
              "      <td>perceived susceptibility, perceived severity, and perceived threat</td>\n",
              "      <td><div> <font color='red'>perceived susceptibility, perceived severity, and perceived threat</font> </div></td>\n",
              "      <td>0.053693</td>\n",
              "      <td>17669</td>\n",
              "    </tr>\n",
              "    <tr>\n",
              "      <th>3</th>\n",
              "      <td>sleeve / arm and tissue</td>\n",
              "      <td><div> <font color='red'>sleeve / arm and tissue</font> </div></td>\n",
              "      <td>0.047052</td>\n",
              "      <td>5848</td>\n",
              "    </tr>\n",
              "    <tr>\n",
              "      <th>4</th>\n",
              "      <td>pressure and humidity</td>\n",
              "      <td><div> <font color='red'>pressure and humidity</font> </div></td>\n",
              "      <td>0.030098</td>\n",
              "      <td>5848</td>\n",
              "    </tr>\n",
              "  </tbody>\n",
              "</table>"
            ],
            "text/plain": [
              "<IPython.core.display.HTML object>"
            ]
          },
          "metadata": {
            "tags": []
          }
        },
        {
          "output_type": "stream",
          "text": [
            "What has been published about medical care?\n"
          ],
          "name": "stdout"
        },
        {
          "output_type": "display_data",
          "data": {
            "text/html": [
              ""
            ],
            "text/plain": [
              "<IPython.core.display.HTML object>"
            ]
          },
          "metadata": {
            "tags": []
          }
        },
        {
          "output_type": "display_data",
          "data": {
            "text/html": [
              "<table border=\"1\" class=\"dataframe\">\n",
              "  <thead>\n",
              "    <tr style=\"text-align: right;\">\n",
              "      <th></th>\n",
              "      <th>Candidate Answer</th>\n",
              "      <th>Context</th>\n",
              "      <th>Confidence</th>\n",
              "      <th>Document Reference</th>\n",
              "    </tr>\n",
              "  </thead>\n",
              "  <tbody>\n",
              "    <tr>\n",
              "      <th>0</th>\n",
              "      <td>? professional guidelines</td>\n",
              "      <td><div>must physicians stay and treat patients  <font color='red'>? professional guidelines</font> </div></td>\n",
              "      <td>0.337987</td>\n",
              "      <td>18987</td>\n",
              "    </tr>\n",
              "    <tr>\n",
              "      <th>1</th>\n",
              "      <td>epidemiological actions should lay weights on governmental policy</td>\n",
              "      <td><div>in terms of medical cares,  <font color='red'>epidemiological actions should lay weights on governmental policy</font> , because there are great needs to control against secondary contagions and predict precisely dynamic trends on diseases.</div></td>\n",
              "      <td>0.148430</td>\n",
              "      <td>23667</td>\n",
              "    </tr>\n",
              "    <tr>\n",
              "      <th>2</th>\n",
              "      <td>medical health survey and care for victims</td>\n",
              "      <td><div>  <font color='red'>medical health survey and care for victims</font>  7.</div></td>\n",
              "      <td>0.142751</td>\n",
              "      <td>23667</td>\n",
              "    </tr>\n",
              "    <tr>\n",
              "      <th>3</th>\n",
              "      <td>and financing veterinary care</td>\n",
              "      <td><div> 2 % cats)  <font color='red'>and financing veterinary care</font>  (46.</div></td>\n",
              "      <td>0.092847</td>\n",
              "      <td>4581</td>\n",
              "    </tr>\n",
              "    <tr>\n",
              "      <th>4</th>\n",
              "      <td>medical data analysis</td>\n",
              "      <td><div> <font color='red'>medical data analysis</font> </div></td>\n",
              "      <td>0.050046</td>\n",
              "      <td>23667</td>\n",
              "    </tr>\n",
              "  </tbody>\n",
              "</table>"
            ],
            "text/plain": [
              "<IPython.core.display.HTML object>"
            ]
          },
          "metadata": {
            "tags": []
          }
        },
        {
          "output_type": "stream",
          "text": [
            "2019-nCoV, ecmo How does extracorporeal membrane oxygenation affect 2019-nCoV patients\n"
          ],
          "name": "stdout"
        },
        {
          "output_type": "display_data",
          "data": {
            "text/html": [
              ""
            ],
            "text/plain": [
              "<IPython.core.display.HTML object>"
            ]
          },
          "metadata": {
            "tags": []
          }
        },
        {
          "output_type": "display_data",
          "data": {
            "text/html": [
              "<table border=\"1\" class=\"dataframe\">\n",
              "  <thead>\n",
              "    <tr style=\"text-align: right;\">\n",
              "      <th></th>\n",
              "      <th>Candidate Answer</th>\n",
              "      <th>Context</th>\n",
              "      <th>Confidence</th>\n",
              "      <th>Document Reference</th>\n",
              "    </tr>\n",
              "  </thead>\n",
              "  <tbody>\n",
              "    <tr>\n",
              "      <th>0</th>\n",
              "      <td>poor survival</td>\n",
              "      <td><div> <font color='red'>poor survival</font>  with extracorporeal membrane oxygenation in acute respiratory distress syndrome (ards) due to coronavirus disease 2019 (covid 19) : pooled analysis of early reports</div></td>\n",
              "      <td>0.891741</td>\n",
              "      <td>30468</td>\n",
              "    </tr>\n",
              "    <tr>\n",
              "      <th>1</th>\n",
              "      <td>implemented if prone position plus mechanical ventilation did not work</td>\n",
              "      <td><div> careful and dynamic evaluation of patients oximeter and chest imaging as well as laboratory examination is important ; (3) for very severe disease, protective mechanical ventilation after tracheal intubation is required, and prone position ventilation followed if p / f ratio not improved, and eventually extracorporeal membrane oxygenation (ecmo) might be  <font color='red'>implemented if prone position plus mechanical ventilation did not work</font> .</div></td>\n",
              "      <td>0.073338</td>\n",
              "      <td>5293</td>\n",
              "    </tr>\n",
              "    <tr>\n",
              "      <th>2</th>\n",
              "      <td>not available</td>\n",
              "      <td><div> copd, chronic obstructive pulmonary disease ; ecmo, extracorporeal membrane oxygenation ; na,  <font color='red'>not available</font> .</div></td>\n",
              "      <td>0.007772</td>\n",
              "      <td>11548</td>\n",
              "    </tr>\n",
              "    <tr>\n",
              "      <th>3</th>\n",
              "      <td>6 of the 41 patients died</td>\n",
              "      <td><div> finally,  <font color='red'>6 of the 41 patients died</font> .</div></td>\n",
              "      <td>0.007489</td>\n",
              "      <td>13250</td>\n",
              "    </tr>\n",
              "    <tr>\n",
              "      <th>4</th>\n",
              "      <td>) may lag behind the epidemic</td>\n",
              "      <td><div> hence, the large scale capacities for medical care in the hubei province, and specifically large scale intensive care and extracorporeal membrane oxygenation (ecmo <font color='red'>) may lag behind the epidemic</font> .</div></td>\n",
              "      <td>0.006246</td>\n",
              "      <td>12644</td>\n",
              "    </tr>\n",
              "  </tbody>\n",
              "</table>"
            ],
            "text/plain": [
              "<IPython.core.display.HTML object>"
            ]
          },
          "metadata": {
            "tags": []
          }
        },
        {
          "output_type": "stream",
          "text": [
            "2019-nCoV, telemedicine, cybercare What telemedicine and cybercare methods are most effective\n"
          ],
          "name": "stdout"
        },
        {
          "output_type": "display_data",
          "data": {
            "text/html": [
              ""
            ],
            "text/plain": [
              "<IPython.core.display.HTML object>"
            ]
          },
          "metadata": {
            "tags": []
          }
        },
        {
          "output_type": "display_data",
          "data": {
            "text/html": [
              "<table border=\"1\" class=\"dataframe\">\n",
              "  <thead>\n",
              "    <tr style=\"text-align: right;\">\n",
              "      <th></th>\n",
              "      <th>Candidate Answer</th>\n",
              "      <th>Context</th>\n",
              "      <th>Confidence</th>\n",
              "      <th>Document Reference</th>\n",
              "    </tr>\n",
              "  </thead>\n",
              "  <tbody>\n",
              "    <tr>\n",
              "      <th>0</th>\n",
              "      <td>according to the cdc, current estimates put the total number of cases at approximately 24,797 with about 8764 deaths since march 2014 [ 51,52 ]. while the number of new cases has flattened out since the peak early summer of 2015, the crisis continues nearly two years after it began. many fault the who for its mismanagement of the crisis during its earlier stages. had there been a more concerted international effort at the onset of the crisis we may not have seen such a dramatic increase in the total number of cases. it is important to note that many of the cases seen outside of west africa were the result of healthcare workers returning to their country of origin. cybercare could have tracked all of the cases and allowed a more timely response to the disease outbreak. with communicable diseases, we do not have the luxury to evacuate the patients in large numbers. we need to isolate diseased patients, treating them in place with either isolation (if they are infected) or quarantine (if they have had contact with infected individuals). cybercare provides the electronic tools to allow this treatment to happen. the use of telemedicine and robotics is crucial to treating at a distance, allowing quarantine and isolation of individuals who are infected or exposed to the disease</td>\n",
              "      <td><div> <font color='red'>according to the cdc, current estimates put the total number of cases at approximately 24,797 with about 8764 deaths since march 2014 [ 51,52 ]. while the number of new cases has flattened out since the peak early summer of 2015, the crisis continues nearly two years after it began. many fault the who for its mismanagement of the crisis during its earlier stages. had there been a more concerted international effort at the onset of the crisis we may not have seen such a dramatic increase in the total number of cases. it is important to note that many of the cases seen outside of west africa were the result of healthcare workers returning to their country of origin. cybercare could have tracked all of the cases and allowed a more timely response to the disease outbreak. with communicable diseases, we do not have the luxury to evacuate the patients in large numbers. we need to isolate diseased patients, treating them in place with either isolation (if they are infected) or quarantine (if they have had contact with infected individuals). cybercare provides the electronic tools to allow this treatment to happen. the use of telemedicine and robotics is crucial to treating at a distance, allowing quarantine and isolation of individuals who are infected or exposed to the disease</font> .</div></td>\n",
              "      <td>0.508830</td>\n",
              "      <td>3852</td>\n",
              "    </tr>\n",
              "    <tr>\n",
              "      <th>1</th>\n",
              "      <td>early warning signs and prediction of the 2019 n cov outbreak</td>\n",
              "      <td><div> <font color='red'>early warning signs and prediction of the 2019 n cov outbreak</font> </div></td>\n",
              "      <td>0.126793</td>\n",
              "      <td>8644</td>\n",
              "    </tr>\n",
              "    <tr>\n",
              "      <th>2</th>\n",
              "      <td>characterization of genes and receptors</td>\n",
              "      <td><div> <font color='red'>characterization of genes and receptors</font>  of 2019 n cov</div></td>\n",
              "      <td>0.102781</td>\n",
              "      <td>8644</td>\n",
              "    </tr>\n",
              "    <tr>\n",
              "      <th>3</th>\n",
              "      <td>antiviral therapy</td>\n",
              "      <td><div> <font color='red'>antiviral therapy</font>  during 2019 n cov outbreak</div></td>\n",
              "      <td>0.102781</td>\n",
              "      <td>8644</td>\n",
              "    </tr>\n",
              "    <tr>\n",
              "      <th>4</th>\n",
              "      <td>treatment strategies</td>\n",
              "      <td><div> <font color='red'>treatment strategies</font>  against 2019 n co v</div></td>\n",
              "      <td>0.063723</td>\n",
              "      <td>4322</td>\n",
              "    </tr>\n",
              "  </tbody>\n",
              "</table>"
            ],
            "text/plain": [
              "<IPython.core.display.HTML object>"
            ]
          },
          "metadata": {
            "tags": []
          }
        },
        {
          "output_type": "stream",
          "text": [
            " How is artificial intelligence being used in real time health delivery\n"
          ],
          "name": "stdout"
        },
        {
          "output_type": "display_data",
          "data": {
            "text/html": [
              ""
            ],
            "text/plain": [
              "<IPython.core.display.HTML object>"
            ]
          },
          "metadata": {
            "tags": []
          }
        },
        {
          "output_type": "display_data",
          "data": {
            "text/html": [
              "<table border=\"1\" class=\"dataframe\">\n",
              "  <thead>\n",
              "    <tr style=\"text-align: right;\">\n",
              "      <th></th>\n",
              "      <th>Candidate Answer</th>\n",
              "      <th>Context</th>\n",
              "      <th>Confidence</th>\n",
              "      <th>Document Reference</th>\n",
              "    </tr>\n",
              "  </thead>\n",
              "  <tbody>\n",
              "    <tr>\n",
              "      <th>0</th>\n",
              "      <td>such machine learning and natural language processing to increase the speed, capacity and accuracy of filtering, classifying and analysing health related internet data</td>\n",
              "      <td><div> more recently, ebs systems include artificial intelligence applications  <font color='red'>such machine learning and natural language processing to increase the speed, capacity and accuracy of filtering, classifying and analysing health related internet data</font> .</div></td>\n",
              "      <td>0.173596</td>\n",
              "      <td>30538</td>\n",
              "    </tr>\n",
              "    <tr>\n",
              "      <th>1</th>\n",
              "      <td>using artificial intelligence techniques, this system is capable of providing automated diagnostic and consultation</td>\n",
              "      <td><div>  <font color='red'>using artificial intelligence techniques, this system is capable of providing automated diagnostic and consultation</font> .</div></td>\n",
              "      <td>0.121683</td>\n",
              "      <td>23110</td>\n",
              "    </tr>\n",
              "    <tr>\n",
              "      <th>2</th>\n",
              "      <td>and augmented reality allows them to use real time information to provide specialized care</td>\n",
              "      <td><div> simulation trains generalists to provide higher level specialty care,  <font color='red'>and augmented reality allows them to use real time information to provide specialized care</font>  (see fig.</div></td>\n",
              "      <td>0.099229</td>\n",
              "      <td>3852</td>\n",
              "    </tr>\n",
              "    <tr>\n",
              "      <th>3</th>\n",
              "      <td>using the appropriate sensing apparatus at a smart home setting, patients, elderlies and people with disabilities can have their health signals and information examined on a realtime and archival basis</td>\n",
              "      <td><div>  <font color='red'>using the appropriate sensing apparatus at a smart home setting, patients, elderlies and people with disabilities can have their health signals and information examined on a realtime and archival basis</font> .</div></td>\n",
              "      <td>0.082831</td>\n",
              "      <td>23110</td>\n",
              "    </tr>\n",
              "    <tr>\n",
              "      <th>4</th>\n",
              "      <td>using telemedicine, wearable sensors and cell phones to link patients to specialists and upload their medical data in near real time</td>\n",
              "      <td><div> cybercare employs advanced technology to deliver services efficiently across the distributed networkfor example,  <font color='red'>using telemedicine, wearable sensors and cell phones to link patients to specialists and upload their medical data in near real time</font>  ; using information technology (it) to rapidly detect, track, and contain the spread of a global pandemic ; or using cell phones to manage medical care in a disaster situation.</div></td>\n",
              "      <td>0.079658</td>\n",
              "      <td>3852</td>\n",
              "    </tr>\n",
              "  </tbody>\n",
              "</table>"
            ],
            "text/plain": [
              "<IPython.core.display.HTML object>"
            ]
          },
          "metadata": {
            "tags": []
          }
        },
        {
          "output_type": "stream",
          "text": [
            " What adjunctive or supportive methods can help patients\n"
          ],
          "name": "stdout"
        },
        {
          "output_type": "display_data",
          "data": {
            "text/html": [
              ""
            ],
            "text/plain": [
              "<IPython.core.display.HTML object>"
            ]
          },
          "metadata": {
            "tags": []
          }
        },
        {
          "output_type": "display_data",
          "data": {
            "text/html": [
              "<table border=\"1\" class=\"dataframe\">\n",
              "  <thead>\n",
              "    <tr style=\"text-align: right;\">\n",
              "      <th></th>\n",
              "      <th>Candidate Answer</th>\n",
              "      <th>Context</th>\n",
              "      <th>Confidence</th>\n",
              "      <th>Document Reference</th>\n",
              "    </tr>\n",
              "  </thead>\n",
              "  <tbody>\n",
              "    <tr>\n",
              "      <th>0</th>\n",
              "      <td>other adjunctive therapies such as antihistamines, decongestants, and mucolytics</td>\n",
              "      <td><div>  <font color='red'>other adjunctive therapies such as antihistamines, decongestants, and mucolytics</font>  may be benefi cial for symptomatic relief in selected cases, but few studies clearly show additional effi cacy when used alone or in conjunction with antibiotics.</div></td>\n",
              "      <td>0.389772</td>\n",
              "      <td>35384</td>\n",
              "    </tr>\n",
              "    <tr>\n",
              "      <th>1</th>\n",
              "      <td>and adjunctive</td>\n",
              "      <td><div> existing knowledge highlights the need for data regarding supportive care  <font color='red'>and adjunctive</font>  pharmacologic therapy that is specific for critically ill patients with severe rvi.</div></td>\n",
              "      <td>0.057031</td>\n",
              "      <td>28685</td>\n",
              "    </tr>\n",
              "    <tr>\n",
              "      <th>2</th>\n",
              "      <td>adjunctive pharmacologic interventions</td>\n",
              "      <td><div> <font color='red'>adjunctive pharmacologic interventions</font> </div></td>\n",
              "      <td>0.047862</td>\n",
              "      <td>28685</td>\n",
              "    </tr>\n",
              "    <tr>\n",
              "      <th>3</th>\n",
              "      <td>knowledge of assessment, differential diagnosis, medical complications, and treatment</td>\n",
              "      <td><div>  <font color='red'>knowledge of assessment, differential diagnosis, medical complications, and treatment</font>  will aid the psychiatric care provider in developing a treatment approach for these patients who are most vulnerable during their greatest time of need.</div></td>\n",
              "      <td>0.035042</td>\n",
              "      <td>36105</td>\n",
              "    </tr>\n",
              "    <tr>\n",
              "      <th>4</th>\n",
              "      <td>adjunctive therapies</td>\n",
              "      <td><div> <font color='red'>adjunctive therapies</font> </div></td>\n",
              "      <td>0.031825</td>\n",
              "      <td>35384</td>\n",
              "    </tr>\n",
              "  </tbody>\n",
              "</table>"
            ],
            "text/plain": [
              "<IPython.core.display.HTML object>"
            ]
          },
          "metadata": {
            "tags": []
          }
        },
        {
          "output_type": "stream",
          "text": [
            "What do we know about diagnostics and surveillance?\n"
          ],
          "name": "stdout"
        },
        {
          "output_type": "display_data",
          "data": {
            "text/html": [
              ""
            ],
            "text/plain": [
              "<IPython.core.display.HTML object>"
            ]
          },
          "metadata": {
            "tags": []
          }
        },
        {
          "output_type": "display_data",
          "data": {
            "text/html": [
              "<table border=\"1\" class=\"dataframe\">\n",
              "  <thead>\n",
              "    <tr style=\"text-align: right;\">\n",
              "      <th></th>\n",
              "      <th>Candidate Answer</th>\n",
              "      <th>Context</th>\n",
              "      <th>Confidence</th>\n",
              "      <th>Document Reference</th>\n",
              "    </tr>\n",
              "  </thead>\n",
              "  <tbody>\n",
              "    <tr>\n",
              "      <th>0</th>\n",
              "      <td>how to better measure the different perspectives and areas that we need to</td>\n",
              "      <td><div> you know,  <font color='red'>how to better measure the different perspectives and areas that we need to</font> , outside the hospitals : primary care, the community and understanding the sort of pathways of antibiotic resistances, what is driving, the drivers of antibiotic resistance locally...</div></td>\n",
              "      <td>0.403981</td>\n",
              "      <td>3477</td>\n",
              "    </tr>\n",
              "    <tr>\n",
              "      <th>1</th>\n",
              "      <td>that quantitative techniques can be also be applicable</td>\n",
              "      <td><div> but we know  <font color='red'>that quantitative techniques can be also be applicable</font> .</div></td>\n",
              "      <td>0.155064</td>\n",
              "      <td>6663</td>\n",
              "    </tr>\n",
              "    <tr>\n",
              "      <th>2</th>\n",
              "      <td>from our readings in chapter seeds of destruction</td>\n",
              "      <td><div> counter :  <font color='red'>from our readings in chapter seeds of destruction</font> , we know this is not true.</div></td>\n",
              "      <td>0.097222</td>\n",
              "      <td>15558</td>\n",
              "    </tr>\n",
              "    <tr>\n",
              "      <th>3</th>\n",
              "      <td>: interviewing key individuals verifying the clinical diagnosis and assure that treatments are appropriate</td>\n",
              "      <td><div> outbreak investigations for any infectious or toxicant induced disease involve an orderly process of characterizing the outbreak and finding solutions using epidemiologic concepts that include the following  <font color='red'>: interviewing key individuals verifying the clinical diagnosis and assure that treatments are appropriate</font> </div></td>\n",
              "      <td>0.084995</td>\n",
              "      <td>20022</td>\n",
              "    </tr>\n",
              "    <tr>\n",
              "      <th>4</th>\n",
              "      <td>' decision making</td>\n",
              "      <td><div>a focused ethnographic study of alberta cattle veterinarians  <font color='red'>' decision making</font>  about diagnostic laboratory submissions and perceptions of surveillance programs abstract</div></td>\n",
              "      <td>0.080520</td>\n",
              "      <td>5920</td>\n",
              "    </tr>\n",
              "  </tbody>\n",
              "</table>"
            ],
            "text/plain": [
              "<IPython.core.display.HTML object>"
            ]
          },
          "metadata": {
            "tags": []
          }
        },
        {
          "output_type": "stream",
          "text": [
            "2019-nCoV, diagnostic, tools, detetion What diagnostic tests (tools) exist or are being developed to detect 2019-nCoV\n"
          ],
          "name": "stdout"
        },
        {
          "output_type": "display_data",
          "data": {
            "text/html": [
              ""
            ],
            "text/plain": [
              "<IPython.core.display.HTML object>"
            ]
          },
          "metadata": {
            "tags": []
          }
        },
        {
          "output_type": "display_data",
          "data": {
            "text/html": [
              "<table border=\"1\" class=\"dataframe\">\n",
              "  <thead>\n",
              "    <tr style=\"text-align: right;\">\n",
              "      <th></th>\n",
              "      <th>Candidate Answer</th>\n",
              "      <th>Context</th>\n",
              "      <th>Confidence</th>\n",
              "      <th>Document Reference</th>\n",
              "    </tr>\n",
              "  </thead>\n",
              "  <tbody>\n",
              "    <tr>\n",
              "      <th>0</th>\n",
              "      <td>absence of a clear \" pigag \" (s1 / s2 related) site in some coronaviruses</td>\n",
              "      <td><div> <font color='red'>absence of a clear \" pigag \" (s1 / s2 related) site in some coronaviruses</font> </div></td>\n",
              "      <td>0.758499</td>\n",
              "      <td>39999</td>\n",
              "    </tr>\n",
              "    <tr>\n",
              "      <th>1</th>\n",
              "      <td>absence of a clear \" pigag \" (s1 / s2 related) site in some coronaviruses</td>\n",
              "      <td><div> <font color='red'>absence of a clear \" pigag \" (s1 / s2 related) site in some coronaviruses</font> </div></td>\n",
              "      <td>0.029465</td>\n",
              "      <td>35072</td>\n",
              "    </tr>\n",
              "    <tr>\n",
              "      <th>2</th>\n",
              "      <td>precision diagnosis of 2019 n co v pneumonia</td>\n",
              "      <td><div> <font color='red'>precision diagnosis of 2019 n co v pneumonia</font> </div></td>\n",
              "      <td>0.029465</td>\n",
              "      <td>11912</td>\n",
              "    </tr>\n",
              "    <tr>\n",
              "      <th>3</th>\n",
              "      <td>precision diagnosis of 2019 n co v pneumonia</td>\n",
              "      <td><div> <font color='red'>precision diagnosis of 2019 n co v pneumonia</font> </div></td>\n",
              "      <td>0.020270</td>\n",
              "      <td>12169</td>\n",
              "    </tr>\n",
              "    <tr>\n",
              "      <th>4</th>\n",
              "      <td>detection of genetic material</td>\n",
              "      <td><div> <font color='red'>detection of genetic material</font> </div></td>\n",
              "      <td>0.019462</td>\n",
              "      <td>7490</td>\n",
              "    </tr>\n",
              "  </tbody>\n",
              "</table>"
            ],
            "text/plain": [
              "<IPython.core.display.HTML object>"
            ]
          },
          "metadata": {
            "tags": []
          }
        },
        {
          "output_type": "stream",
          "text": [
            "2019-nCoV, testing capacity OR throughput What is being done to increase testing capacity or throughput\n"
          ],
          "name": "stdout"
        },
        {
          "output_type": "display_data",
          "data": {
            "text/html": [
              ""
            ],
            "text/plain": [
              "<IPython.core.display.HTML object>"
            ]
          },
          "metadata": {
            "tags": []
          }
        },
        {
          "output_type": "display_data",
          "data": {
            "text/html": [
              "<table border=\"1\" class=\"dataframe\">\n",
              "  <thead>\n",
              "    <tr style=\"text-align: right;\">\n",
              "      <th></th>\n",
              "      <th>Candidate Answer</th>\n",
              "      <th>Context</th>\n",
              "      <th>Confidence</th>\n",
              "      <th>Document Reference</th>\n",
              "    </tr>\n",
              "  </thead>\n",
              "  <tbody>\n",
              "    <tr>\n",
              "      <th>0</th>\n",
              "      <td>that direct lysis of respiratory samples can be used in place of rna extraction kits to run the cdc 2019 n co v real time diagnostic assay</td>\n",
              "      <td><div> here we show  <font color='red'>that direct lysis of respiratory samples can be used in place of rna extraction kits to run the cdc 2019 n co v real time diagnostic assay</font>  with the additional benefits of higher throughput, lower cost, faster turnaround and possibly higher senitivity and improved saftey.</div></td>\n",
              "      <td>0.313470</td>\n",
              "      <td>795</td>\n",
              "    </tr>\n",
              "    <tr>\n",
              "      <th>1</th>\n",
              "      <td>which patients routinely lined up in the linac waiting area</td>\n",
              "      <td><div> this was different from our regular workflow prior to the outbreak, in  <font color='red'>which patients routinely lined up in the linac waiting area</font>  in order to increase machine throughput.</div></td>\n",
              "      <td>0.313470</td>\n",
              "      <td>31295</td>\n",
              "    </tr>\n",
              "    <tr>\n",
              "      <th>2</th>\n",
              "      <td>treatment strategies</td>\n",
              "      <td><div> <font color='red'>treatment strategies</font>  against 2019 n co v</div></td>\n",
              "      <td>0.220125</td>\n",
              "      <td>4322</td>\n",
              "    </tr>\n",
              "    <tr>\n",
              "      <th>3</th>\n",
              "      <td>treatment strategies</td>\n",
              "      <td><div> <font color='red'>treatment strategies</font>  against 2019 n co v</div></td>\n",
              "      <td>0.020407</td>\n",
              "      <td>4988</td>\n",
              "    </tr>\n",
              "    <tr>\n",
              "      <th>4</th>\n",
              "      <td>survey</td>\n",
              "      <td><div> <font color='red'>survey</font> </div></td>\n",
              "      <td>0.018422</td>\n",
              "      <td>1852</td>\n",
              "    </tr>\n",
              "  </tbody>\n",
              "</table>"
            ],
            "text/plain": [
              "<IPython.core.display.HTML object>"
            ]
          },
          "metadata": {
            "tags": []
          }
        },
        {
          "output_type": "stream",
          "text": [
            "2019-nCoV, point-of-care What point of care tests are exist or are being developed\n"
          ],
          "name": "stdout"
        },
        {
          "output_type": "display_data",
          "data": {
            "text/html": [
              ""
            ],
            "text/plain": [
              "<IPython.core.display.HTML object>"
            ]
          },
          "metadata": {
            "tags": []
          }
        },
        {
          "output_type": "display_data",
          "data": {
            "text/html": [
              "<table border=\"1\" class=\"dataframe\">\n",
              "  <thead>\n",
              "    <tr style=\"text-align: right;\">\n",
              "      <th></th>\n",
              "      <th>Candidate Answer</th>\n",
              "      <th>Context</th>\n",
              "      <th>Confidence</th>\n",
              "      <th>Document Reference</th>\n",
              "    </tr>\n",
              "  </thead>\n",
              "  <tbody>\n",
              "    <tr>\n",
              "      <th>0</th>\n",
              "      <td>testing kits have not been developed</td>\n",
              "      <td><div> however, serological assays as well as point of care  <font color='red'>testing kits have not been developed</font>  but are likely in the near future.</div></td>\n",
              "      <td>0.342624</td>\n",
              "      <td>7490</td>\n",
              "    </tr>\n",
              "    <tr>\n",
              "      <th>1</th>\n",
              "      <td>reverse transcription polymerase chain reaction tests</td>\n",
              "      <td><div> within 4 weeks, by 26 january 2020, the causative organism had been identified as a novel coronavirus, the genome of the virus had been sequenced and published,  <font color='red'>reverse transcription polymerase chain reaction tests</font>  had been developed, the who r & d blueprint had been activated to accelerate diagnostics, therapeutics and vaccine development and a candidate vaccine was ready for initial laboratory testing.</div></td>\n",
              "      <td>0.331324</td>\n",
              "      <td>5105</td>\n",
              "    </tr>\n",
              "    <tr>\n",
              "      <th>2</th>\n",
              "      <td>high dose intravenous immunoglobulin</td>\n",
              "      <td><div> <font color='red'>high dose intravenous immunoglobulin</font>  as a therapeutic option for deteriorating patients with coronavirus disease 2019</div></td>\n",
              "      <td>0.226459</td>\n",
              "      <td>13295</td>\n",
              "    </tr>\n",
              "    <tr>\n",
              "      <th>3</th>\n",
              "      <td>background an ongoing outbreak of pneumonia associated with a novel coronavirus was reported in wuhan city, hubei province, china. affected patients were geographically linked with a local wet market as a potential source. no data on person to person or nosocomial transmission have been published to date. in this study, we report the epidemiological, clinical, laboratory, radiological, and microbiological findings of five patients in a family cluster who presented with unexplained pneumonia after returning to shenzhen, guangdong province, china, after a visit to wuhan, and an additional family member who did not travel to wuhan. phylogenetic analysis of genetic sequences from these patients were done. findings from jan 10,2020, we enrolled a family of six patients who travelled to wuhan from shenzhen between dec 29,2019 and jan 4,2020. of six family members who travelled to wuhan, five were identified as infected with the novel coronavirus. additionally, one family member, who did not travel to wuhan, became infected with the virus after several days of contact with four of the family members. none of the family members had contacts with wuhan markets or animals, although two had visited a wuhan hospital. five family members (aged 36-66 years) presented with fever, upper or lower respiratory tract symptoms, or diarrhoea, or a combination of these 3-6 days after exposure. they presented to our hospital (the university of hong kong shenzhen hospital, shenzhen) 6-10 days after symptom onset. they and one asymptomatic child (aged 10 years) had radiological ground glass lung opacities. older patients (aged > 60 years) had more systemic symptoms, extensive radiological ground glass lung changes, lymphopenia, thrombocytopenia, and increased c reactive protein and lactate dehydrogenase levels. the nasopharyngeal or throat swabs of these six patients were negative for known respiratory microbes by point of care multiplex rt pcr</td>\n",
              "      <td><div> <font color='red'>background an ongoing outbreak of pneumonia associated with a novel coronavirus was reported in wuhan city, hubei province, china. affected patients were geographically linked with a local wet market as a potential source. no data on person to person or nosocomial transmission have been published to date. in this study, we report the epidemiological, clinical, laboratory, radiological, and microbiological findings of five patients in a family cluster who presented with unexplained pneumonia after returning to shenzhen, guangdong province, china, after a visit to wuhan, and an additional family member who did not travel to wuhan. phylogenetic analysis of genetic sequences from these patients were done. findings from jan 10,2020, we enrolled a family of six patients who travelled to wuhan from shenzhen between dec 29,2019 and jan 4,2020. of six family members who travelled to wuhan, five were identified as infected with the novel coronavirus. additionally, one family member, who did not travel to wuhan, became infected with the virus after several days of contact with four of the family members. none of the family members had contacts with wuhan markets or animals, although two had visited a wuhan hospital. five family members (aged 36-66 years) presented with fever, upper or lower respiratory tract symptoms, or diarrhoea, or a combination of these 3-6 days after exposure. they presented to our hospital (the university of hong kong shenzhen hospital, shenzhen) 6-10 days after symptom onset. they and one asymptomatic child (aged 10 years) had radiological ground glass lung opacities. older patients (aged > 60 years) had more systemic symptoms, extensive radiological ground glass lung changes, lymphopenia, thrombocytopenia, and increased c reactive protein and lactate dehydrogenase levels. the nasopharyngeal or throat swabs of these six patients were negative for known respiratory microbes by point of care multiplex rt pcr</font> , but five patients (four adults and the child) were rt pcr positive for genes encoding the internal rna dependent rna polymerase and surface spike protein of this novel coronavirus, which were confirmed by sanger sequencing.</div></td>\n",
              "      <td>0.019377</td>\n",
              "      <td>22248</td>\n",
              "    </tr>\n",
              "    <tr>\n",
              "      <th>4</th>\n",
              "      <td>what is 2019 n co v / covid 19</td>\n",
              "      <td><div> <font color='red'>what is 2019 n co v / covid 19</font>  ?</div></td>\n",
              "      <td>0.017049</td>\n",
              "      <td>35801</td>\n",
              "    </tr>\n",
              "  </tbody>\n",
              "</table>"
            ],
            "text/plain": [
              "<IPython.core.display.HTML object>"
            ]
          },
          "metadata": {
            "tags": []
          }
        },
        {
          "output_type": "stream",
          "text": [
            "2019-nCoV, viral load What is the minimum viral load for detection\n"
          ],
          "name": "stdout"
        },
        {
          "output_type": "display_data",
          "data": {
            "text/html": [
              ""
            ],
            "text/plain": [
              "<IPython.core.display.HTML object>"
            ]
          },
          "metadata": {
            "tags": []
          }
        },
        {
          "output_type": "display_data",
          "data": {
            "text/html": [
              "<table border=\"1\" class=\"dataframe\">\n",
              "  <thead>\n",
              "    <tr style=\"text-align: right;\">\n",
              "      <th></th>\n",
              "      <th>Candidate Answer</th>\n",
              "      <th>Context</th>\n",
              "      <th>Confidence</th>\n",
              "      <th>Document Reference</th>\n",
              "    </tr>\n",
              "  </thead>\n",
              "  <tbody>\n",
              "    <tr>\n",
              "      <th>0</th>\n",
              "      <td>ctable 68</td>\n",
              "      <td><div> a non critical 2019 n co v infected patient in south korea received lopinavir / ritonavir (kaletra, abb vie) on the eighth day of admission, after which the clinical symptoms improved and the coronavirus load began to decrease until undete <font color='red'>ctable 68</font> .</div></td>\n",
              "      <td>0.845700</td>\n",
              "      <td>31917</td>\n",
              "    </tr>\n",
              "    <tr>\n",
              "      <th>1</th>\n",
              "      <td>7 () = 122 × 0. 245</td>\n",
              "      <td><div> <font color='red'>7 () = 122 × 0. 245</font> </div></td>\n",
              "      <td>0.076888</td>\n",
              "      <td>1128</td>\n",
              "    </tr>\n",
              "    <tr>\n",
              "      <th>2</th>\n",
              "      <td>none</td>\n",
              "      <td><div> <font color='red'>none</font> .</div></td>\n",
              "      <td>0.028596</td>\n",
              "      <td>11278</td>\n",
              "    </tr>\n",
              "    <tr>\n",
              "      <th>3</th>\n",
              "      <td>none</td>\n",
              "      <td><div> <font color='red'>none</font> .</div></td>\n",
              "      <td>0.028596</td>\n",
              "      <td>12208</td>\n",
              "    </tr>\n",
              "    <tr>\n",
              "      <th>4</th>\n",
              "      <td>india (projected) + 2s + 1s-2s-1s</td>\n",
              "      <td><div> <font color='red'>india (projected) + 2s + 1s-2s-1s</font> </div></td>\n",
              "      <td>0.005718</td>\n",
              "      <td>1128</td>\n",
              "    </tr>\n",
              "  </tbody>\n",
              "</table>"
            ],
            "text/plain": [
              "<IPython.core.display.HTML object>"
            ]
          },
          "metadata": {
            "tags": []
          }
        },
        {
          "output_type": "stream",
          "text": [
            "2019-nCoV, markers What markers are used to detect or track COVID-19\n"
          ],
          "name": "stdout"
        },
        {
          "output_type": "display_data",
          "data": {
            "text/html": [
              ""
            ],
            "text/plain": [
              "<IPython.core.display.HTML object>"
            ]
          },
          "metadata": {
            "tags": []
          }
        },
        {
          "output_type": "display_data",
          "data": {
            "text/html": [
              "<table border=\"1\" class=\"dataframe\">\n",
              "  <thead>\n",
              "    <tr style=\"text-align: right;\">\n",
              "      <th></th>\n",
              "      <th>Candidate Answer</th>\n",
              "      <th>Context</th>\n",
              "      <th>Confidence</th>\n",
              "      <th>Document Reference</th>\n",
              "    </tr>\n",
              "  </thead>\n",
              "  <tbody>\n",
              "    <tr>\n",
              "      <th>0</th>\n",
              "      <td>serological detection</td>\n",
              "      <td><div> <font color='red'>serological detection</font>  of 2019 n co v respond to the epidemic : a useful complement to nucleic acid testing abstract</div></td>\n",
              "      <td>0.565005</td>\n",
              "      <td>409</td>\n",
              "    </tr>\n",
              "    <tr>\n",
              "      <th>1</th>\n",
              "      <td>/ global surveillance for humaninfection with novel coronavirus</td>\n",
              "      <td><div> int / publications detail  <font color='red'>/ global surveillance for humaninfection with novel coronavirus</font> -(2019 ncov).</div></td>\n",
              "      <td>0.093702</td>\n",
              "      <td>522</td>\n",
              "    </tr>\n",
              "    <tr>\n",
              "      <th>2</th>\n",
              "      <td>diagnostic criteria</td>\n",
              "      <td><div> <font color='red'>diagnostic criteria</font>  for confirmed, severe and critical cases for covid 19</div></td>\n",
              "      <td>0.076348</td>\n",
              "      <td>409</td>\n",
              "    </tr>\n",
              "    <tr>\n",
              "      <th>3</th>\n",
              "      <td>detect serum ig m and ig g antibodies</td>\n",
              "      <td><div> we used automated chemiluminescent immunoassay to  <font color='red'>detect serum ig m and ig g antibodies</font>  to 2019 n co v of 736 subjects.</div></td>\n",
              "      <td>0.059978</td>\n",
              "      <td>409</td>\n",
              "    </tr>\n",
              "    <tr>\n",
              "      <th>4</th>\n",
              "      <td>coronaviruses (co vs) are enveloped single stranded positive sense rna viruses, which are widely distributed in humans and other mammals. coronaviruses usually cause respiratory, digestive and nervous system diseases in humans and animals (1). in the past 20 years, coronavirus has caused two global epidemics of severe respiratory infectious diseases, one of which was severe acute respiratory syndrome (sars) (2,3) the author / funder, who has granted med rxiv a license to display the preprint in perpetuity. the copyright holder for this preprint (which was not peer reviewed) is. https : / / doi. org / 10. 1101 / 2020. 03. 04. 20030916 doi : med rxiv preprint swab (5-9). however, in the actual diagnosis and treatment, the sensitivity of nucleic acid detection was not ideal enough. only 30-50 % of the confirmed covid 19 cases had positive results, moreover, in some confirmed case, nucleic acid testing often took four or more tests to get a positive result. it is necessary to use a fast and convenient method to realize the rapid diagnosis of 2019 n co v infection. after the virus infects the organism, the immune system carries on the immune defense to the virus and produces the specific antibody. in the laboratory diagnosis of infectious diseases, the detection of specific antibodies to pathogens is a sensitive method for fast diagnosis. however, how the 2019 n co v antibody produced and changed during covid 19 progression is still unclear. in this study, we used automated chemiluminescent immunoassay to detect serum ig m and ig g antibodies</td>\n",
              "      <td><div> <font color='red'>coronaviruses (co vs) are enveloped single stranded positive sense rna viruses, which are widely distributed in humans and other mammals. coronaviruses usually cause respiratory, digestive and nervous system diseases in humans and animals (1). in the past 20 years, coronavirus has caused two global epidemics of severe respiratory infectious diseases, one of which was severe acute respiratory syndrome (sars) (2,3) the author / funder, who has granted med rxiv a license to display the preprint in perpetuity. the copyright holder for this preprint (which was not peer reviewed) is. https : / / doi. org / 10. 1101 / 2020. 03. 04. 20030916 doi : med rxiv preprint swab (5-9). however, in the actual diagnosis and treatment, the sensitivity of nucleic acid detection was not ideal enough. only 30-50 % of the confirmed covid 19 cases had positive results, moreover, in some confirmed case, nucleic acid testing often took four or more tests to get a positive result. it is necessary to use a fast and convenient method to realize the rapid diagnosis of 2019 n co v infection. after the virus infects the organism, the immune system carries on the immune defense to the virus and produces the specific antibody. in the laboratory diagnosis of infectious diseases, the detection of specific antibodies to pathogens is a sensitive method for fast diagnosis. however, how the 2019 n co v antibody produced and changed during covid 19 progression is still unclear. in this study, we used automated chemiluminescent immunoassay to detect serum ig m and ig g antibodies</font>  to 2019 n co v, to understand the process of antibody production in disease progression, and to evaluate the value of antibody detection in the laboratory diagnosis of covid 19.</div></td>\n",
              "      <td>0.037320</td>\n",
              "      <td>409</td>\n",
              "    </tr>\n",
              "  </tbody>\n",
              "</table>"
            ],
            "text/plain": [
              "<IPython.core.display.HTML object>"
            ]
          },
          "metadata": {
            "tags": []
          }
        },
        {
          "output_type": "stream",
          "text": [
            "What has been published about information sharing and inter-sectoral collaboration?\n"
          ],
          "name": "stdout"
        },
        {
          "output_type": "display_data",
          "data": {
            "text/html": [
              ""
            ],
            "text/plain": [
              "<IPython.core.display.HTML object>"
            ]
          },
          "metadata": {
            "tags": []
          }
        },
        {
          "output_type": "display_data",
          "data": {
            "text/html": [
              "<table border=\"1\" class=\"dataframe\">\n",
              "  <thead>\n",
              "    <tr style=\"text-align: right;\">\n",
              "      <th></th>\n",
              "      <th>Candidate Answer</th>\n",
              "      <th>Context</th>\n",
              "      <th>Confidence</th>\n",
              "      <th>Document Reference</th>\n",
              "    </tr>\n",
              "  </thead>\n",
              "  <tbody>\n",
              "    <tr>\n",
              "      <th>0</th>\n",
              "      <td>a dearth of information</td>\n",
              "      <td><div> but, there is  <font color='red'>a dearth of information</font>  on the strategies to put interdisciplinarity collaboration into practice and no evidence of its effectiveness.</div></td>\n",
              "      <td>0.544548</td>\n",
              "      <td>39194</td>\n",
              "    </tr>\n",
              "    <tr>\n",
              "      <th>1</th>\n",
              "      <td>events do not uniformly report on successes or challenges of collaboration</td>\n",
              "      <td><div> the research found that publications on multisectoral collaboration for health  <font color='red'>events do not uniformly report on successes or challenges of collaboration</font>  and rarely identify outputs or outcomes of the collaborative process.</div></td>\n",
              "      <td>0.277102</td>\n",
              "      <td>9614</td>\n",
              "    </tr>\n",
              "    <tr>\n",
              "      <th>2</th>\n",
              "      <td>that broad representation and the involvement of provincial governors are crucial to promote inter sectoral cooperation and high level stewardship (cam 04)</td>\n",
              "      <td><div> one informant in cambodia stressed  <font color='red'>that broad representation and the involvement of provincial governors are crucial to promote inter sectoral cooperation and high level stewardship (cam 04)</font> .</div></td>\n",
              "      <td>0.074707</td>\n",
              "      <td>4646</td>\n",
              "    </tr>\n",
              "    <tr>\n",
              "      <th>3</th>\n",
              "      <td>: lessons from southeast asia abstract</td>\n",
              "      <td><div>sharing public health data and information across borders  <font color='red'>: lessons from southeast asia abstract</font> </div></td>\n",
              "      <td>0.033881</td>\n",
              "      <td>4646</td>\n",
              "    </tr>\n",
              "    <tr>\n",
              "      <th>4</th>\n",
              "      <td>following case studies</td>\n",
              "      <td><div> these  <font color='red'>following case studies</font>  show how cooperative approaches are important between veterinary services, human health services and other relevant government services at the interface between domestic and wild animals, ecosystems and human populations.</div></td>\n",
              "      <td>0.023096</td>\n",
              "      <td>39194</td>\n",
              "    </tr>\n",
              "  </tbody>\n",
              "</table>"
            ],
            "text/plain": [
              "<IPython.core.display.HTML object>"
            ]
          },
          "metadata": {
            "tags": []
          }
        },
        {
          "output_type": "stream",
          "text": [
            "2019-nCoV, collaboration, sharing What collaborations are happening within the research community\n"
          ],
          "name": "stdout"
        },
        {
          "output_type": "display_data",
          "data": {
            "text/html": [
              ""
            ],
            "text/plain": [
              "<IPython.core.display.HTML object>"
            ]
          },
          "metadata": {
            "tags": []
          }
        },
        {
          "output_type": "stream",
          "text": [
            "No answer for context query\n"
          ],
          "name": "stdout"
        },
        {
          "output_type": "display_data",
          "data": {
            "text/html": [
              ""
            ],
            "text/plain": [
              "<IPython.core.display.HTML object>"
            ]
          },
          "metadata": {
            "tags": []
          }
        },
        {
          "output_type": "display_data",
          "data": {
            "text/html": [
              "<table border=\"1\" class=\"dataframe\">\n",
              "  <thead>\n",
              "    <tr style=\"text-align: right;\">\n",
              "      <th></th>\n",
              "      <th>Candidate Answer</th>\n",
              "      <th>Context</th>\n",
              "      <th>Confidence</th>\n",
              "      <th>Document Reference</th>\n",
              "    </tr>\n",
              "  </thead>\n",
              "  <tbody>\n",
              "    <tr>\n",
              "      <th>0</th>\n",
              "      <td>scientific collaboration</td>\n",
              "      <td><div> <font color='red'>scientific collaboration</font>  and transformative science</div></td>\n",
              "      <td>0.402849</td>\n",
              "      <td>4675</td>\n",
              "    </tr>\n",
              "    <tr>\n",
              "      <th>1</th>\n",
              "      <td>incorporate community based partnerships</td>\n",
              "      <td><div>  <font color='red'>incorporate community based partnerships</font>  into training programs to develp skills to work with local communities.</div></td>\n",
              "      <td>0.091141</td>\n",
              "      <td>4780</td>\n",
              "    </tr>\n",
              "    <tr>\n",
              "      <th>2</th>\n",
              "      <td>of multisectoral collaboration</td>\n",
              "      <td><div>in this discussion, the research team suggests 12 thematic factors that may be used by practitioners involved in one health activities to more systematically assess the successes and challenges  <font color='red'>of multisectoral collaboration</font> , including those contributing to successful outcomes.</div></td>\n",
              "      <td>0.074953</td>\n",
              "      <td>9614</td>\n",
              "    </tr>\n",
              "    <tr>\n",
              "      <th>3</th>\n",
              "      <td>- interorganizational networks and collaboration</td>\n",
              "      <td><div> <font color='red'>- interorganizational networks and collaboration</font> </div></td>\n",
              "      <td>0.073927</td>\n",
              "      <td>5514</td>\n",
              "    </tr>\n",
              "    <tr>\n",
              "      <th>4</th>\n",
              "      <td>the burgeoning of national and international forums and collaborations</td>\n",
              "      <td><div> there is also a swell of interest in oh from the professional and lay communities as evidenced by  <font color='red'>the burgeoning of national and international forums and collaborations</font> .</div></td>\n",
              "      <td>0.059455</td>\n",
              "      <td>39708</td>\n",
              "    </tr>\n",
              "  </tbody>\n",
              "</table>"
            ],
            "text/plain": [
              "<IPython.core.display.HTML object>"
            ]
          },
          "metadata": {
            "tags": []
          }
        },
        {
          "output_type": "stream",
          "text": [
            "What has been published about ethical and social science considerations?\n"
          ],
          "name": "stdout"
        },
        {
          "output_type": "display_data",
          "data": {
            "text/html": [
              ""
            ],
            "text/plain": [
              "<IPython.core.display.HTML object>"
            ]
          },
          "metadata": {
            "tags": []
          }
        },
        {
          "output_type": "display_data",
          "data": {
            "text/html": [
              "<table border=\"1\" class=\"dataframe\">\n",
              "  <thead>\n",
              "    <tr style=\"text-align: right;\">\n",
              "      <th></th>\n",
              "      <th>Candidate Answer</th>\n",
              "      <th>Context</th>\n",
              "      <th>Confidence</th>\n",
              "      <th>Document Reference</th>\n",
              "    </tr>\n",
              "  </thead>\n",
              "  <tbody>\n",
              "    <tr>\n",
              "      <th>0</th>\n",
              "      <td>provide a series of analyses</td>\n",
              "      <td><div> we then  <font color='red'>provide a series of analyses</font>  of the ethical problems and considerations at issue in the dual use dilemma, including the impermissibility of certain kinds of research and possible restrictions on dissemination of research results given the risks to health and security.</div></td>\n",
              "      <td>0.253787</td>\n",
              "      <td>38348</td>\n",
              "    </tr>\n",
              "    <tr>\n",
              "      <th>1</th>\n",
              "      <td>with recommendations for bringing these ethical considerations into policy development</td>\n",
              "      <td><div> we address several potential objections to this view, and conclude  <font color='red'>with recommendations for bringing these ethical considerations into policy development</font> .</div></td>\n",
              "      <td>0.130427</td>\n",
              "      <td>39832</td>\n",
              "    </tr>\n",
              "    <tr>\n",
              "      <th>2</th>\n",
              "      <td>the malay science fiction novels</td>\n",
              "      <td><div>ethical concerns about human genetic enhancement in  <font color='red'>the malay science fiction novels</font>  abstract</div></td>\n",
              "      <td>0.114329</td>\n",
              "      <td>37403</td>\n",
              "    </tr>\n",
              "    <tr>\n",
              "      <th>3</th>\n",
              "      <td>the selected malay science fiction novels</td>\n",
              "      <td><div>ethical concerns about human genetic enhancement in  <font color='red'>the selected malay science fiction novels</font> </div></td>\n",
              "      <td>0.104849</td>\n",
              "      <td>37403</td>\n",
              "    </tr>\n",
              "    <tr>\n",
              "      <th>4</th>\n",
              "      <td>statement on scientific publication and security</td>\n",
              "      <td><div> <font color='red'>statement on scientific publication and security</font> </div></td>\n",
              "      <td>0.101011</td>\n",
              "      <td>38348</td>\n",
              "    </tr>\n",
              "  </tbody>\n",
              "</table>"
            ],
            "text/plain": [
              "<IPython.core.display.HTML object>"
            ]
          },
          "metadata": {
            "tags": []
          }
        },
        {
          "output_type": "stream",
          "text": [
            "ethics, pandemic What are the major ethical issues related pandemic outbreaks\n"
          ],
          "name": "stdout"
        },
        {
          "output_type": "display_data",
          "data": {
            "text/html": [
              ""
            ],
            "text/plain": [
              "<IPython.core.display.HTML object>"
            ]
          },
          "metadata": {
            "tags": []
          }
        },
        {
          "output_type": "display_data",
          "data": {
            "text/html": [
              "<table border=\"1\" class=\"dataframe\">\n",
              "  <thead>\n",
              "    <tr style=\"text-align: right;\">\n",
              "      <th></th>\n",
              "      <th>Candidate Answer</th>\n",
              "      <th>Context</th>\n",
              "      <th>Confidence</th>\n",
              "      <th>Document Reference</th>\n",
              "    </tr>\n",
              "  </thead>\n",
              "  <tbody>\n",
              "    <tr>\n",
              "      <th>0</th>\n",
              "      <td>and disaster planning and response</td>\n",
              "      <td><div> given the increasingly abundant literature pertaining to ethics in pandemic  <font color='red'>and disaster planning and response</font> , global health ethics and humanitarian health ethics, which includes explicit guidance for pandemic preparedness and response, we must redouble efforts to translate this research into policy and practice.</div></td>\n",
              "      <td>0.342988</td>\n",
              "      <td>15457</td>\n",
              "    </tr>\n",
              "    <tr>\n",
              "      <th>1</th>\n",
              "      <td>for prevention, preparedness, response, and recovery</td>\n",
              "      <td><div>variations in the many characteristics of infectious diseases have unique and significant ethical implications  <font color='red'>for prevention, preparedness, response, and recovery</font> </div></td>\n",
              "      <td>0.273994</td>\n",
              "      <td>19776</td>\n",
              "    </tr>\n",
              "    <tr>\n",
              "      <th>2</th>\n",
              "      <td>recurring tension in public health between the rights of individual liberties versus public health promotion</td>\n",
              "      <td><div> one of the chief ethical issues raised by both the 1918 influenza pandemic and also by the sars outbreak in 2003 was the  <font color='red'>recurring tension in public health between the rights of individual liberties versus public health promotion</font>  [ 34 ].</div></td>\n",
              "      <td>0.088017</td>\n",
              "      <td>8753</td>\n",
              "    </tr>\n",
              "    <tr>\n",
              "      <th>3</th>\n",
              "      <td>ethics sensitivity</td>\n",
              "      <td><div> <font color='red'>ethics sensitivity</font>  of the ghana national integrated strategic response plan for pandemic influenza abstract</div></td>\n",
              "      <td>0.048220</td>\n",
              "      <td>8753</td>\n",
              "    </tr>\n",
              "    <tr>\n",
              "      <th>4</th>\n",
              "      <td>including low literacy level, poverty, and trust of and / or deference to health authorities</td>\n",
              "      <td><div> many related issues were discussed,  <font color='red'>including low literacy level, poverty, and trust of and / or deference to health authorities</font> .</div></td>\n",
              "      <td>0.042811</td>\n",
              "      <td>5880</td>\n",
              "    </tr>\n",
              "  </tbody>\n",
              "</table>"
            ],
            "text/plain": [
              "<IPython.core.display.HTML object>"
            ]
          },
          "metadata": {
            "tags": []
          }
        },
        {
          "output_type": "stream",
          "text": [
            "2019-nCoV, physical OR psychological How do pandemics affect the physical and/or psychological health of doctors and nurses\n"
          ],
          "name": "stdout"
        },
        {
          "output_type": "display_data",
          "data": {
            "text/html": [
              ""
            ],
            "text/plain": [
              "<IPython.core.display.HTML object>"
            ]
          },
          "metadata": {
            "tags": []
          }
        },
        {
          "output_type": "display_data",
          "data": {
            "text/html": [
              "<table border=\"1\" class=\"dataframe\">\n",
              "  <thead>\n",
              "    <tr style=\"text-align: right;\">\n",
              "      <th></th>\n",
              "      <th>Candidate Answer</th>\n",
              "      <th>Context</th>\n",
              "      <th>Confidence</th>\n",
              "      <th>Document Reference</th>\n",
              "    </tr>\n",
              "  </thead>\n",
              "  <tbody>\n",
              "    <tr>\n",
              "      <th>0</th>\n",
              "      <td>the physical well being of nurses could obviously be threatened in the course of the hsi pandemic. additionally, the fight against the pandemic flu could create considerable psychological</td>\n",
              "      <td><div> <font color='red'>the physical well being of nurses could obviously be threatened in the course of the hsi pandemic. additionally, the fight against the pandemic flu could create considerable psychological</font>  effects to nurses.</div></td>\n",
              "      <td>0.318475</td>\n",
              "      <td>38778</td>\n",
              "    </tr>\n",
              "    <tr>\n",
              "      <th>1</th>\n",
              "      <td>placing an enormous emotional and psychological burden on teams and individuals, as well as families</td>\n",
              "      <td><div> nurses and doctors in critical care are having to inform families of bereavement by phone, or share last moments via teleconferencing and videoconferencing facilities,  <font color='red'>placing an enormous emotional and psychological burden on teams and individuals, as well as families</font> .</div></td>\n",
              "      <td>0.186944</td>\n",
              "      <td>34523</td>\n",
              "    </tr>\n",
              "    <tr>\n",
              "      <th>2</th>\n",
              "      <td>significant psychological impact</td>\n",
              "      <td><div> data from recent public opinion polls show that 2019 n co v is having a  <font color='red'>significant psychological impact</font> .</div></td>\n",
              "      <td>0.127990</td>\n",
              "      <td>21317</td>\n",
              "    </tr>\n",
              "    <tr>\n",
              "      <th>3</th>\n",
              "      <td>the psychological</td>\n",
              "      <td><div> therefore, increased attention should be paid to  <font color='red'>the psychological</font>  problems of the medical staff, especially n flns, and gp under the situation of the spread and control of covid 19.</div></td>\n",
              "      <td>0.090535</td>\n",
              "      <td>119</td>\n",
              "    </tr>\n",
              "    <tr>\n",
              "      <th>4</th>\n",
              "      <td>the physical and psychological health of medical staff is at risk</td>\n",
              "      <td><div> chinese medical staff have shown professionalism and care, but  <font color='red'>the physical and psychological health of medical staff is at risk</font>  when working under such conditions, and anxiety and stress can also adversely affect sleep.</div></td>\n",
              "      <td>0.080278</td>\n",
              "      <td>11888</td>\n",
              "    </tr>\n",
              "  </tbody>\n",
              "</table>"
            ],
            "text/plain": [
              "<IPython.core.display.HTML object>"
            ]
          },
          "metadata": {
            "tags": []
          }
        },
        {
          "output_type": "stream",
          "text": [
            "2019-nCoV, physical OR psychological What strategies can help doctors and nurses cope with stress in a pandemic\n"
          ],
          "name": "stdout"
        },
        {
          "output_type": "display_data",
          "data": {
            "text/html": [
              ""
            ],
            "text/plain": [
              "<IPython.core.display.HTML object>"
            ]
          },
          "metadata": {
            "tags": []
          }
        },
        {
          "output_type": "display_data",
          "data": {
            "text/html": [
              "<table border=\"1\" class=\"dataframe\">\n",
              "  <thead>\n",
              "    <tr style=\"text-align: right;\">\n",
              "      <th></th>\n",
              "      <th>Candidate Answer</th>\n",
              "      <th>Context</th>\n",
              "      <th>Confidence</th>\n",
              "      <th>Document Reference</th>\n",
              "    </tr>\n",
              "  </thead>\n",
              "  <tbody>\n",
              "    <tr>\n",
              "      <th>0</th>\n",
              "      <td>the mental</td>\n",
              "      <td><div>interventions to reduce  <font color='red'>the mental</font>  health impact of viral outbreaks in hcws</div></td>\n",
              "      <td>0.261496</td>\n",
              "      <td>659</td>\n",
              "    </tr>\n",
              "    <tr>\n",
              "      <th>1</th>\n",
              "      <td>: psychological</td>\n",
              "      <td><div>facing sars  <font color='red'>: psychological</font>  impacts on sars team nurses and psychiatric services in a taiwan general hospital abstract</div></td>\n",
              "      <td>0.260604</td>\n",
              "      <td>16882</td>\n",
              "    </tr>\n",
              "    <tr>\n",
              "      <th>2</th>\n",
              "      <td>coping strategies</td>\n",
              "      <td><div> topics related to their sars experiences were discussed in these two groups, such as the psychological conflicts and stresses experienced in this mission,  <font color='red'>coping strategies</font>  and possible preventive or intervening measures for staff.</div></td>\n",
              "      <td>0.095482</td>\n",
              "      <td>16882</td>\n",
              "    </tr>\n",
              "    <tr>\n",
              "      <th>3</th>\n",
              "      <td>psychological</td>\n",
              "      <td><div> <font color='red'>psychological</font>  status of medical workforce during the covid 19 pandemic : a cross sectional study highlights : title </div></td>\n",
              "      <td>0.035524</td>\n",
              "      <td>38045</td>\n",
              "    </tr>\n",
              "    <tr>\n",
              "      <th>4</th>\n",
              "      <td>) coping strategies</td>\n",
              "      <td><div> the sars team questionnaire consists of 72 items that assess six areas : (a) immediate reactions to the mission ; (b) major stressors inherent in caring for sars patients ; (c) effective measures to reduce stress ; (d <font color='red'>) coping strategies</font>  ; (e) motivators to join future missions ; and (f) evaluation of psychiatric services.</div></td>\n",
              "      <td>0.034260</td>\n",
              "      <td>16882</td>\n",
              "    </tr>\n",
              "  </tbody>\n",
              "</table>"
            ],
            "text/plain": [
              "<IPython.core.display.HTML object>"
            ]
          },
          "metadata": {
            "tags": []
          }
        },
        {
          "output_type": "stream",
          "text": [
            "2019-nCoV, misinformation OR social media What factors contribute to rumors and misinformation\n"
          ],
          "name": "stdout"
        },
        {
          "output_type": "display_data",
          "data": {
            "text/html": [
              ""
            ],
            "text/plain": [
              "<IPython.core.display.HTML object>"
            ]
          },
          "metadata": {
            "tags": []
          }
        },
        {
          "output_type": "display_data",
          "data": {
            "text/html": [
              "<table border=\"1\" class=\"dataframe\">\n",
              "  <thead>\n",
              "    <tr style=\"text-align: right;\">\n",
              "      <th></th>\n",
              "      <th>Candidate Answer</th>\n",
              "      <th>Context</th>\n",
              "      <th>Confidence</th>\n",
              "      <th>Document Reference</th>\n",
              "    </tr>\n",
              "  </thead>\n",
              "  <tbody>\n",
              "    <tr>\n",
              "      <th>0</th>\n",
              "      <td>of social media in its propagation</td>\n",
              "      <td><div> overall, we observe an increasing trend in published articles on health related misinformation and the role  <font color='red'>of social media in its propagation</font> .</div></td>\n",
              "      <td>0.279068</td>\n",
              "      <td>39257</td>\n",
              "    </tr>\n",
              "    <tr>\n",
              "      <th>1</th>\n",
              "      <td>misinformation or poorly communicated information can contribute to negative health behaviours and adverse health outcomes amongst consumers</td>\n",
              "      <td><div> moreover,  <font color='red'>misinformation or poorly communicated information can contribute to negative health behaviours and adverse health outcomes amongst consumers</font>  [ 61 ], as well as hysteria and chaos.</div></td>\n",
              "      <td>0.113688</td>\n",
              "      <td>35738</td>\n",
              "    </tr>\n",
              "    <tr>\n",
              "      <th>2</th>\n",
              "      <td>misinformation or poorly communicated information can contribute to negative health behaviours and adverse health outcomes amongst consumers</td>\n",
              "      <td><div>  <font color='red'>misinformation or poorly communicated information can contribute to negative health behaviours and adverse health outcomes amongst consumers</font> , as well as hysteria and chaos.</div></td>\n",
              "      <td>0.106842</td>\n",
              "      <td>35738</td>\n",
              "    </tr>\n",
              "    <tr>\n",
              "      <th>3</th>\n",
              "      <td>poor quality of information</td>\n",
              "      <td><div>  <font color='red'>poor quality of information</font>  and the misinformation potential of social media are at the forefront of these concerns [ 24,25,42,47 ].</div></td>\n",
              "      <td>0.060692</td>\n",
              "      <td>35738</td>\n",
              "    </tr>\n",
              "    <tr>\n",
              "      <th>4</th>\n",
              "      <td>2019 stories, theories, or opinions that spread rapidly through social contacts or online media. they differ primarily with respect to intent and mode of spread</td>\n",
              "      <td><div> 112552 received 21 january 2019 ; received in revised form 29 august 2019 ; accepted 12 september  <font color='red'>2019 stories, theories, or opinions that spread rapidly through social contacts or online media. they differ primarily with respect to intent and mode of spread</font> .</div></td>\n",
              "      <td>0.041755</td>\n",
              "      <td>39257</td>\n",
              "    </tr>\n",
              "  </tbody>\n",
              "</table>"
            ],
            "text/plain": [
              "<IPython.core.display.HTML object>"
            ]
          },
          "metadata": {
            "tags": []
          }
        },
        {
          "output_type": "stream",
          "text": [
            "Other interesting Questions\n"
          ],
          "name": "stdout"
        },
        {
          "output_type": "display_data",
          "data": {
            "text/html": [
              ""
            ],
            "text/plain": [
              "<IPython.core.display.HTML object>"
            ]
          },
          "metadata": {
            "tags": []
          }
        },
        {
          "output_type": "display_data",
          "data": {
            "text/html": [
              "<table border=\"1\" class=\"dataframe\">\n",
              "  <thead>\n",
              "    <tr style=\"text-align: right;\">\n",
              "      <th></th>\n",
              "      <th>Candidate Answer</th>\n",
              "      <th>Context</th>\n",
              "      <th>Confidence</th>\n",
              "      <th>Document Reference</th>\n",
              "    </tr>\n",
              "  </thead>\n",
              "  <tbody>\n",
              "    <tr>\n",
              "      <th>0</th>\n",
              "      <td>also highlighted questions and challenges for researchers and clinicians</td>\n",
              "      <td><div> recent studies of the lung microbiome have yielded a number of interesting findings but  <font color='red'>also highlighted questions and challenges for researchers and clinicians</font> .</div></td>\n",
              "      <td>0.903690</td>\n",
              "      <td>31375</td>\n",
              "    </tr>\n",
              "    <tr>\n",
              "      <th>1</th>\n",
              "      <td>is not necessarily of earth shattering importance</td>\n",
              "      <td><div> having said that, if you will need a lot of funds for the question you are posing, it is best for first projects either to be part of a team that is already successful (as was the case for me in the ec ic study) or to start small, in the form of either a preliminary study to address issues of feasibility for a larger trial or a study that addresses an interesting question (that  <font color='red'>is not necessarily of earth shattering importance</font> ).</div></td>\n",
              "      <td>0.031637</td>\n",
              "      <td>22588</td>\n",
              "    </tr>\n",
              "    <tr>\n",
              "      <th>2</th>\n",
              "      <td>the anfis</td>\n",
              "      <td><div> the fuzzy inference system and  <font color='red'>the anfis</font>  technique were used as shown in 17.</div></td>\n",
              "      <td>0.027867</td>\n",
              "      <td>38718</td>\n",
              "    </tr>\n",
              "    <tr>\n",
              "      <th>3</th>\n",
              "      <td>are how to deal with questions and manage conversations during these sessions.</td>\n",
              "      <td><div> also discussed  <font color='red'>are how to deal with questions and manage conversations during these sessions.</font> </div></td>\n",
              "      <td>0.010171</td>\n",
              "      <td>17230</td>\n",
              "    </tr>\n",
              "    <tr>\n",
              "      <th>4</th>\n",
              "      <td>and views of the research field</td>\n",
              "      <td><div> by doing so, we believe that a scientist can better understand the perspectives and the trends of this type of research that has been conducted and goes into depth, finding interesting questions  <font color='red'>and views of the research field</font> , potentially for a future work.</div></td>\n",
              "      <td>0.004270</td>\n",
              "      <td>33117</td>\n",
              "    </tr>\n",
              "  </tbody>\n",
              "</table>"
            ],
            "text/plain": [
              "<IPython.core.display.HTML object>"
            ]
          },
          "metadata": {
            "tags": []
          }
        },
        {
          "output_type": "stream",
          "text": [
            "2019-nCoV, immune system, immunity, antibodie What is the immune system response to 2019-nCoV\n"
          ],
          "name": "stdout"
        },
        {
          "output_type": "display_data",
          "data": {
            "text/html": [
              ""
            ],
            "text/plain": [
              "<IPython.core.display.HTML object>"
            ]
          },
          "metadata": {
            "tags": []
          }
        },
        {
          "output_type": "display_data",
          "data": {
            "text/html": [
              "<table border=\"1\" class=\"dataframe\">\n",
              "  <thead>\n",
              "    <tr style=\"text-align: right;\">\n",
              "      <th></th>\n",
              "      <th>Candidate Answer</th>\n",
              "      <th>Context</th>\n",
              "      <th>Confidence</th>\n",
              "      <th>Document Reference</th>\n",
              "    </tr>\n",
              "  </thead>\n",
              "  <tbody>\n",
              "    <tr>\n",
              "      <th>0</th>\n",
              "      <td>antiviral therapy</td>\n",
              "      <td><div> <font color='red'>antiviral therapy</font> </div></td>\n",
              "      <td>0.120819</td>\n",
              "      <td>31917</td>\n",
              "    </tr>\n",
              "    <tr>\n",
              "      <th>1</th>\n",
              "      <td>traveler screening</td>\n",
              "      <td><div> <font color='red'>traveler screening</font> </div></td>\n",
              "      <td>0.091543</td>\n",
              "      <td>31917</td>\n",
              "    </tr>\n",
              "    <tr>\n",
              "      <th>2</th>\n",
              "      <td>broad spectrum antiviral</td>\n",
              "      <td><div> <font color='red'>broad spectrum antiviral</font> </div></td>\n",
              "      <td>0.080685</td>\n",
              "      <td>31917</td>\n",
              "    </tr>\n",
              "    <tr>\n",
              "      <th>3</th>\n",
              "      <td>regulating networks after infection</td>\n",
              "      <td><div> <font color='red'>regulating networks after infection</font> </div></td>\n",
              "      <td>0.079136</td>\n",
              "      <td>596</td>\n",
              "    </tr>\n",
              "    <tr>\n",
              "      <th>4</th>\n",
              "      <td>nucleoside analogs</td>\n",
              "      <td><div> <font color='red'>nucleoside analogs</font> </div></td>\n",
              "      <td>0.076964</td>\n",
              "      <td>31917</td>\n",
              "    </tr>\n",
              "  </tbody>\n",
              "</table>"
            ],
            "text/plain": [
              "<IPython.core.display.HTML object>"
            ]
          },
          "metadata": {
            "tags": []
          }
        },
        {
          "output_type": "stream",
          "text": [
            "2019-nCoV, ppe Can personal protective equipment prevent the transmission of 2019-nCoV\n"
          ],
          "name": "stdout"
        },
        {
          "output_type": "display_data",
          "data": {
            "text/html": [
              ""
            ],
            "text/plain": [
              "<IPython.core.display.HTML object>"
            ]
          },
          "metadata": {
            "tags": []
          }
        },
        {
          "output_type": "display_data",
          "data": {
            "text/html": [
              "<table border=\"1\" class=\"dataframe\">\n",
              "  <thead>\n",
              "    <tr style=\"text-align: right;\">\n",
              "      <th></th>\n",
              "      <th>Candidate Answer</th>\n",
              "      <th>Context</th>\n",
              "      <th>Confidence</th>\n",
              "      <th>Document Reference</th>\n",
              "    </tr>\n",
              "  </thead>\n",
              "  <tbody>\n",
              "    <tr>\n",
              "      <th>0</th>\n",
              "      <td>prevention of 2019 n co v transmission, like any other infectious agent, involves minimizing risk of exposure</td>\n",
              "      <td><div> <font color='red'>prevention of 2019 n co v transmission, like any other infectious agent, involves minimizing risk of exposure</font> .</div></td>\n",
              "      <td>0.669898</td>\n",
              "      <td>10694</td>\n",
              "    </tr>\n",
              "    <tr>\n",
              "      <th>1</th>\n",
              "      <td>the mode of transmission has implications for the types of personal protective equipment (ppe) needed to protect healthcare providers in the prehospital, clinic, and hospital settings</td>\n",
              "      <td><div>  <font color='red'>the mode of transmission has implications for the types of personal protective equipment (ppe) needed to protect healthcare providers in the prehospital, clinic, and hospital settings</font> .</div></td>\n",
              "      <td>0.172026</td>\n",
              "      <td>10694</td>\n",
              "    </tr>\n",
              "    <tr>\n",
              "      <th>2</th>\n",
              "      <td>on personal protection equipment and dress code modalities, implemented in our hospital to prevent further dissemination of covid 19 infection</td>\n",
              "      <td><div> the purpose of this article is to discuss the measures, with specific focus  <font color='red'>on personal protection equipment and dress code modalities, implemented in our hospital to prevent further dissemination of covid 19 infection</font> .</div></td>\n",
              "      <td>0.090197</td>\n",
              "      <td>21943</td>\n",
              "    </tr>\n",
              "    <tr>\n",
              "      <th>3</th>\n",
              "      <td>that wearing personal protective equipment can effectively reduce or even block the spread of respiratory infectious diseases</td>\n",
              "      <td><div> a systematic review based on randomized controlled trials confirmed  <font color='red'>that wearing personal protective equipment can effectively reduce or even block the spread of respiratory infectious diseases</font>  [ 19 ], thereby protecting medical personnel and other patients.</div></td>\n",
              "      <td>0.035261</td>\n",
              "      <td>13372</td>\n",
              "    </tr>\n",
              "    <tr>\n",
              "      <th>4</th>\n",
              "      <td>the epicentre of the epidemic in china provided an early warning for europe to allow the preparation of preventive measures, and specific organisational processes were rapidly adopted. patients returning from china, and in particular from hubei province are quarantined for 14 days. anyone who develops symptoms that could suggest a coronavirus infection are encouraged to call a single emergency number and if covid 19 is suspected, they are managed at their location by a specialised medical team equipped with ppe to prevent viral contamination</td>\n",
              "      <td><div> <font color='red'>the epicentre of the epidemic in china provided an early warning for europe to allow the preparation of preventive measures, and specific organisational processes were rapidly adopted. patients returning from china, and in particular from hubei province are quarantined for 14 days. anyone who develops symptoms that could suggest a coronavirus infection are encouraged to call a single emergency number and if covid 19 is suspected, they are managed at their location by a specialised medical team equipped with ppe to prevent viral contamination</font> , and when necessary, hospitalised in an intensive care unit.</div></td>\n",
              "      <td>0.020850</td>\n",
              "      <td>24707</td>\n",
              "    </tr>\n",
              "  </tbody>\n",
              "</table>"
            ],
            "text/plain": [
              "<IPython.core.display.HTML object>"
            ]
          },
          "metadata": {
            "tags": []
          }
        },
        {
          "output_type": "stream",
          "text": [
            "2019-nCoV, reinfected Can 2019-nCoV infect patients a second time\n"
          ],
          "name": "stdout"
        },
        {
          "output_type": "display_data",
          "data": {
            "text/html": [
              ""
            ],
            "text/plain": [
              "<IPython.core.display.HTML object>"
            ]
          },
          "metadata": {
            "tags": []
          }
        },
        {
          "output_type": "stream",
          "text": [
            "No answer for context query\n"
          ],
          "name": "stdout"
        },
        {
          "output_type": "display_data",
          "data": {
            "text/html": [
              ""
            ],
            "text/plain": [
              "<IPython.core.display.HTML object>"
            ]
          },
          "metadata": {
            "tags": []
          }
        },
        {
          "output_type": "display_data",
          "data": {
            "text/html": [
              "<table border=\"1\" class=\"dataframe\">\n",
              "  <thead>\n",
              "    <tr style=\"text-align: right;\">\n",
              "      <th></th>\n",
              "      <th>Candidate Answer</th>\n",
              "      <th>Context</th>\n",
              "      <th>Confidence</th>\n",
              "      <th>Document Reference</th>\n",
              "    </tr>\n",
              "  </thead>\n",
              "  <tbody>\n",
              "    <tr>\n",
              "      <th>0</th>\n",
              "      <td>for the third time in as many decades, a zoonotic coronavirus has crossed species to infect human populations</td>\n",
              "      <td><div> <font color='red'>for the third time in as many decades, a zoonotic coronavirus has crossed species to infect human populations</font> .</div></td>\n",
              "      <td>1.0</td>\n",
              "      <td>22590</td>\n",
              "    </tr>\n",
              "  </tbody>\n",
              "</table>"
            ],
            "text/plain": [
              "<IPython.core.display.HTML object>"
            ]
          },
          "metadata": {
            "tags": []
          }
        }
      ]
    }
  ]
}